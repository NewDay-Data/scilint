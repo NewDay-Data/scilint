{
 "cells": [
  {
   "cell_type": "code",
   "execution_count": null,
   "id": "88ed18b8-d11d-4d54-be78-b9911c55990a",
   "metadata": {},
   "outputs": [],
   "source": [
    "# | hide"
   ]
  },
  {
   "cell_type": "markdown",
   "id": "d1051971-7060-4f19-90ab-512d2e9dcdbe",
   "metadata": {
    "tags": []
   },
   "source": [
    "# 🧐 `scilint`\n",
    "\n",
    "*infuse quality into notebook based workflows with a new type of build tool*\n",
    "\n",
    "---\n",
    "\n",
    "`scilint` aims to **bring a style and quality standard into notebook based Data Science workflows**. How you define a quality notebook is difficult and somewhat subjective. It can have the obvious meaning of being free of bugs but also legibility and ease of comprehension are important too.\n",
    "\n",
    "`scilint` takes the approach of breaking down potentially quality relevant aspects of the notebook and providing what we believe are sensible defaults that potentially correlate with higher quality workflows. We also let users define the quality line as they see fit through configuration of existing thresholds and ability to add new metrics. As use of the library grows we anticipate being able to statistically relate some of the quality relevant attributes to key delivery metrics like \"change failure rate\" or \"lead time to production\"."
   ]
  },
  {
   "cell_type": "markdown",
   "id": "0e5be5a1-e1cd-4265-87d0-10adc4a6744d",
   "metadata": {},
   "source": [
    "# Standing on the shoulders of giants - *an nbdev library*\n",
    "\n",
    "> `scilint` is written on top of the excellent `nbdev` library. This library is revolutionary as it truly optimises all the benefits of notebooks and compensates for some of their weaker points. For more information on `nbdev` see the [homepage](https://nbdev.fast.ai/) or [github repo](https://github.com/fastai/nbdev)"
   ]
  },
  {
   "cell_type": "markdown",
   "id": "b197b310-9322-4d8a-bb07-10a53ef6d64d",
   "metadata": {},
   "source": [
    "# Getting Started"
   ]
  },
  {
   "cell_type": "markdown",
   "id": "38cf9a5b-26ef-4a55-925d-299caf401c55",
   "metadata": {
    "tags": []
   },
   "source": [
    "`pip install scilint`"
   ]
  },
  {
   "cell_type": "markdown",
   "id": "8c70ff8c-7953-4354-a355-9e15551c9b4a",
   "metadata": {},
   "source": [
    "`scilint` has the following main features/commands:\n",
    "    \n",
    "* `scilint_tidy`: run an in-place opinionated flavour of [nbQA](https://github.com/nbQA-dev/nbQA) to tidy up your ntoebooks\n",
    "* `scilint_lint`: inspect the notebooks for potential quality correlates and report on the findings\n",
    "* `scilint_build`: the build command for notebooks: ensuring they all run, pass their tests and meet a consistent style/quality standard"
   ]
  },
  {
   "cell_type": "markdown",
   "id": "054c49e3-3126-4546-966a-344748ec3d66",
   "metadata": {},
   "source": [
    "# Contributing"
   ]
  },
  {
   "cell_type": "markdown",
   "id": "b6aede16-ad31-4820-ab1c-11c6e1e36980",
   "metadata": {
    "tags": []
   },
   "source": [
    "After you clone this repository, please run nbdev_install_hooks in your terminal. This sets up git hooks, which clean up the notebooks to remove the extraneous stuff stored in the notebooks (e.g. which cells you ran) which causes unnecessary merge conflicts.\n",
    "\n",
    "To run the tests in parallel, launch nbdev_test.\n",
    "\n",
    "Before submitting a PR, check that the local library and notebooks match.\n",
    "\n",
    "If you made a change to the notebooks in one of the exported cells, you can export it to the library with nbdev_prepare.\n",
    "If you made a change to the library, you can export it back to the notebooks with nbdev_update."
   ]
  },
  {
   "cell_type": "code",
   "execution_count": null,
   "id": "5bf6e816-0a65-469d-bba0-1aa6661d2502",
   "metadata": {},
   "outputs": [],
   "source": []
  }
 ],
 "metadata": {
  "kernelspec": {
   "display_name": "python3__SAGEMAKER_INTERNAL__arn:aws:sagemaker:eu-west-1:368653567616:image-version/sciflow/3",
   "language": "python",
   "name": "python3__SAGEMAKER_INTERNAL__arn:aws:sagemaker:eu-west-1:368653567616:image-version/sciflow/3"
  }
 },
 "nbformat": 4,
 "nbformat_minor": 5
}
