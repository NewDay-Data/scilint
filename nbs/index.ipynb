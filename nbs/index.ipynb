{
 "cells": [
  {
   "cell_type": "markdown",
   "id": "d1051971-7060-4f19-90ab-512d2e9dcdbe",
   "metadata": {
    "tags": []
   },
   "source": [
    "# 🧐 `scilint`\n",
    "\n",
    "*infuse quality into notebook based workflows with a new type of build tool*"
   ]
  },
  {
   "cell_type": "markdown",
   "id": "d0dc58d5-65bb-45f1-90b7-035159f1045a",
   "metadata": {},
   "source": [
    "`scilint` aims to **bring a style and quality standard into notebook based Data Science workflows**. How you define a quality notebook is difficult and somewhat subjective. It can have the obvious meaning of being free of bugs but also legibility and ease of comprehension are important too.\n",
    "\n",
    "`scilint` takes the approach of breaking down potentially quality relevant aspects of the notebook and providing what we believe are sensible defaults that potentially correlate with higher quality workflows. We also let users define the quality line as they see fit through configuration of existing thresholds and ability to add new metrics. As use of the library grows we anticipate being able to statistically relate some of the quality relevant attributes to key delivery metrics like \"change failure rate\" or \"lead time to production\"."
   ]
  },
  {
   "cell_type": "markdown",
   "id": "fedd2095-832c-4689-9e01-da78ec6d176d",
   "metadata": {
    "tags": []
   },
   "source": [
    "# 🤔 Why do I need quality notebooks?\n",
    "\n",
    "*If you prefer to move out of notebook-based workflows, post-exploration to an IDE+Python mix I encourage you to have another ponder on the benefits of staying in a notebook-based workflow. Notebooks have a strong visual emphasis and proximity to data. They are also the primary axis of change within Data Science - new ideas are gained from diving into data. So instead of packing up your code, re-writing it for elsewhere and all the waste that entails bring quality to your exploration workflow and spend more time building stuff that matters.*\n",
    "\n",
    "If you're still not convinced watch this [video](https://www.youtube.com/watch?v=9Q6sLbz37gk) where **Jeremy Howard** does a far better job of explaining why notebooks are for serious development too!\n",
    "\n",
    "# ✅ What is Notebook Quality?\n",
    "This is a good question and this library does not pretend to have the answer. But we feel the problem space is worth exploring because the value of high quality deliveries means lower time-to-market, less time in re-work or rote porting of code and frees people up to think about and solve hard problems.\n",
    "That said, there are some practices that we have observed producing \"better\" notebooks workflows from experience in production Data Science teams. These are: \n",
    "\n",
    "* Extracting code to functions\n",
    "* Testing logic as well as data behaviour\n",
    "* Putting sufficient emphasis on legibility and ease of comprehension through adequate use of markdown\n",
    "\n",
    "These are the starting premises that permit the notebook quality conversation to start. To bring this to life a little, we would say that **the notebook on left is of lower quality than the notebook on the right**.."
   ]
  },
  {
   "cell_type": "markdown",
   "id": "b83f02ab-6af9-42af-9a45-6beffa0c08eb",
   "metadata": {
    "tags": []
   },
   "source": [
    "![Low vs High?](nbs/images/scilint_before_after_prep.png)"
   ]
  },
  {
   "cell_type": "markdown",
   "id": "b197b310-9322-4d8a-bb07-10a53ef6d64d",
   "metadata": {},
   "source": [
    "# 🚀 Getting Started\n",
    "\n",
    "> Please note `sclint` is only tested on linux and macos currently."
   ]
  },
  {
   "cell_type": "markdown",
   "id": "1f4b62b1-4c64-450d-a676-7da5f47d06c5",
   "metadata": {},
   "source": [
    "## Install"
   ]
  },
  {
   "cell_type": "markdown",
   "id": "681be889-ad0f-47a0-b121-c0d9af0c246a",
   "metadata": {
    "tags": []
   },
   "source": [
    "`pip install scilint`"
   ]
  },
  {
   "cell_type": "markdown",
   "id": "23d6b4a6-3ec1-4aa4-bd44-d4df05b5193b",
   "metadata": {
    "tags": []
   },
   "source": [
    "## Commands"
   ]
  },
  {
   "cell_type": "markdown",
   "id": "43c1423a-d953-45f5-88d3-cfc126566e67",
   "metadata": {
    "tags": []
   },
   "source": [
    "### **`scilint_lint`**\n",
    "\n",
    "Exposes potential quality issues within your notebook using some pre-defined checks. Default threshold values for these checks are provided that will enable a build to be marked as passed or failed.\n",
    "\n",
    "#### `--fail_over`\n",
    "\n",
    "> For now a very basic failure threshold is set by providing a number of warnings that will be accepted without failing the build. The default is 1 but this can be increased via the `--fail_over` parameter. As the library matures we will revisit adding more nuanced options.\n",
    "\n",
    "#### `--exclusions`\n",
    "\n",
    "> You can exclude individual notebooks or directories using the `--exclusions` parameter. This is a comma separated list of paths where you can provide directories like \"dir/\" or specific notebooks like \"somenotebook.ipynb\""
   ]
  },
  {
   "cell_type": "markdown",
   "id": "bdb26341-1d85-4200-8e09-7edcf33475d3",
   "metadata": {
    "tags": []
   },
   "source": [
    "![scilint_lint](nbs/images/scilint_lint.png)"
   ]
  },
  {
   "cell_type": "markdown",
   "id": "f0c49e9a-5aae-415f-870e-b3ebb4d068b7",
   "metadata": {
    "tags": []
   },
   "source": [
    "### **`scilint_tidy`**\n",
    "\n",
    "To get a consistent style across your notebooks you can run `scilint_tidy`; this currently runs `autoflake`, `black` and `isort` in-place across all of your notebooks. This function wraps an opinionated flavour of the excellent [nbQA](https://github.com/nbQA-dev/nbQA) library."
   ]
  },
  {
   "cell_type": "markdown",
   "id": "b5d2f4f5-0900-4689-a6f8-a949cf67a022",
   "metadata": {
    "tags": []
   },
   "source": [
    "![scilint_tidy](nbs/images/scilint_tidy.png)"
   ]
  },
  {
   "cell_type": "markdown",
   "id": "76ca5b4c-00dc-443f-afe0-d77080fb9fc8",
   "metadata": {
    "tags": []
   },
   "source": [
    "### **`scilint_build`**\n",
    "\n",
    "Chains existing functions together to form a build script for notebook based projects. Has two versions which are executed automatically on detection of whether your project uses `nbdev` or not.\n",
    "\n",
    "1. Non-nbdev projects chain these commands: `scilint_tidy`, `scilint_lint`\n",
    "1. `nbdev` projects chain the following commands: `scilint_tidy`, [nbdev_export](https://nbdev.fast.ai/api/export.html), [nbdev_test](https://nbdev.fast.ai/api/test.html), `scilint_lint`, [nbdev_clean](https://nbdev.fast.ai/api/clean.html)"
   ]
  },
  {
   "cell_type": "markdown",
   "id": "8fd559fc-53f6-453b-9b6f-4114fa2e30d8",
   "metadata": {},
   "source": [
    "![scilint_build](nbs/images/scilint_build.png)"
   ]
  },
  {
   "cell_type": "markdown",
   "id": "68a1f900-710c-4843-8dcb-e39dcbe979b1",
   "metadata": {},
   "source": [
    "## **`scilint_ci`** [`nbdev` only]\n",
    "\n",
    "Adds documentation generation to `scilint_build`. This requires an `nbdev` project and a working quarto build. Quarto is a core part of the nbdev system, if you are having trouble installing it, check out the `nbdev` Github [page](https://github.com/fastai/nbdev). For more details on the Quarto project, check out their home [page](https://quarto.org/)."
   ]
  },
  {
   "cell_type": "markdown",
   "id": "85b85f80-7001-440d-84b5-2c95f372b6c2",
   "metadata": {},
   "source": [
    "## Potential Quality Indicators\n",
    "\n",
    "The below are potential quality indicators that you can use to set a minimum bar for quality and comprehensibility within your projects. These are not exhaustive or definite quality indicators - they are a starting point to open the conversation about what it means to have  a high quality notebook in practice. "
   ]
  },
  {
   "cell_type": "markdown",
   "id": "003fd97d-cd6f-4eb6-9e94-0a6efd93eb86",
   "metadata": {
    "tags": []
   },
   "source": [
    "1. **Calls-Per-Function {Median, Mean}:** compares the amount of calls to the amount of functions. Looks for possible reletatioship between function definitions and usage.\n",
    "2. **In-Function-Percent:**: the percentage of code that is within a function rather than outside function scope.\n",
    "3. **Asserts-Per-Function:** looks at how many tests (where assert = test) there are compared to the total function count.\n",
    "4. **InlineAssertsPerFunction {Median, Mean}:** examines how many times a function is called within an assert statement - this aims to see testing of functions not just usage.\n",
    "5. **MarkdownToCodeRatio:** what is the ratio of markdown cells to code cells.\n",
    "6. **TotalCodeLen**: the total line length of the notebook.\n",
    "7. **SyntaxErrors**: if the code within the notebook has invalid Python syntax."
   ]
  },
  {
   "cell_type": "markdown",
   "id": "96fb8cf7-4dca-43e6-a749-ce57c78ab9c0",
   "metadata": {},
   "source": [
    ">Note: the amove metrics are a starting point for trying to reason about notebook quality from some properties of the code and markdown within them. There is no definitive answer as to whether any of these are low or high quality. However there are reasons to believe inituitively that higher or lower values of the below will produce higher quality notebooks. There are many questions left ot answer, like the role of docstrings and comments, their effectiveness may warrant inclusion but that is an open quesiton at the moment. As this library is used and refined with more projects and more experimental metrics then these intuitions can evaluated more rigorously."
   ]
  },
  {
   "cell_type": "markdown",
   "id": "0aca48ae-2ed9-4022-94fa-69e7d8729542",
   "metadata": {},
   "source": [
    "### What does a lint report look like?"
   ]
  },
  {
   "cell_type": "markdown",
   "id": "2b9633ff-6327-47f4-9acb-9bd34c820c24",
   "metadata": {
    "tags": []
   },
   "source": [
    "![Sample Report](nbs/images/sample_report.png)"
   ]
  },
  {
   "cell_type": "markdown",
   "id": "49dfe6ab-4294-4994-9c1e-def474097432",
   "metadata": {},
   "source": [
    "# Changing Behaviour - Recommended Usage\n",
    "\n",
    "Infusing quality into workflows is aided by having timely, short-cycle feedback of issues. Addtionally whatever quality bar you choose as a team, it should be non-negotiable that way you can spend time thinking about what matters like the problem you are trying to solve not nit-picking on small details repeatedly.\n",
    "\n",
    "We recommend using `scilint` in the following way to maximise benefit:\n",
    "\n",
    "1. Open a terminal environment alongside your notebook environment: run `scilint_build` to chekc your project is in good shape\n",
    "2. Add pre-commit hooks to run `scilint_build` or `scilint_ci` (`nbdev` only) before your changes are commited. Don't forget to commit your work often!\n",
    "3. Add a CI build job that runs `scilint_build` or `scilint_ci`. A Github action workflow is included in this repo that does just that."
   ]
  },
  {
   "cell_type": "markdown",
   "id": "e41d1112-f5f2-41b1-ab1f-fbe20f058832",
   "metadata": {
    "tags": []
   },
   "source": [
    "![Pre-commit hook](nbs/images/scilint_pre_commit.png)"
   ]
  },
  {
   "cell_type": "markdown",
   "id": "9879143e-5446-4cd8-9537-a2a1cba4b196",
   "metadata": {
    "tags": []
   },
   "source": [
    "# Standing on the shoulders of giants - *an nbdev library*\n",
    "\n",
    "> `scilint` is written on top of the excellent `nbdev` library. This library is revolutionary as it truly optimises all the benefits of notebooks and compensates for some of their weaker points. Converting your libraries to `nbdev` is not required for this tool to work but we argue that it would confer many benefits if you are part of a Production Data Science team. For more information on `nbdev` see the [homepage](https://nbdev.fast.ai/) or [github repo](https://github.com/fastai/nbdev)"
   ]
  },
  {
   "cell_type": "markdown",
   "id": "054c49e3-3126-4546-966a-344748ec3d66",
   "metadata": {},
   "source": [
    "# 👍 Contributing"
   ]
  },
  {
   "cell_type": "markdown",
   "id": "b6aede16-ad31-4820-ab1c-11c6e1e36980",
   "metadata": {
    "tags": []
   },
   "source": [
    "After you clone this repository, please run nbdev_install_hooks in your terminal. This sets up git hooks, which clean up the notebooks to remove the extraneous stuff stored in the notebooks (e.g. which cells you ran) which causes unnecessary merge conflicts.\n",
    "\n",
    "To run the tests in parallel, launch nbdev_test.\n",
    "\n",
    "Before submitting a PR, check that the local library and notebooks match.\n",
    "\n",
    "If you made a change to the notebooks in one of the exported cells, you can export it to the library with nbdev_prepare.\n",
    "If you made a change to the library, you can export it back to the notebooks with nbdev_update."
   ]
  },
  {
   "cell_type": "markdown",
   "id": "63dfd3aa-3919-4f79-900f-ebaf66d5bcd0",
   "metadata": {
    "tags": []
   },
   "source": [
    "# 🤓 Start using `nbdev`!\n",
    "\n",
    "In case you hadn't guessed yet we are big `nbdev` fans. `scilint` has a better developer experience on an `nbdev` project and is more fully featured but mostly because it will really help you when trying to move from exploratory development to production processes.\n",
    "\n",
    "`nbdev` contains many features that are useful for Data Science workflows; too many in fact to cover here. We will focus on the major features we consider to have significant for Production Data Science teams:\n",
    "\n",
    "1. Explicit separation of exploration from what is **fundamental** for the workflow to execute using the `export` directive.\n",
    "2. Introducing a test runner for notebook-based repos. \n",
    "3. In-flow documentation of a notebook that is focused on the reader and powerfully expressive thanks to Quarto Markdown (aids building towards published reproducible research)\n",
    "4. Git friendly workflow via pre-commit hooks."
   ]
  }
 ],
 "metadata": {
  "kernelspec": {
   "display_name": "python3__SAGEMAKER_INTERNAL__arn:aws:sagemaker:eu-west-1:368653567616:image-version/sciflow/3",
   "language": "python",
   "name": "python3__SAGEMAKER_INTERNAL__arn:aws:sagemaker:eu-west-1:368653567616:image-version/sciflow/3"
  }
 },
 "nbformat": 4,
 "nbformat_minor": 5
}
