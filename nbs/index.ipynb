{
 "cells": [
  {
   "cell_type": "raw",
   "id": "e63ef018",
   "metadata": {},
   "source": [
    "---\n",
    "{}\n",
    "\n",
    "---\n",
    "\n"
   ]
  },
  {
   "cell_type": "markdown",
   "id": "d1051971-7060-4f19-90ab-512d2e9dcdbe",
   "metadata": {},
   "source": [
    "README"
   ]
  },
  {
   "cell_type": "code",
   "execution_count": null,
   "id": "c77af761-bf52-465a-aa56-4daf3d21c10d",
   "metadata": {},
   "outputs": [],
   "source": []
  }
 ],
 "metadata": {
  "kernelspec": {
   "display_name": "python3__SAGEMAKER_INTERNAL__arn:aws:sagemaker:eu-west-1:368653567616:image-version/sciflow/3",
   "language": "python",
   "name": "python3__SAGEMAKER_INTERNAL__arn:aws:sagemaker:eu-west-1:368653567616:image-version/sciflow/3"
  }
 },
 "nbformat": 4,
 "nbformat_minor": 5
}
