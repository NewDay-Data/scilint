{
 "cells": [
  {
   "cell_type": "markdown",
   "id": "d1051971-7060-4f19-90ab-512d2e9dcdbe",
   "metadata": {
    "tags": []
   },
   "source": [
    "# 🧐 `scilint`\n",
    "\n",
    "*infuse quality into notebook based workflows with a new type of build tool*"
   ]
  },
  {
   "cell_type": "markdown",
   "id": "d0dc58d5-65bb-45f1-90b7-035159f1045a",
   "metadata": {},
   "source": [
    "`scilint` aims to **bring a style and quality standard into notebook based Data Science workflows**. How you define a quality notebook is difficult and somewhat subjective. It can have the obvious meaning of being free of bugs but also legibility and ease of comprehension are important too.\n",
    "\n",
    "`scilint` takes the approach of breaking down potentially quality relevant aspects of the notebook and providing what we believe are sensible defaults that potentially correlate with higher quality workflows. We also let users define the quality line as they see fit through configuration of existing thresholds and ability to add new metrics. As use of the library grows we anticipate being able to statistically relate some of the quality relevant attributes to key delivery metrics like \"change failure rate\" or \"lead time to production\"."
   ]
  },
  {
   "cell_type": "markdown",
   "id": "0e5be5a1-e1cd-4265-87d0-10adc4a6744d",
   "metadata": {},
   "source": [
    "# Standing on the shoulders of giants - *an nbdev library*\n",
    "\n",
    "> `scilint` is written on top of the excellent `nbdev` library. This library is revolutionary as it truly optimises all the benefits of notebooks and compensates for some of their weaker points. For more information on `nbdev` see the [homepage](https://nbdev.fast.ai/) or [github repo](https://github.com/fastai/nbdev)"
   ]
  },
  {
   "cell_type": "markdown",
   "id": "b197b310-9322-4d8a-bb07-10a53ef6d64d",
   "metadata": {},
   "source": [
    "# Getting Started"
   ]
  },
  {
   "cell_type": "markdown",
   "id": "38cf9a5b-26ef-4a55-925d-299caf401c55",
   "metadata": {
    "tags": []
   },
   "source": [
    "`pip install scilint`"
   ]
  },
  {
   "cell_type": "markdown",
   "id": "8c70ff8c-7953-4354-a355-9e15551c9b4a",
   "metadata": {},
   "source": [
    "`scilint` has the following main features/commands:\n",
    "    \n",
    "1. `scilint_tidy`: run an in-place opinionated flavour of [nbQA](https://github.com/nbQA-dev/nbQA) to tidy up your notebooks\n",
    "2. `scilint_lint`: inspect the notebooks for potential quality correlates and report on the findings"
   ]
  },
  {
   "cell_type": "markdown",
   "id": "c7068696-86c7-41b5-88ad-ca10bd8c6ab9",
   "metadata": {
    "tags": []
   },
   "source": [
    "## `scilint_tidy`\n",
    "\n",
    "To get a consistent style across your notebooks you can run `scilint_tidy`; this currently runs `autoflake`, `black` and `isort` in-place across all of your notebooks."
   ]
  },
  {
   "cell_type": "markdown",
   "id": "9a3dcc74-75fc-481f-9688-9394a4f2d34d",
   "metadata": {
    "tags": []
   },
   "source": [
    "## `scilint_lint`\n",
    "\n",
    "Exposes potential quality issues within your notebook using some pre-defined checks. Default threshold values for these checks are provided that will enable a build to be marked as passed or failed."
   ]
  },
  {
   "cell_type": "markdown",
   "id": "85b85f80-7001-440d-84b5-2c95f372b6c2",
   "metadata": {},
   "source": [
    "### Potential Quality Indicators\n",
    "\n",
    "The below are potential quality indicators that you can use to set a minimum bar for quality and comprehensibility within your projects. "
   ]
  },
  {
   "cell_type": "markdown",
   "id": "003fd97d-cd6f-4eb6-9e94-0a6efd93eb86",
   "metadata": {
    "tags": []
   },
   "source": [
    "* **Calls-Per-Function {Median, Mean}:** compares the amount of calls to the amount of functions. Looks for possible reletatioship between function definitions and usage.\n",
    "* **In-Function-Percent:**: the percentage of code that is within a function rather than outside function scope.\n",
    "* **Asserts-Per-Function:** looks at how many tests (where assert = test) there are compared to the total function count.\n",
    "* **InlineAssertsPerFunction {Median, Mean}:** examines how many times a function is called within an assert statement - this aims to see testing of functions not just usage.\n",
    "* **MarkdownToCodeRatio:** what is the ratio of markdown cells to code cells.\n",
    "* **TotalCodeLen**: the total line length of the notebook. \n",
    "\n",
    "> Note: The following are a starting point for trying to reason about notebook quality from some properties of the code and markdown within them. There is no definitive answer as to whether any of these are low or high quality. However there are reasons to believe inituitively that higher or lwoer values of the below will produce higher quality notebooks. As this library is used and refined with more projects than these intuitions can evaluated more rigorously."
   ]
  },
  {
   "cell_type": "markdown",
   "id": "0aca48ae-2ed9-4022-94fa-69e7d8729542",
   "metadata": {},
   "source": [
    "### What does a lint report look like?"
   ]
  },
  {
   "cell_type": "markdown",
   "id": "2b9633ff-6327-47f4-9acb-9bd34c820c24",
   "metadata": {
    "tags": []
   },
   "source": [
    "![Sample Report](nbs/images/sample_report.png)"
   ]
  },
  {
   "cell_type": "markdown",
   "id": "2131bee8-9e28-4bb3-a95c-c8ebe02c3bf4",
   "metadata": {},
   "source": [
    "### Fail Threshold\n",
    "\n",
    "> For now a very basic failure threshold is set by providing a number of warnings that will be accepted without failing the build. The default is 1 but this can be increased via the `--fail-over` parameter. As the library matures we will revisit adding more nuanced options."
   ]
  },
  {
   "cell_type": "markdown",
   "id": "054c49e3-3126-4546-966a-344748ec3d66",
   "metadata": {},
   "source": [
    "# Contributing"
   ]
  },
  {
   "cell_type": "markdown",
   "id": "b6aede16-ad31-4820-ab1c-11c6e1e36980",
   "metadata": {
    "tags": []
   },
   "source": [
    "After you clone this repository, please run nbdev_install_hooks in your terminal. This sets up git hooks, which clean up the notebooks to remove the extraneous stuff stored in the notebooks (e.g. which cells you ran) which causes unnecessary merge conflicts.\n",
    "\n",
    "To run the tests in parallel, launch nbdev_test.\n",
    "\n",
    "Before submitting a PR, check that the local library and notebooks match.\n",
    "\n",
    "If you made a change to the notebooks in one of the exported cells, you can export it to the library with nbdev_prepare.\n",
    "If you made a change to the library, you can export it back to the notebooks with nbdev_update."
   ]
  }
 ],
 "metadata": {
  "kernelspec": {
   "display_name": "python3__SAGEMAKER_INTERNAL__arn:aws:sagemaker:eu-west-1:368653567616:image-version/sciflow/3",
   "language": "python",
   "name": "python3__SAGEMAKER_INTERNAL__arn:aws:sagemaker:eu-west-1:368653567616:image-version/sciflow/3"
  }
 },
 "nbformat": 4,
 "nbformat_minor": 5
}
