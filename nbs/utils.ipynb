{
 "cells": [
  {
   "cell_type": "markdown",
   "id": "1eab0cc0-f2f3-481e-b855-dead0893a5a4",
   "metadata": {},
   "source": [
    "---\n",
    "description: library utilities\n",
    "output-file: utils.html\n",
    "title: Utilities\n",
    "\n",
    "---\n",
    "\n"
   ]
  },
  {
   "cell_type": "code",
   "execution_count": null,
   "id": "01816d08-8a1b-4105-96ed-a387e728a1c2",
   "metadata": {
    "tags": []
   },
   "outputs": [],
   "source": [
    "# | include: false\n",
    "# | default_exp utils"
   ]
  },
  {
   "cell_type": "code",
   "execution_count": null,
   "id": "a4660760-e5af-4cd9-b756-744ddb1e4d58",
   "metadata": {
    "tags": []
   },
   "outputs": [],
   "source": [
    "# | export\n",
    "\n",
    "\n",
    "import ast\n",
    "import logging\n",
    "import sys\n",
    "from configparser import InterpolationMissingOptionError\n",
    "from importlib import reload\n",
    "from pathlib import Path\n",
    "from typing import Iterable\n",
    "\n",
    "import nbformat\n",
    "from fastcore.xtras import globtastic\n",
    "from nbdev.config import get_config\n",
    "from nbdev.doclinks import nbglob\n",
    "from nbqa.__main__ import _get_configs, _main\n",
    "from nbqa.cmdline import CLIArgs\n",
    "from nbqa.find_root import find_project_root\n",
    "\n",
    "reload(logging)\n",
    "logger = logging.getLogger(__name__)"
   ]
  },
  {
   "cell_type": "code",
   "execution_count": null,
   "id": "19908b0d-b7e8-426d-9cbd-1f819afb8f42",
   "metadata": {
    "tags": []
   },
   "outputs": [],
   "source": [
    "%load_ext autoreload\n",
    "%autoreload 2"
   ]
  },
  {
   "cell_type": "markdown",
   "id": "45ca4685-9b5f-4ed8-816e-bdecb33bb294",
   "metadata": {},
   "source": [
    "## `get_project_root`"
   ]
  },
  {
   "cell_type": "code",
   "execution_count": null,
   "id": "3da54799-4320-4f5f-89f0-027d7d0d9f03",
   "metadata": {
    "tags": []
   },
   "outputs": [],
   "source": [
    "# | export\n",
    "\n",
    "\n",
    "def get_project_root(path: Path = Path(\".\").resolve()):\n",
    "    return find_project_root(tuple([str()]))"
   ]
  },
  {
   "cell_type": "markdown",
   "id": "4c8d17d9-e60d-497b-8487-24a97c482b47",
   "metadata": {},
   "source": [
    "## `configure_logging`"
   ]
  },
  {
   "cell_type": "code",
   "execution_count": null,
   "id": "9bac6f85-3549-460d-9cf8-59c350502b9c",
   "metadata": {
    "tags": []
   },
   "outputs": [],
   "source": [
    "# | export\n",
    "\n",
    "\n",
    "def configure_logging(level_text: str == \"warn\"):\n",
    "    if level_text.lower() == \"warn\":\n",
    "        level = logging.WARN\n",
    "    elif level_text.lower() == \"info\":\n",
    "        level = logging.INFO\n",
    "    elif level_text.lower() == \"error\":\n",
    "        level = logging.ERROR\n",
    "    elif level_text.lower() == \"debug\":\n",
    "        level = logging.DEBUG\n",
    "    else:\n",
    "        raise ValueError(f\"Unrecognised log level: {level_text}\")\n",
    "\n",
    "    logFormatter = logging.Formatter(\n",
    "        \"%(asctime)s [%(threadName)-12.12s] [%(levelname)-5.5s]  %(message)s\"\n",
    "    )\n",
    "    rootLogger = logging.getLogger()\n",
    "\n",
    "    consoleHandler = logging.StreamHandler(stream=sys.stdout)\n",
    "    consoleHandler.setFormatter(logFormatter)\n",
    "    rootLogger.addHandler(consoleHandler)\n",
    "    rootLogger.setLevel(level)"
   ]
  },
  {
   "cell_type": "markdown",
   "id": "835c9792-b81a-482c-914b-b020aa3b8aa5",
   "metadata": {},
   "source": [
    "## `run_nbqa_cmd`"
   ]
  },
  {
   "cell_type": "code",
   "execution_count": null,
   "id": "7ad71a20-1798-4a00-b182-8539e2c8e691",
   "metadata": {
    "tags": []
   },
   "outputs": [],
   "source": [
    "# | export\n",
    "\n",
    "\n",
    "def run_nbqa_cmd(cmd: str, root_dir: Path = None):\n",
    "    logger.info(f\"Running {cmd}\")\n",
    "    if root_dir is None:\n",
    "        root_dir: Path = find_project_root(tuple([str(Path(\".\").resolve())]))\n",
    "    args = CLIArgs.parse_args([cmd, str(root_dir)])\n",
    "    logger.debug(f\"Running command: {cmd} with args: {args} via nbQA toolchain\")\n",
    "    configs = _get_configs(args, root_dir)\n",
    "    output_code = _main(args, configs)\n",
    "    return output_code"
   ]
  },
  {
   "cell_type": "markdown",
   "id": "fa0ab386-4b15-40b0-b726-19644d1daa27",
   "metadata": {},
   "source": [
    "## `is_nbdev_project`"
   ]
  },
  {
   "cell_type": "code",
   "execution_count": null,
   "id": "50fb6927-2f5b-45de-82dc-a0d65fb4652a",
   "metadata": {
    "tags": []
   },
   "outputs": [],
   "source": [
    "# | export\n",
    "\n",
    "\n",
    "def is_nbdev_project(project_path: Path = Path(\".\")):\n",
    "    is_nbdev = True\n",
    "    project_root = find_project_root(tuple([str(project_path.resolve())]))\n",
    "\n",
    "    if not Path(project_root, \"settings.ini\").exists():\n",
    "        is_nbdev = False\n",
    "    try:\n",
    "        get_config().lib_name\n",
    "    except InterpolationMissingOptionError:\n",
    "        is_nbdev = False\n",
    "\n",
    "    return is_nbdev"
   ]
  },
  {
   "cell_type": "code",
   "execution_count": null,
   "id": "dc5f39a6-28f3-466b-a061-12260c64f370",
   "metadata": {
    "tags": []
   },
   "outputs": [],
   "source": [
    "assert is_nbdev_project()"
   ]
  },
  {
   "cell_type": "code",
   "execution_count": null,
   "id": "8daa60b2-0ec0-44e5-87c8-3be9a91597ac",
   "metadata": {
    "tags": []
   },
   "outputs": [],
   "source": [
    "import tempfile\n",
    "\n",
    "with tempfile.TemporaryDirectory() as tmp_dir:\n",
    "    assert not is_nbdev_project(Path(tmp_dir))"
   ]
  },
  {
   "cell_type": "markdown",
   "id": "94cea459-1d52-4014-a4a1-bee55cda7e25",
   "metadata": {},
   "source": [
    "## `resolve_nbs`"
   ]
  },
  {
   "cell_type": "code",
   "execution_count": null,
   "id": "3fe78582-6db5-4e66-abd3-a0609b00dfdb",
   "metadata": {
    "tags": []
   },
   "outputs": [],
   "source": [
    "# | export\n",
    "\n",
    "\n",
    "def resolve_nbs(nb_glob: str = None):\n",
    "    if is_nbdev_project():\n",
    "        nbs = nbglob(nb_glob)\n",
    "    else:\n",
    "        nb_glob = Path(\".\") if nb_glob is None else nb_glob\n",
    "        nbs = [\n",
    "            p.absolute()\n",
    "            for p in globtastic(\n",
    "                path=nb_glob,\n",
    "                skip_folder_re=\"^[_.]\",\n",
    "                file_glob=\"*.ipynb\",\n",
    "                skip_file_re=\"^[_.]\",\n",
    "            ).map(Path)\n",
    "        ]\n",
    "        nbs = [str(p) for p in nbs]\n",
    "    logger.debug(f\"Resolved notebook paths: {nbs}\")\n",
    "    return nbs"
   ]
  },
  {
   "cell_type": "code",
   "execution_count": null,
   "id": "1b3a60e7-df40-4a67-8c34-50f65f4ea049",
   "metadata": {
    "tags": []
   },
   "outputs": [],
   "source": [
    "# TODO Create a temp dir and touch some notebooks"
   ]
  },
  {
   "cell_type": "markdown",
   "id": "66686393-ae5e-43b9-8420-b9cf01ba3b1e",
   "metadata": {},
   "source": [
    "## `find_common_root`"
   ]
  },
  {
   "cell_type": "code",
   "execution_count": null,
   "id": "f2a0a2a2-a014-4064-9294-6cd25f4fc052",
   "metadata": {
    "tags": []
   },
   "outputs": [],
   "source": [
    "# | export\n",
    "\n",
    "\n",
    "def find_common_root(nb_glob: str = None) -> Path:\n",
    "    \"\"\"Expand a glob expression then find the common root directory\"\"\"\n",
    "    nb_paths = [Path(p) for p in resolve_nbs(nb_glob)]\n",
    "    if len(nb_paths) == 0:\n",
    "        raise ValueError(\"No notebooks found matching glob expression\")\n",
    "    min_part_len = min([len(p.parts) for p in nb_paths])\n",
    "    return [Path(*p.parts[: min_part_len - 1]).absolute() for p in nb_paths][0]"
   ]
  },
  {
   "cell_type": "code",
   "execution_count": null,
   "id": "f6c9d62f-fe6f-46d7-824c-bd248d4abc7f",
   "metadata": {
    "tags": []
   },
   "outputs": [],
   "source": [
    "assert find_common_root() == Path(Path(\".\").resolve())\n",
    "assert find_common_root(\"example_nbs/\") == Path(Path(\".\").resolve(), \"example_nbs/\")"
   ]
  },
  {
   "cell_type": "code",
   "execution_count": null,
   "id": "61c67857-8965-462a-85ed-6f954537296f",
   "metadata": {
    "tags": []
   },
   "outputs": [],
   "source": [
    "# | export\n",
    "\n",
    "\n",
    "def get_project_root(path: Path = Path(\".\").resolve()) -> Path:\n",
    "    return find_project_root(tuple([str()]))"
   ]
  },
  {
   "cell_type": "markdown",
   "id": "0fb5bbe1-6ea0-4ea7-8976-1b0e23852b35",
   "metadata": {
    "tags": []
   },
   "source": [
    "## `get_excluded_paths`"
   ]
  },
  {
   "cell_type": "code",
   "execution_count": null,
   "id": "2d34fea8-4629-44cd-9ab7-de8965d60d82",
   "metadata": {
    "tags": []
   },
   "outputs": [],
   "source": [
    "# | export\n",
    "\n",
    "\n",
    "def get_excluded_paths(paths: Iterable[Path], exclude_pattern: str) -> Iterable[Path]:\n",
    "    \"\"\"Excluded paths should either be absolute paths or paths rooted at the project root directory\"\"\"\n",
    "    excl_paths = []\n",
    "    paths = [p.absolute() for p in paths]\n",
    "\n",
    "    for ex_pattern in exclude_pattern.split(\",\"):\n",
    "        if Path(ex_pattern).is_absolute():\n",
    "            ex_path = Path(ex_pattern)\n",
    "        else:\n",
    "            ex_path = Path(get_project_root(), ex_pattern)\n",
    "\n",
    "        if ex_path.exists():\n",
    "            excl_paths.extend([p for p in paths if ex_pattern in str(p)])\n",
    "        elif not ex_path.exists():\n",
    "            raise ValueError(f\"Path component: {ex_path} does not exist\")\n",
    "        else:\n",
    "            raise ValueError(\n",
    "                f\"Invalid exclusion pattern: {ex_path} pattern is comma separrated list of 'dir/' for directories and 'name.ipynb' for specific notebook\"\n",
    "            )\n",
    "    return excl_paths"
   ]
  },
  {
   "cell_type": "code",
   "execution_count": null,
   "id": "e46246fe-0142-4bf0-ac93-3ae44d0110e4",
   "metadata": {
    "tags": []
   },
   "outputs": [],
   "source": [
    "paths = [Path(p) for p in nbglob(Path(\".\"))]\n",
    "assert sorted(\n",
    "    [\n",
    "        p.name\n",
    "        for p in get_excluded_paths(\n",
    "            paths, exclude_pattern=\"nbs/example_nbs/experimental,nbs/index.ipynb\"\n",
    "        )\n",
    "    ]\n",
    ") == sorted([\"non_nbdev.ipynb\", \"nbdev.ipynb\", \"index.ipynb\"])\n",
    "assert sorted(\n",
    "    [\n",
    "        p.name\n",
    "        for p in get_excluded_paths(\n",
    "            paths, exclude_pattern=\"nbs/example_nbs/nbdev.ipynb\"\n",
    "        )\n",
    "    ]\n",
    ") == sorted([\"nbdev.ipynb\"])"
   ]
  },
  {
   "cell_type": "code",
   "execution_count": null,
   "id": "232d282e-739d-4086-8f3a-b14e953168fe",
   "metadata": {
    "tags": []
   },
   "outputs": [],
   "source": [
    "# | export\n",
    "\n",
    "\n",
    "def remove_ipython_special_directives(code):\n",
    "    lines = code.split(\"\\n\")\n",
    "    lines = [\n",
    "        line\n",
    "        for line in lines\n",
    "        if not line.strip().startswith(\"%\") and not line.strip().startswith(\"!\")\n",
    "    ]\n",
    "    return \"\\n\".join(lines)"
   ]
  },
  {
   "cell_type": "code",
   "execution_count": null,
   "id": "8b8b4712-3c8f-4847-83a7-936f3b8eeb46",
   "metadata": {
    "tags": []
   },
   "outputs": [],
   "source": [
    "nb_cell_code = \"\"\"\n",
    "%load_ext autoreload\n",
    "%autoreload 2\n",
    "import matplotlib\n",
    "%matplotlib inline\n",
    "dont_remove_this = \"% literal\"\n",
    "dont_remove_this = some_var('% literal')\n",
    "\"\"\""
   ]
  },
  {
   "cell_type": "code",
   "execution_count": null,
   "id": "aa06b926-75a2-487b-b58b-91eef102cfc7",
   "metadata": {
    "tags": []
   },
   "outputs": [],
   "source": [
    "throws = False\n",
    "try:\n",
    "    assert ast.parse(nb_cell_code)\n",
    "except SyntaxError:\n",
    "    throws = True\n",
    "assert throws\n",
    "assert type(ast.parse(remove_ipython_special_directives(nb_cell_code))) == ast.Module"
   ]
  },
  {
   "cell_type": "code",
   "execution_count": null,
   "id": "ebc16e04-f166-4927-9dc4-2416d4bae242",
   "metadata": {
    "tags": []
   },
   "outputs": [],
   "source": [
    "# | export\n",
    "\n",
    "\n",
    "def safe_div(numer, denom):\n",
    "    return 0 if denom == 0 else numer / denom"
   ]
  },
  {
   "cell_type": "code",
   "execution_count": null,
   "id": "83158cad-12d9-444d-bc9f-7689e23abd88",
   "metadata": {
    "tags": []
   },
   "outputs": [],
   "source": [
    "assert safe_div(1, 1) == 1\n",
    "assert safe_div(2, 1) == 2\n",
    "assert safe_div(1, 2) == 0.5\n",
    "assert safe_div(0, 1) == 0\n",
    "assert safe_div(1, 0) == 0\n",
    "assert safe_div(10, 1) == 10"
   ]
  },
  {
   "cell_type": "markdown",
   "id": "36cc9c7e-60f1-4ddc-9525-695434672d28",
   "metadata": {},
   "source": [
    "## ` get_cell_code`"
   ]
  },
  {
   "cell_type": "code",
   "execution_count": null,
   "id": "efb10bb1-e150-48b1-bcd6-0bcd418d9fa2",
   "metadata": {
    "tags": []
   },
   "outputs": [],
   "source": [
    "# | export\n",
    "\n",
    "\n",
    "def get_cell_code(nb):\n",
    "    pnb = nbformat.from_dict(nb)\n",
    "    nb_cell_code = \"\\n\".join(\n",
    "        [\n",
    "            remove_ipython_special_directives(c[\"source\"])\n",
    "            for c in pnb.cells\n",
    "            if c[\"cell_type\"] == \"code\"\n",
    "        ]\n",
    "    )\n",
    "    return nb_cell_code"
   ]
  },
  {
   "cell_type": "code",
   "execution_count": null,
   "id": "6be80fdd-946f-4a14-b7ef-98d64ead2446",
   "metadata": {
    "tags": []
   },
   "outputs": [],
   "source": [
    "nb = nbformat.v4.new_notebook()\n",
    "nb[\"cells\"] = [nbformat.v4.new_code_cell(nb_cell_code)]"
   ]
  },
  {
   "cell_type": "code",
   "execution_count": null,
   "id": "24fbfb55-816f-4cd9-9425-6683b2616608",
   "metadata": {
    "tags": []
   },
   "outputs": [],
   "source": [
    "assert (\n",
    "    get_cell_code(nb)\n",
    "    == \"\"\"\n",
    "import matplotlib\n",
    "dont_remove_this = \"% literal\"\n",
    "dont_remove_this = some_var('% literal')\n",
    "\"\"\"\n",
    ")"
   ]
  }
 ],
 "metadata": {
  "availableInstances": [
   {
    "_defaultOrder": 0,
    "_isFastLaunch": true,
    "category": "General purpose",
    "gpuNum": 0,
    "hideHardwareSpecs": false,
    "memoryGiB": 4,
    "name": "ml.t3.medium",
    "vcpuNum": 2
   },
   {
    "_defaultOrder": 1,
    "_isFastLaunch": false,
    "category": "General purpose",
    "gpuNum": 0,
    "hideHardwareSpecs": false,
    "memoryGiB": 8,
    "name": "ml.t3.large",
    "vcpuNum": 2
   },
   {
    "_defaultOrder": 2,
    "_isFastLaunch": false,
    "category": "General purpose",
    "gpuNum": 0,
    "hideHardwareSpecs": false,
    "memoryGiB": 16,
    "name": "ml.t3.xlarge",
    "vcpuNum": 4
   },
   {
    "_defaultOrder": 3,
    "_isFastLaunch": false,
    "category": "General purpose",
    "gpuNum": 0,
    "hideHardwareSpecs": false,
    "memoryGiB": 32,
    "name": "ml.t3.2xlarge",
    "vcpuNum": 8
   },
   {
    "_defaultOrder": 4,
    "_isFastLaunch": true,
    "category": "General purpose",
    "gpuNum": 0,
    "hideHardwareSpecs": false,
    "memoryGiB": 8,
    "name": "ml.m5.large",
    "vcpuNum": 2
   },
   {
    "_defaultOrder": 5,
    "_isFastLaunch": false,
    "category": "General purpose",
    "gpuNum": 0,
    "hideHardwareSpecs": false,
    "memoryGiB": 16,
    "name": "ml.m5.xlarge",
    "vcpuNum": 4
   },
   {
    "_defaultOrder": 6,
    "_isFastLaunch": false,
    "category": "General purpose",
    "gpuNum": 0,
    "hideHardwareSpecs": false,
    "memoryGiB": 32,
    "name": "ml.m5.2xlarge",
    "vcpuNum": 8
   },
   {
    "_defaultOrder": 7,
    "_isFastLaunch": false,
    "category": "General purpose",
    "gpuNum": 0,
    "hideHardwareSpecs": false,
    "memoryGiB": 64,
    "name": "ml.m5.4xlarge",
    "vcpuNum": 16
   },
   {
    "_defaultOrder": 8,
    "_isFastLaunch": false,
    "category": "General purpose",
    "gpuNum": 0,
    "hideHardwareSpecs": false,
    "memoryGiB": 128,
    "name": "ml.m5.8xlarge",
    "vcpuNum": 32
   },
   {
    "_defaultOrder": 9,
    "_isFastLaunch": false,
    "category": "General purpose",
    "gpuNum": 0,
    "hideHardwareSpecs": false,
    "memoryGiB": 192,
    "name": "ml.m5.12xlarge",
    "vcpuNum": 48
   },
   {
    "_defaultOrder": 10,
    "_isFastLaunch": false,
    "category": "General purpose",
    "gpuNum": 0,
    "hideHardwareSpecs": false,
    "memoryGiB": 256,
    "name": "ml.m5.16xlarge",
    "vcpuNum": 64
   },
   {
    "_defaultOrder": 11,
    "_isFastLaunch": false,
    "category": "General purpose",
    "gpuNum": 0,
    "hideHardwareSpecs": false,
    "memoryGiB": 384,
    "name": "ml.m5.24xlarge",
    "vcpuNum": 96
   },
   {
    "_defaultOrder": 12,
    "_isFastLaunch": false,
    "category": "General purpose",
    "gpuNum": 0,
    "hideHardwareSpecs": false,
    "memoryGiB": 8,
    "name": "ml.m5d.large",
    "vcpuNum": 2
   },
   {
    "_defaultOrder": 13,
    "_isFastLaunch": false,
    "category": "General purpose",
    "gpuNum": 0,
    "hideHardwareSpecs": false,
    "memoryGiB": 16,
    "name": "ml.m5d.xlarge",
    "vcpuNum": 4
   },
   {
    "_defaultOrder": 14,
    "_isFastLaunch": false,
    "category": "General purpose",
    "gpuNum": 0,
    "hideHardwareSpecs": false,
    "memoryGiB": 32,
    "name": "ml.m5d.2xlarge",
    "vcpuNum": 8
   },
   {
    "_defaultOrder": 15,
    "_isFastLaunch": false,
    "category": "General purpose",
    "gpuNum": 0,
    "hideHardwareSpecs": false,
    "memoryGiB": 64,
    "name": "ml.m5d.4xlarge",
    "vcpuNum": 16
   },
   {
    "_defaultOrder": 16,
    "_isFastLaunch": false,
    "category": "General purpose",
    "gpuNum": 0,
    "hideHardwareSpecs": false,
    "memoryGiB": 128,
    "name": "ml.m5d.8xlarge",
    "vcpuNum": 32
   },
   {
    "_defaultOrder": 17,
    "_isFastLaunch": false,
    "category": "General purpose",
    "gpuNum": 0,
    "hideHardwareSpecs": false,
    "memoryGiB": 192,
    "name": "ml.m5d.12xlarge",
    "vcpuNum": 48
   },
   {
    "_defaultOrder": 18,
    "_isFastLaunch": false,
    "category": "General purpose",
    "gpuNum": 0,
    "hideHardwareSpecs": false,
    "memoryGiB": 256,
    "name": "ml.m5d.16xlarge",
    "vcpuNum": 64
   },
   {
    "_defaultOrder": 19,
    "_isFastLaunch": false,
    "category": "General purpose",
    "gpuNum": 0,
    "hideHardwareSpecs": false,
    "memoryGiB": 384,
    "name": "ml.m5d.24xlarge",
    "vcpuNum": 96
   },
   {
    "_defaultOrder": 20,
    "_isFastLaunch": false,
    "category": "General purpose",
    "gpuNum": 0,
    "hideHardwareSpecs": true,
    "memoryGiB": 0,
    "name": "ml.geospatial.interactive",
    "supportedImageNames": [
     "sagemaker-geospatial-v1-0"
    ],
    "vcpuNum": 0
   },
   {
    "_defaultOrder": 21,
    "_isFastLaunch": true,
    "category": "Compute optimized",
    "gpuNum": 0,
    "hideHardwareSpecs": false,
    "memoryGiB": 4,
    "name": "ml.c5.large",
    "vcpuNum": 2
   },
   {
    "_defaultOrder": 22,
    "_isFastLaunch": false,
    "category": "Compute optimized",
    "gpuNum": 0,
    "hideHardwareSpecs": false,
    "memoryGiB": 8,
    "name": "ml.c5.xlarge",
    "vcpuNum": 4
   },
   {
    "_defaultOrder": 23,
    "_isFastLaunch": false,
    "category": "Compute optimized",
    "gpuNum": 0,
    "hideHardwareSpecs": false,
    "memoryGiB": 16,
    "name": "ml.c5.2xlarge",
    "vcpuNum": 8
   },
   {
    "_defaultOrder": 24,
    "_isFastLaunch": false,
    "category": "Compute optimized",
    "gpuNum": 0,
    "hideHardwareSpecs": false,
    "memoryGiB": 32,
    "name": "ml.c5.4xlarge",
    "vcpuNum": 16
   },
   {
    "_defaultOrder": 25,
    "_isFastLaunch": false,
    "category": "Compute optimized",
    "gpuNum": 0,
    "hideHardwareSpecs": false,
    "memoryGiB": 72,
    "name": "ml.c5.9xlarge",
    "vcpuNum": 36
   },
   {
    "_defaultOrder": 26,
    "_isFastLaunch": false,
    "category": "Compute optimized",
    "gpuNum": 0,
    "hideHardwareSpecs": false,
    "memoryGiB": 96,
    "name": "ml.c5.12xlarge",
    "vcpuNum": 48
   },
   {
    "_defaultOrder": 27,
    "_isFastLaunch": false,
    "category": "Compute optimized",
    "gpuNum": 0,
    "hideHardwareSpecs": false,
    "memoryGiB": 144,
    "name": "ml.c5.18xlarge",
    "vcpuNum": 72
   },
   {
    "_defaultOrder": 28,
    "_isFastLaunch": false,
    "category": "Compute optimized",
    "gpuNum": 0,
    "hideHardwareSpecs": false,
    "memoryGiB": 192,
    "name": "ml.c5.24xlarge",
    "vcpuNum": 96
   },
   {
    "_defaultOrder": 29,
    "_isFastLaunch": true,
    "category": "Accelerated computing",
    "gpuNum": 1,
    "hideHardwareSpecs": false,
    "memoryGiB": 16,
    "name": "ml.g4dn.xlarge",
    "vcpuNum": 4
   },
   {
    "_defaultOrder": 30,
    "_isFastLaunch": false,
    "category": "Accelerated computing",
    "gpuNum": 1,
    "hideHardwareSpecs": false,
    "memoryGiB": 32,
    "name": "ml.g4dn.2xlarge",
    "vcpuNum": 8
   },
   {
    "_defaultOrder": 31,
    "_isFastLaunch": false,
    "category": "Accelerated computing",
    "gpuNum": 1,
    "hideHardwareSpecs": false,
    "memoryGiB": 64,
    "name": "ml.g4dn.4xlarge",
    "vcpuNum": 16
   },
   {
    "_defaultOrder": 32,
    "_isFastLaunch": false,
    "category": "Accelerated computing",
    "gpuNum": 1,
    "hideHardwareSpecs": false,
    "memoryGiB": 128,
    "name": "ml.g4dn.8xlarge",
    "vcpuNum": 32
   },
   {
    "_defaultOrder": 33,
    "_isFastLaunch": false,
    "category": "Accelerated computing",
    "gpuNum": 4,
    "hideHardwareSpecs": false,
    "memoryGiB": 192,
    "name": "ml.g4dn.12xlarge",
    "vcpuNum": 48
   },
   {
    "_defaultOrder": 34,
    "_isFastLaunch": false,
    "category": "Accelerated computing",
    "gpuNum": 1,
    "hideHardwareSpecs": false,
    "memoryGiB": 256,
    "name": "ml.g4dn.16xlarge",
    "vcpuNum": 64
   },
   {
    "_defaultOrder": 35,
    "_isFastLaunch": false,
    "category": "Accelerated computing",
    "gpuNum": 1,
    "hideHardwareSpecs": false,
    "memoryGiB": 61,
    "name": "ml.p3.2xlarge",
    "vcpuNum": 8
   },
   {
    "_defaultOrder": 36,
    "_isFastLaunch": false,
    "category": "Accelerated computing",
    "gpuNum": 4,
    "hideHardwareSpecs": false,
    "memoryGiB": 244,
    "name": "ml.p3.8xlarge",
    "vcpuNum": 32
   },
   {
    "_defaultOrder": 37,
    "_isFastLaunch": false,
    "category": "Accelerated computing",
    "gpuNum": 8,
    "hideHardwareSpecs": false,
    "memoryGiB": 488,
    "name": "ml.p3.16xlarge",
    "vcpuNum": 64
   },
   {
    "_defaultOrder": 38,
    "_isFastLaunch": false,
    "category": "Accelerated computing",
    "gpuNum": 8,
    "hideHardwareSpecs": false,
    "memoryGiB": 768,
    "name": "ml.p3dn.24xlarge",
    "vcpuNum": 96
   },
   {
    "_defaultOrder": 39,
    "_isFastLaunch": false,
    "category": "Memory Optimized",
    "gpuNum": 0,
    "hideHardwareSpecs": false,
    "memoryGiB": 16,
    "name": "ml.r5.large",
    "vcpuNum": 2
   },
   {
    "_defaultOrder": 40,
    "_isFastLaunch": false,
    "category": "Memory Optimized",
    "gpuNum": 0,
    "hideHardwareSpecs": false,
    "memoryGiB": 32,
    "name": "ml.r5.xlarge",
    "vcpuNum": 4
   },
   {
    "_defaultOrder": 41,
    "_isFastLaunch": false,
    "category": "Memory Optimized",
    "gpuNum": 0,
    "hideHardwareSpecs": false,
    "memoryGiB": 64,
    "name": "ml.r5.2xlarge",
    "vcpuNum": 8
   },
   {
    "_defaultOrder": 42,
    "_isFastLaunch": false,
    "category": "Memory Optimized",
    "gpuNum": 0,
    "hideHardwareSpecs": false,
    "memoryGiB": 128,
    "name": "ml.r5.4xlarge",
    "vcpuNum": 16
   },
   {
    "_defaultOrder": 43,
    "_isFastLaunch": false,
    "category": "Memory Optimized",
    "gpuNum": 0,
    "hideHardwareSpecs": false,
    "memoryGiB": 256,
    "name": "ml.r5.8xlarge",
    "vcpuNum": 32
   },
   {
    "_defaultOrder": 44,
    "_isFastLaunch": false,
    "category": "Memory Optimized",
    "gpuNum": 0,
    "hideHardwareSpecs": false,
    "memoryGiB": 384,
    "name": "ml.r5.12xlarge",
    "vcpuNum": 48
   },
   {
    "_defaultOrder": 45,
    "_isFastLaunch": false,
    "category": "Memory Optimized",
    "gpuNum": 0,
    "hideHardwareSpecs": false,
    "memoryGiB": 512,
    "name": "ml.r5.16xlarge",
    "vcpuNum": 64
   },
   {
    "_defaultOrder": 46,
    "_isFastLaunch": false,
    "category": "Memory Optimized",
    "gpuNum": 0,
    "hideHardwareSpecs": false,
    "memoryGiB": 768,
    "name": "ml.r5.24xlarge",
    "vcpuNum": 96
   },
   {
    "_defaultOrder": 47,
    "_isFastLaunch": false,
    "category": "Accelerated computing",
    "gpuNum": 1,
    "hideHardwareSpecs": false,
    "memoryGiB": 16,
    "name": "ml.g5.xlarge",
    "vcpuNum": 4
   },
   {
    "_defaultOrder": 48,
    "_isFastLaunch": false,
    "category": "Accelerated computing",
    "gpuNum": 1,
    "hideHardwareSpecs": false,
    "memoryGiB": 32,
    "name": "ml.g5.2xlarge",
    "vcpuNum": 8
   },
   {
    "_defaultOrder": 49,
    "_isFastLaunch": false,
    "category": "Accelerated computing",
    "gpuNum": 1,
    "hideHardwareSpecs": false,
    "memoryGiB": 64,
    "name": "ml.g5.4xlarge",
    "vcpuNum": 16
   },
   {
    "_defaultOrder": 50,
    "_isFastLaunch": false,
    "category": "Accelerated computing",
    "gpuNum": 1,
    "hideHardwareSpecs": false,
    "memoryGiB": 128,
    "name": "ml.g5.8xlarge",
    "vcpuNum": 32
   },
   {
    "_defaultOrder": 51,
    "_isFastLaunch": false,
    "category": "Accelerated computing",
    "gpuNum": 1,
    "hideHardwareSpecs": false,
    "memoryGiB": 256,
    "name": "ml.g5.16xlarge",
    "vcpuNum": 64
   },
   {
    "_defaultOrder": 52,
    "_isFastLaunch": false,
    "category": "Accelerated computing",
    "gpuNum": 4,
    "hideHardwareSpecs": false,
    "memoryGiB": 192,
    "name": "ml.g5.12xlarge",
    "vcpuNum": 48
   },
   {
    "_defaultOrder": 53,
    "_isFastLaunch": false,
    "category": "Accelerated computing",
    "gpuNum": 4,
    "hideHardwareSpecs": false,
    "memoryGiB": 384,
    "name": "ml.g5.24xlarge",
    "vcpuNum": 96
   },
   {
    "_defaultOrder": 54,
    "_isFastLaunch": false,
    "category": "Accelerated computing",
    "gpuNum": 8,
    "hideHardwareSpecs": false,
    "memoryGiB": 768,
    "name": "ml.g5.48xlarge",
    "vcpuNum": 192
   },
   {
    "_defaultOrder": 55,
    "_isFastLaunch": false,
    "category": "Accelerated computing",
    "gpuNum": 8,
    "hideHardwareSpecs": false,
    "memoryGiB": 1152,
    "name": "ml.p4d.24xlarge",
    "vcpuNum": 96
   },
   {
    "_defaultOrder": 56,
    "_isFastLaunch": false,
    "category": "Accelerated computing",
    "gpuNum": 8,
    "hideHardwareSpecs": false,
    "memoryGiB": 1152,
    "name": "ml.p4de.24xlarge",
    "vcpuNum": 96
   }
  ],
  "instance_type": "ml.m5.large",
  "kernelspec": {
   "display_name": "Python 3 (SageMaker Distribution v0 CPU)",
   "language": "python",
   "name": "python3__SAGEMAKER_INTERNAL__arn:aws:sagemaker:eu-west-1:819792524951:image/sagemaker-distribution-cpu-v0"
  },
  "language_info": {
   "codemirror_mode": {
    "name": "ipython",
    "version": 3
   },
   "file_extension": ".py",
   "mimetype": "text/x-python",
   "name": "python",
   "nbconvert_exporter": "python",
   "pygments_lexer": "ipython3",
   "version": "3.8.18"
  }
 },
 "nbformat": 4,
 "nbformat_minor": 5
}
