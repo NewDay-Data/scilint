{
 "cells": [
  {
   "cell_type": "raw",
   "metadata": {},
   "source": [
    "---\n",
    "skip_showdoc: true\n",
    "---"
   ]
  },
  {
   "cell_type": "code",
   "execution_count": null,
   "metadata": {},
   "outputs": [],
   "source": [
    "# | eval:false\n",
    "\n",
    "int_param = 3\n",
    "float_param = 1.1\n",
    "str_param = \"vanilla notebook\"\n",
    "input_path = Path(\".\").resolve()\n",
    "model_path = Path(\".\").resolve().parent\n",
    "dict_param = {\"a\": {\"b\": {\"c\": \"abc\"}}, \"another_key\": [1, 2, 3]}\n",
    "list_param = [i for i in range(10**4)]\n",
    "ones = np.ones(10**7)\n",
    "text = np.repeat(\"some string that takess space and more of it\", 10**7"
   ]
  }
 ],
 "metadata": {
  "kernelspec": {
   "display_name": "python3__SAGEMAKER_INTERNAL__arn:aws:sagemaker:eu-west-1:368653567616:image-version/sciflow/3",
   "language": "python",
   "name": "python3__SAGEMAKER_INTERNAL__arn:aws:sagemaker:eu-west-1:368653567616:image-version/sciflow/3"
  }
 },
 "nbformat": 4,
 "nbformat_minor": 4
}
