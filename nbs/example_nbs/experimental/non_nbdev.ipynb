{
 "cells": [
  {
   "cell_type": "raw",
   "metadata": {},
   "source": [
    "---\n",
    "skip_showdoc: true\n",
    "---"
   ]
  },
  {
   "cell_type": "code",
   "execution_count": null,
   "metadata": {},
   "outputs": [],
   "source": [
    "from pathlib import Path\n",
    "from typing import Any, Dict, List\n",
    "\n",
    "import numpy as np\n",
    "import pandas as pd"
   ]
  },
  {
   "cell_type": "code",
   "execution_count": null,
   "metadata": {},
   "outputs": [],
   "source": [
    "int_param = 3\n",
    "float_param = 1.1\n",
    "str_param = \"vanilla notebook\"\n",
    "input_path = Path(\".\").resolve()\n",
    "model_path = Path(\".\").resolve().parent\n",
    "dict_param = {\"a\": {\"b\": {\"c\": \"abc\"}}, \"another_key\": [1, 2, 3]}\n",
    "list_param = [i for i in range(10**4)]\n",
    "ones = np.ones(10**4)\n",
    "text = np.repeat(\"some string that takess space and more of it\", 10**4)\n",
    "series_param = pd.Series(text)\n",
    "df_param = pd.DataFrame({\"a\": ones, \"b\": ones, \"c\": ones, \"d\": text})"
   ]
  },
  {
   "cell_type": "code",
   "execution_count": null,
   "metadata": {},
   "outputs": [],
   "source": [
    "def scalar(int_param: int, float_param: float, str_param: str):\n",
    "    print(f\"int_param: {int_param}\")\n",
    "    print(f\"float_param: {float_param}\")\n",
    "    print(f\"str_param: {str_param}\")\n",
    "    results = {\"int_param\": int_param}\n",
    "    return results"
   ]
  },
  {
   "cell_type": "code",
   "execution_count": null,
   "metadata": {},
   "outputs": [
    {
     "name": "stdout",
     "output_type": "stream",
     "text": [
      "int_param: 3\n",
      "float_param: 1.1\n",
      "str_param: vanilla notebook\n"
     ]
    },
    {
     "data": {
      "text/plain": [
       "{'int_param': 3}"
      ]
     },
     "execution_count": null,
     "metadata": {},
     "output_type": "execute_result"
    }
   ],
   "source": [
    "scalar(int_param, float_param, str_param)"
   ]
  },
  {
   "cell_type": "code",
   "execution_count": null,
   "metadata": {},
   "outputs": [],
   "source": [
    "def py_advanced(input_path: Path, list_param: List[int], dict_param: Dict[str, Any]):\n",
    "    print(f\"input_path: {input_path}\")\n",
    "    print(f\"input_path: {list_param[:10]}\")\n",
    "    print(f\"input_path: {dict_param}\")"
   ]
  },
  {
   "cell_type": "code",
   "execution_count": null,
   "metadata": {},
   "outputs": [
    {
     "name": "stdout",
     "output_type": "stream",
     "text": [
      "input_path: /home/sagemaker-user/git/scilint/nbs/example_nbs/experimental\n",
      "input_path: [0, 1, 2, 3, 4, 5, 6, 7, 8, 9]\n",
      "input_path: {'a': {'b': {'c': 'abc'}}, 'another_key': [1, 2, 3]}\n"
     ]
    }
   ],
   "source": [
    "py_advanced(input_path, list_param, dict_param)"
   ]
  },
  {
   "cell_type": "code",
   "execution_count": null,
   "metadata": {},
   "outputs": [],
   "source": [
    "def pandas(series_param: pd.Series, df_param: pd.DataFrame):\n",
    "    print(f\"series: {series_param.shape}\")\n",
    "    print(f\"df: {df_param.shape}\")"
   ]
  },
  {
   "cell_type": "code",
   "execution_count": null,
   "metadata": {},
   "outputs": [
    {
     "name": "stdout",
     "output_type": "stream",
     "text": [
      "series: (10000000,)\n",
      "df: (10000000, 4)\n"
     ]
    }
   ],
   "source": [
    "pandas(series_param, df_param)"
   ]
  }
 ],
 "metadata": {
  "kernelspec": {
   "display_name": "python3__SAGEMAKER_INTERNAL__arn:aws:sagemaker:eu-west-1:368653567616:image-version/sciflow/3",
   "language": "python",
   "name": "python3__SAGEMAKER_INTERNAL__arn:aws:sagemaker:eu-west-1:368653567616:image-version/sciflow/3"
  }
 },
 "nbformat": 4,
 "nbformat_minor": 4
}
