{
 "cells": [
  {
   "cell_type": "code",
   "execution_count": null,
   "metadata": {},
   "outputs": [
    {
     "name": "stdout",
     "output_type": "stream",
     "text": [
      "The first step\n"
     ]
    }
   ],
   "source": [
    "message = \"The first step\"\n",
    "print(f\"{message}\")\n",
    "results = {\"message\": message}"
   ]
  },
  {
   "cell_type": "code",
   "execution_count": null,
   "metadata": {},
   "outputs": [],
   "source": [
    "import numpy as np\n",
    "import pandas as pd"
   ]
  },
  {
   "cell_type": "code",
   "execution_count": null,
   "metadata": {},
   "outputs": [],
   "source": [
    "traffic_percent = 1\n",
    "workers = 8\n",
    "model_level = \"dispatcher\"\n",
    "min_date = \"2021-01-01\""
   ]
  },
  {
   "cell_type": "code",
   "execution_count": null,
   "metadata": {},
   "outputs": [],
   "source": [
    "def get_traffic_text(percent):\n",
    "    return str(percent) if int(percent) >= 10 else \"0\" + str(percent)"
   ]
  },
  {
   "cell_type": "markdown",
   "metadata": {},
   "source": [
    "`nbdev` tests are any cells which are not exporting code and do not have flags that say they should be ignored from testing."
   ]
  },
  {
   "cell_type": "markdown",
   "metadata": {},
   "source": [
    "# Preprocess Data"
   ]
  },
  {
   "cell_type": "code",
   "execution_count": null,
   "metadata": {},
   "outputs": [],
   "source": [
    "def get_experiment_segment(traffic_percent):\n",
    "    return tuple(get_traffic_text(tp) for tp in range(traffic_percent))"
   ]
  },
  {
   "cell_type": "code",
   "execution_count": null,
   "metadata": {},
   "outputs": [],
   "source": [
    "get_experiment_segment(traffic_percent)\n",
    "dummy_data = pd.Series(\n",
    "    np.random.choice(\n",
    "        [\n",
    "            \"Hello\",\n",
    "            \"Goodbye\",\n",
    "            \"Hi\",\n",
    "            \"Can you help?\",\n",
    "            \"I have an issue, can you help me?\",\n",
    "        ],\n",
    "        100,\n",
    "    ),\n",
    "    name=\"utterance\",\n",
    ")"
   ]
  },
  {
   "cell_type": "code",
   "execution_count": null,
   "metadata": {},
   "outputs": [
    {
     "name": "stdout",
     "output_type": "stream",
     "text": [
      "I captialised the message: THE FIRST STEP\n"
     ]
    }
   ],
   "source": [
    "print(f\"I captialised the message: {message.upper()}\")\n",
    "data = dummy_data\n",
    "documents = data.tolist()\n",
    "results = {\"documents\": documents}"
   ]
  },
  {
   "cell_type": "code",
   "execution_count": null,
   "metadata": {},
   "outputs": [],
   "source": [
    "class Topics:\n",
    "    def __init__(self, documents, workers):\n",
    "        pass\n",
    "\n",
    "    def get_num_topics(self):\n",
    "        return 6\n",
    "\n",
    "    def get_topic_sizes(self):\n",
    "        return [1, 2, 3, 4, 5, 6], [1, 2, 3, 4, 5, 6]\n",
    "\n",
    "    def get_topics(self, num_topics):\n",
    "        return (\n",
    "            [\"cat\", \"sat\", \"mat\", \"mouse\", \"house\", \"grouse\"],\n",
    "            np.asarray([1, 1, 1, 1, 1, 1]),\n",
    "            [1, 2, 3, 4, 5, 6],\n",
    "        )\n",
    "\n",
    "    def plot_wordcloud(self):\n",
    "        print(\"you may want to remove plotting code from testing to speed things up\")"
   ]
  },
  {
   "cell_type": "code",
   "execution_count": null,
   "metadata": {},
   "outputs": [],
   "source": [
    "model = Topics(documents, workers=workers)\n",
    "results = {\"model\": model}"
   ]
  },
  {
   "cell_type": "code",
   "execution_count": null,
   "metadata": {},
   "outputs": [],
   "source": [
    "# import time\n",
    "\n",
    "# time.sleep(3)"
   ]
  },
  {
   "cell_type": "code",
   "execution_count": null,
   "metadata": {},
   "outputs": [
    {
     "data": {
      "text/plain": [
       "6"
      ]
     },
     "execution_count": null,
     "metadata": {},
     "output_type": "execute_result"
    }
   ],
   "source": [
    "model.get_num_topics()"
   ]
  },
  {
   "cell_type": "code",
   "execution_count": null,
   "metadata": {},
   "outputs": [],
   "source": [
    "topic_sizes, topic_nums = model.get_topic_sizes()"
   ]
  },
  {
   "cell_type": "code",
   "execution_count": null,
   "metadata": {},
   "outputs": [],
   "source": [
    "topic_words, word_scores, topic_nums = model.get_topics(model.get_num_topics())"
   ]
  },
  {
   "cell_type": "code",
   "execution_count": null,
   "metadata": {},
   "outputs": [
    {
     "name": "stdout",
     "output_type": "stream",
     "text": [
      "you may want to remove plotting code from testing to speed things up\n"
     ]
    }
   ],
   "source": [
    "# time.sleep(120)\n",
    "model.plot_wordcloud()"
   ]
  },
  {
   "cell_type": "code",
   "execution_count": null,
   "metadata": {},
   "outputs": [],
   "source": [
    "def evaluate(model):\n",
    "    topic_words, word_scores, topic_nums = model.get_topics(model.get_num_topics())\n",
    "\n",
    "    topic_contains_non_empty_words = all([len(tw) > 0 for tw in topic_words])\n",
    "    word_scores_in_range = word_scores.min() >= 0.0 and word_scores.max() <= 1.0\n",
    "    as_many_items_as_topics = (\n",
    "        model.get_num_topics() == len(topic_words) == word_scores.shape[0]\n",
    "    )\n",
    "    word_summaries = (\n",
    "        topic_contains_non_empty_words\n",
    "        and word_scores_in_range\n",
    "        and as_many_items_as_topics\n",
    "    )\n",
    "    # You can add artifacts in a step that will be saved to block storage. Add the paths to the file on the local filesystem\n",
    "    # and the artifact will be uploaded to remote storage.\n",
    "    sample_df = pd.DataFrame(\n",
    "        {\"a\": model.get_topic_sizes()[0], \"b\": model.get_topic_sizes()[1]}\n",
    "    )\n",
    "    sample_df.to_csv(\"/tmp/dataframe_artifact.csv\", index=False)\n",
    "    artifacts = [\"/tmp/dataframe_artifact.csv\"]\n",
    "    # You can add step metrics too this time just add a list of 3-tuples where tuple order = (name, value, step)\n",
    "    metrics = [(\"mae\", 100, 0), (\"mae\", 67, 1), (\"mae\", 32, 2)]\n",
    "    results = {\n",
    "        \"word_summaries\": word_summaries,\n",
    "        \"artifacts\": artifacts,\n",
    "        \"metrics\": metrics,\n",
    "    }\n",
    "    return results"
   ]
  },
  {
   "cell_type": "code",
   "execution_count": null,
   "metadata": {},
   "outputs": [],
   "source": [
    "def serve_num_topics(model):\n",
    "    return model.get_num_topics()"
   ]
  }
 ],
 "metadata": {
  "kernelspec": {
   "display_name": "python3__SAGEMAKER_INTERNAL__arn:aws:sagemaker:eu-west-1:368653567616:image-version/sciflow/3",
   "language": "python",
   "name": "python3__SAGEMAKER_INTERNAL__arn:aws:sagemaker:eu-west-1:368653567616:image-version/sciflow/3"
  }
 },
 "nbformat": 4,
 "nbformat_minor": 4
}
