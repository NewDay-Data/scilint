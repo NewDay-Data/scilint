{
 "cells": [
  {
   "cell_type": "raw",
   "metadata": {},
   "source": [
    "---\n",
    "description: nbqa autoflake my_notebook.ipynb -i --remove-unused-variables\n",
    "output-file: scilint.html\n",
    "title: Data Science Notebook Linting\n",
    "\n",
    "---\n",
    "\n"
   ]
  },
  {
   "cell_type": "code",
   "execution_count": 4,
   "metadata": {
    "tags": []
   },
   "outputs": [],
   "source": [
    "# | include: false\n",
    "# | default_exp scilint"
   ]
  },
  {
   "cell_type": "code",
   "execution_count": 5,
   "metadata": {
    "tags": []
   },
   "outputs": [],
   "source": [
    "# | export\n",
    "\n",
    "import ast\n",
    "import os\n",
    "import re\n",
    "import shutil\n",
    "import sys\n",
    "from collections import Counter\n",
    "from pathlib import Path\n",
    "from typing import Iterable\n",
    "import warnings\n",
    "\n",
    "import nbformat\n",
    "import numpy as np\n",
    "import pandas as pd\n",
    "from execnb.nbio import read_nb\n",
    "from fastcore.script import call_parse\n",
    "from nbdev.config import add_init, get_config\n",
    "from nbdev.doclinks import _build_modidx, nbglob\n",
    "from nbdev.export import nb_export\n",
    "from nbdev.quarto import nbdev_docs, nbdev_readme\n",
    "from nbqa.__main__ import _get_configs, _main\n",
    "from nbqa.cmdline import CLIArgs\n",
    "from nbqa.find_root import find_project_root"
   ]
  },
  {
   "cell_type": "code",
   "execution_count": 6,
   "metadata": {},
   "outputs": [],
   "source": [
    "%load_ext autoreload\n",
    "%autoreload 2"
   ]
  },
  {
   "cell_type": "markdown",
   "metadata": {},
   "source": [
    "# Read-in Test Data"
   ]
  },
  {
   "cell_type": "code",
   "execution_count": 7,
   "metadata": {},
   "outputs": [],
   "source": [
    "nbdev_path = Path(Path(\".\").resolve(), \"example_nbs\", \"nbdev.ipynb\")\n",
    "nbdev_hq_path = Path(Path(\".\").resolve(), \"example_nbs\", \"nbdev_high_quality.ipynb\")\n",
    "non_nbdev_path = Path(Path(\".\").resolve(), \"example_nbs\", \"non_nbdev.ipynb\")\n",
    "non_nbdev_lq_path = Path(\n",
    "    Path(\".\").resolve(), \"example_nbs\", \"non_nbdev_low_quality.ipynb\"\n",
    ")\n",
    "index_path = Path(Path(\".\").resolve(), \"index.ipynb\")\n",
    "\n",
    "nbdev_nb = read_nb(nbdev_path)\n",
    "nbdev_hq_nb = read_nb(nbdev_hq_path)\n",
    "non_nbdev_nb = read_nb(non_nbdev_path)\n",
    "non_nbdev_lq_nb = read_nb(non_nbdev_lq_path)\n",
    "index = read_nb(index_path)"
   ]
  },
  {
   "cell_type": "markdown",
   "metadata": {
    "tags": []
   },
   "source": [
    "# `scilint_tidy` wrapper around no decisions version of nbqa"
   ]
  },
  {
   "cell_type": "code",
   "execution_count": 8,
   "metadata": {},
   "outputs": [],
   "source": [
    "# | export\n",
    "\n",
    "\n",
    "def run_nbqa_cmd(cmd):\n",
    "    print(f\"Running {cmd}\")\n",
    "    project_root: Path = find_project_root(tuple([str(Path(\".\").resolve())]))\n",
    "    args = CLIArgs.parse_args([cmd, str(project_root)])\n",
    "    configs = _get_configs(args, project_root)\n",
    "    output_code = _main(args, configs)\n",
    "    return output_code"
   ]
  },
  {
   "cell_type": "code",
   "execution_count": 9,
   "metadata": {},
   "outputs": [],
   "source": [
    "project_root: Path = find_project_root(tuple([str(Path(\".\").resolve())]))\n",
    "assert os.path.basename(project_root) == \"scilint\""
   ]
  },
  {
   "cell_type": "code",
   "execution_count": 10,
   "metadata": {},
   "outputs": [],
   "source": [
    "# | export\n",
    "\n",
    "\n",
    "def tidy():\n",
    "    tidy_tools = [\"black\", \"isort\", \"autoflake\"]\n",
    "    [run_nbqa_cmd(c) for c in tidy_tools]"
   ]
  },
  {
   "cell_type": "code",
   "execution_count": 11,
   "metadata": {},
   "outputs": [],
   "source": [
    "# | export\n",
    "\n",
    "\n",
    "@call_parse\n",
    "def scilint_tidy():\n",
    "    tidy()"
   ]
  },
  {
   "cell_type": "markdown",
   "metadata": {
    "tags": []
   },
   "source": [
    "# Quality relevant data extraction"
   ]
  },
  {
   "cell_type": "markdown",
   "metadata": {
    "tags": []
   },
   "source": [
    "## Helpers"
   ]
  },
  {
   "cell_type": "code",
   "execution_count": 12,
   "metadata": {},
   "outputs": [],
   "source": [
    "# | export\n",
    "\n",
    "\n",
    "def get_func_defs(code, ignore_private_prefix=True):\n",
    "    func_names = []\n",
    "    for stmt in ast.walk(ast.parse(code)):\n",
    "        if isinstance(stmt, ast.FunctionDef):\n",
    "            inner_cond = (\n",
    "                False if ignore_private_prefix and stmt.name.startswith(\"_\") else True\n",
    "            )\n",
    "            if inner_cond:\n",
    "                func_names.append(stmt.name)\n",
    "    return func_names"
   ]
  },
  {
   "cell_type": "code",
   "execution_count": 13,
   "metadata": {},
   "outputs": [],
   "source": [
    "test_code = \"\"\"\n",
    "x()\n",
    "def y():\n",
    "    pass\n",
    "def z():\n",
    "    def a():\n",
    "        pass\n",
    "class A():\n",
    "    def b():\n",
    "        pass\n",
    "def blabla():\n",
    "    return 1\n",
    "def _hidden():\n",
    "    return None\n",
    "\"\"\"\n",
    "func_defs = [\"a\", \"b\", \"blabla\", \"y\", \"z\"]\n",
    "assert func_defs == sorted(get_func_defs(test_code))"
   ]
  },
  {
   "cell_type": "code",
   "execution_count": 14,
   "metadata": {},
   "outputs": [],
   "source": [
    "# | export\n",
    "\n",
    "\n",
    "def count_func_calls(code, func_defs):\n",
    "    func_calls = Counter({k: 0 for k in func_defs})\n",
    "    for stmt in ast.walk(ast.parse(code)):\n",
    "        if isinstance(stmt, ast.Call):\n",
    "            func_name = stmt.func.id if \"id\" in stmt.func.__dict__ else stmt.func.attr\n",
    "            if func_name in func_defs:\n",
    "                if func_name in func_calls:\n",
    "                    func_calls[func_name] += 1\n",
    "    return func_calls"
   ]
  },
  {
   "cell_type": "code",
   "execution_count": 15,
   "metadata": {},
   "outputs": [],
   "source": [
    "test_code = \"\"\"self.hierarchical_topic_reduction(3); \n",
    "topic_reduction(3); \n",
    "lambda x: topic(x); \n",
    "hierarchical_topic_reduction[4]; \n",
    "hierarchical_topic_reduction(4); \n",
    "blabla()\n",
    "\"\"\"\n",
    "test_func_defs = [\n",
    "    \"topic\",\n",
    "    \"topic_reduction\",\n",
    "    \"blablabla\",\n",
    "    \"hierarchical_topic_reduction\",\n",
    "]"
   ]
  },
  {
   "cell_type": "code",
   "execution_count": 16,
   "metadata": {},
   "outputs": [],
   "source": [
    "assert count_func_calls(test_code, test_func_defs) == Counter(\n",
    "    {\n",
    "        \"topic\": 1,\n",
    "        \"topic_reduction\": 1,\n",
    "        \"blablabla\": 0,\n",
    "        \"hierarchical_topic_reduction\": 2,\n",
    "    }\n",
    ")"
   ]
  },
  {
   "cell_type": "code",
   "execution_count": 17,
   "metadata": {},
   "outputs": [],
   "source": [
    "nb_cell_code = r\"\"\"\n",
    "def something():\n",
    "    pass; pass # in x 2\n",
    "    \n",
    "%load_ext autoreload\n",
    "%autoreload 2\n",
    "\n",
    "!ls -l\n",
    "if 1!= 2:\n",
    "    print(4)\n",
    "#| export\n",
    "\n",
    "import pandas as pd # out\n",
    "from sciflow.utils import lib_path, odbc_connect, query # out\n",
    "\n",
    "#| export\n",
    "\n",
    "def nb_to_sagemaker_pipeline(\n",
    "    nb_path: Path,\n",
    "    silent: bool = True,\n",
    "):\n",
    "    nb = read_nb(nb_path)  # in\n",
    "    lib_name = get_config().get(\"lib_name\")  # in\n",
    "    module_name = find_default_export(nb[\"cells\"])  # in\n",
    "    \n",
    "x = [1,2,3] # out\n",
    "nb_to_sagemaker_pipeline() # out\n",
    "\"\"\""
   ]
  },
  {
   "cell_type": "code",
   "execution_count": 18,
   "metadata": {},
   "outputs": [],
   "source": [
    "# | export\n",
    "\n",
    "\n",
    "def replace_ipython_magics(code):\n",
    "    # Replace Ipython magic and shell command symbol with comment\n",
    "    code = code.replace(\"%\", \"#\")\n",
    "    code = re.sub(r\"^!\", \"#\", code)\n",
    "    return re.sub(r\"\\n\\W?!\", \"\\n#\", code)"
   ]
  },
  {
   "cell_type": "code",
   "execution_count": 19,
   "metadata": {},
   "outputs": [],
   "source": [
    "throws = False\n",
    "try:\n",
    "    assert ast.parse(nb_cell_code)\n",
    "except SyntaxError:\n",
    "    throws = True\n",
    "assert throws\n",
    "assert type(ast.parse(replace_ipython_magics(nb_cell_code))) == ast.Module"
   ]
  },
  {
   "cell_type": "code",
   "execution_count": 20,
   "metadata": {},
   "outputs": [],
   "source": [
    "# | export\n",
    "\n",
    "\n",
    "def safe_div(numer, denom):\n",
    "    return 0 if denom == 0 else numer / denom"
   ]
  },
  {
   "cell_type": "code",
   "execution_count": 21,
   "metadata": {},
   "outputs": [],
   "source": [
    "assert safe_div(1, 1) == 1\n",
    "assert safe_div(2, 1) == 2\n",
    "assert safe_div(1, 2) == 0.5\n",
    "assert safe_div(0, 1) == 0\n",
    "assert safe_div(1, 0) == 0\n",
    "assert safe_div(10, 1) == 10"
   ]
  },
  {
   "cell_type": "code",
   "execution_count": 22,
   "metadata": {},
   "outputs": [],
   "source": [
    "# | export\n",
    "\n",
    "\n",
    "def get_cell_code(nb):\n",
    "    pnb = nbformat.from_dict(nb)\n",
    "    nb_cell_code = \"\\n\".join(\n",
    "        [\n",
    "            replace_ipython_magics(c[\"source\"])\n",
    "            for c in pnb.cells\n",
    "            if c[\"cell_type\"] == \"code\"\n",
    "        ]\n",
    "    )\n",
    "    return nb_cell_code"
   ]
  },
  {
   "cell_type": "markdown",
   "metadata": {
    "tags": []
   },
   "source": [
    "## 1. Calls-per-Function"
   ]
  },
  {
   "cell_type": "code",
   "execution_count": 23,
   "metadata": {},
   "outputs": [],
   "source": [
    "# | export\n",
    "\n",
    "\n",
    "def calls_per_func(nb):\n",
    "    nb_cell_code = get_cell_code(nb)\n",
    "    func_defs = get_func_defs(nb_cell_code)\n",
    "    func_calls = count_func_calls(nb_cell_code, func_defs)\n",
    "    return func_calls"
   ]
  },
  {
   "cell_type": "code",
   "execution_count": 24,
   "metadata": {
    "tags": []
   },
   "outputs": [],
   "source": [
    "# | export\n",
    "\n",
    "\n",
    "def mean_cpf(nb):\n",
    "    return pd.Series(calls_per_func(nb)).mean()"
   ]
  },
  {
   "cell_type": "code",
   "execution_count": 25,
   "metadata": {
    "tags": []
   },
   "outputs": [],
   "source": [
    "# | export\n",
    "\n",
    "\n",
    "def median_cpf(nb):\n",
    "    return pd.Series(calls_per_func(nb)).median()"
   ]
  },
  {
   "cell_type": "code",
   "execution_count": 26,
   "metadata": {
    "tags": []
   },
   "outputs": [],
   "source": [
    "assert mean_cpf(nbdev_nb).round(2) == 2.23\n",
    "assert median_cpf(nbdev_nb) == 1"
   ]
  },
  {
   "cell_type": "code",
   "execution_count": 27,
   "metadata": {
    "tags": []
   },
   "outputs": [],
   "source": [
    "assert mean_cpf(read_nb(nbdev_path)).round(2) == 2.23\n",
    "assert mean_cpf(read_nb(nbdev_hq_path)).round(2) == 2.5\n",
    "assert mean_cpf(read_nb(non_nbdev_path)).round(2) == 1.0\n",
    "assert mean_cpf(read_nb(non_nbdev_lq_path)).round(2) == 1.62\n",
    "assert pd.isnull(mean_cpf(index))"
   ]
  },
  {
   "cell_type": "code",
   "execution_count": 28,
   "metadata": {
    "tags": []
   },
   "outputs": [],
   "source": [
    "assert median_cpf(read_nb(nbdev_path)) == 1.0\n",
    "assert median_cpf(read_nb(nbdev_hq_path)).round(2) == 1.5\n",
    "assert median_cpf(read_nb(non_nbdev_path)).round(2) == 1.0\n",
    "assert median_cpf(read_nb(non_nbdev_lq_path)).round(2) == 1.0\n",
    "assert pd.isnull(median_cpf(index))"
   ]
  },
  {
   "cell_type": "markdown",
   "metadata": {
    "tags": []
   },
   "source": [
    "## 2. Asserts-to-Function Ratio"
   ]
  },
  {
   "cell_type": "code",
   "execution_count": 29,
   "metadata": {
    "tags": []
   },
   "outputs": [],
   "source": [
    "asserted_code = r\"\"\"\n",
    "def something():\n",
    "    pass; pass # in x 2\n",
    "    \n",
    "assert True\n",
    "\n",
    "#| export\n",
    "\n",
    "def nb_to_sagemaker_pipeline(\n",
    "    nb_path: Path,\n",
    "    silent: bool = True,\n",
    "):\n",
    "    nb = read_nb(nb_path)  # in\n",
    "    lib_name = get_config().get(\"lib_name\")  # in\n",
    "    module_name = find_default_export(nb[\"cells\"])  # in\n",
    "    \n",
    "x = [1,2,3] # out\n",
    "assert len(x) > 2\n",
    "assert something() is None # something +1\n",
    "\n",
    "def tr():\n",
    "    return True\n",
    "    \n",
    "def get_seg(num):\n",
    "    return 2\n",
    "    \n",
    "assert(tr)\n",
    "assert(tr()) # tr +1\n",
    "assert(tr() == 4) # tr +1\n",
    "assert(4 ==tr()) # tr +1\n",
    "assert 0 != 0\n",
    "assert \"' '\".join(tr(1)) == \"00\" # tr +1\n",
    "assert len(get_seg(50)) == 50 # get_seg +1\n",
    "assert max([int(x) for x in get_seg(100)]) == 99 # get_seg +1\n",
    "\"\"\""
   ]
  },
  {
   "cell_type": "code",
   "execution_count": 30,
   "metadata": {
    "tags": []
   },
   "outputs": [],
   "source": [
    "import nbformat as nbf"
   ]
  },
  {
   "cell_type": "code",
   "execution_count": 31,
   "metadata": {
    "tags": []
   },
   "outputs": [],
   "source": [
    "asserted_nb = nbf.v4.new_notebook()\n",
    "asserted_nb[\"cells\"] = [nbf.v4.new_code_cell(asserted_code)]"
   ]
  },
  {
   "cell_type": "code",
   "execution_count": 32,
   "metadata": {
    "tags": []
   },
   "outputs": [],
   "source": [
    "# | export\n",
    "\n",
    "\n",
    "def afr(nb):\n",
    "    nb_cell_code = get_cell_code(nb)\n",
    "    if nb_cell_code == \"\":  # no code cells - metrics is not well defined\n",
    "        return np.nan\n",
    "    func_defs = get_func_defs(nb_cell_code)\n",
    "    num_funcs = len(func_defs)\n",
    "\n",
    "    assert_count = 0\n",
    "    for stmt in ast.walk(ast.parse(nb_cell_code)):\n",
    "        if isinstance(stmt, ast.Assert):\n",
    "            assert_count += 1\n",
    "\n",
    "    return safe_div(assert_count, num_funcs)"
   ]
  },
  {
   "cell_type": "code",
   "execution_count": 33,
   "metadata": {
    "tags": []
   },
   "outputs": [],
   "source": [
    "assert afr(nbdev_nb) > 1\n",
    "assert afr(nbdev_hq_nb) > 1\n",
    "assert afr(non_nbdev_nb) == 0\n",
    "assert afr(non_nbdev_lq_nb) == 0\n",
    "assert pd.isnull(afr(index))"
   ]
  },
  {
   "cell_type": "markdown",
   "metadata": {
    "tags": []
   },
   "source": [
    "## 3. In-line Asserts Per Function"
   ]
  },
  {
   "cell_type": "code",
   "execution_count": 34,
   "metadata": {
    "tags": []
   },
   "outputs": [],
   "source": [
    "# | export\n",
    "\n",
    "\n",
    "def count_inline_asserts(code, func_defs):\n",
    "    inline_func_asserts = Counter({k: 0 for k in func_defs})\n",
    "\n",
    "    for stmt in ast.walk(ast.parse(code)):\n",
    "        if isinstance(stmt, ast.Assert):\n",
    "            for assert_st in ast.walk(stmt):\n",
    "                if isinstance(assert_st, ast.Call):\n",
    "                    func_name = (\n",
    "                        assert_st.func.id\n",
    "                        if \"id\" in assert_st.func.__dict__\n",
    "                        else assert_st.func.attr\n",
    "                    )\n",
    "                    if func_name in inline_func_asserts:\n",
    "                        inline_func_asserts[func_name] += 1\n",
    "    return inline_func_asserts"
   ]
  },
  {
   "cell_type": "code",
   "execution_count": 35,
   "metadata": {
    "tags": []
   },
   "outputs": [],
   "source": [
    "# | export\n",
    "\n",
    "\n",
    "def iaf(nb):\n",
    "    nb_cell_code = get_cell_code(nb)\n",
    "    if nb_cell_code == \"\":\n",
    "        return np.nan\n",
    "    func_defs = get_func_defs(nb_cell_code)\n",
    "    return count_inline_asserts(nb_cell_code, func_defs)"
   ]
  },
  {
   "cell_type": "code",
   "execution_count": 36,
   "metadata": {
    "tags": []
   },
   "outputs": [],
   "source": [
    "func_defs = get_func_defs(asserted_code)\n",
    "inline_asserts_expected = Counter(\n",
    "    {\"something\": 1, \"tr\": 4, \"get_seg\": 2, \"nb_to_sagemaker_pipeline\": 0}\n",
    ")\n",
    "inline_asserts_actual = count_inline_asserts(asserted_code, func_defs)"
   ]
  },
  {
   "cell_type": "code",
   "execution_count": 37,
   "metadata": {
    "tags": []
   },
   "outputs": [],
   "source": [
    "assert inline_asserts_actual == inline_asserts_expected"
   ]
  },
  {
   "cell_type": "code",
   "execution_count": 39,
   "metadata": {
    "tags": []
   },
   "outputs": [],
   "source": [
    "assert 0.0 == pd.Series(iaf(nbdev_nb)).median()\n",
    "assert 0.0 == pd.Series(iaf(nbdev_hq_nb)).median()\n",
    "assert 0.0 == pd.Series(iaf(non_nbdev_nb)).median()\n",
    "assert 0.0 == pd.Series(iaf(non_nbdev_lq_nb)).median()\n",
    "with warnings.catch_warnings():\n",
    "    warnings.filterwarnings(action='ignore', message='Mean of empty slice')\n",
    "    assert pd.isnull(pd.Series(iaf(index)).median())"
   ]
  },
  {
   "cell_type": "code",
   "execution_count": 40,
   "metadata": {
    "tags": []
   },
   "outputs": [
    {
     "data": {
      "text/plain": [
       "Counter({'scalar': 0, 'py_advanced': 0, 'pandas': 0})"
      ]
     },
     "execution_count": 40,
     "metadata": {},
     "output_type": "execute_result"
    }
   ],
   "source": [
    "iaf(non_nbdev_nb)"
   ]
  },
  {
   "cell_type": "code",
   "execution_count": 41,
   "metadata": {
    "tags": []
   },
   "outputs": [
    {
     "data": {
      "text/plain": [
       "Counter({'get_traffic_text': 0,\n",
       "         'get_experiment_segment': 0,\n",
       "         'evaluate': 0,\n",
       "         'serve_num_topics': 0,\n",
       "         'get_num_topics': 0,\n",
       "         'get_topic_sizes': 0,\n",
       "         'get_topics': 0,\n",
       "         'plot_wordcloud': 0})"
      ]
     },
     "execution_count": 41,
     "metadata": {},
     "output_type": "execute_result"
    }
   ],
   "source": [
    "iaf(non_nbdev_lq_nb)"
   ]
  },
  {
   "cell_type": "code",
   "execution_count": 42,
   "metadata": {
    "tags": []
   },
   "outputs": [],
   "source": [
    "assert inline_asserts_expected == iaf(asserted_nb)"
   ]
  },
  {
   "cell_type": "code",
   "execution_count": 43,
   "metadata": {
    "tags": []
   },
   "outputs": [],
   "source": [
    "# | export\n",
    "\n",
    "\n",
    "def mean_iaf(nb):\n",
    "    return pd.Series(iaf(nb)).mean()"
   ]
  },
  {
   "cell_type": "code",
   "execution_count": 64,
   "metadata": {
    "tags": []
   },
   "outputs": [],
   "source": [
    "# | export\n",
    "\n",
    "\n",
    "def median_iaf(nb):\n",
    "    with warnings.catch_warnings():\n",
    "        warnings.filterwarnings(action='ignore', message='Mean of empty slice')\n",
    "        return pd.Series(iaf(nb)).median()"
   ]
  },
  {
   "cell_type": "markdown",
   "metadata": {},
   "source": [
    "## Full Code Coverage?"
   ]
  },
  {
   "cell_type": "markdown",
   "metadata": {},
   "source": [
    "How does pytest-cov do it?"
   ]
  },
  {
   "cell_type": "markdown",
   "metadata": {
    "tags": []
   },
   "source": [
    "## 2. In-function Percentage"
   ]
  },
  {
   "cell_type": "code",
   "execution_count": 65,
   "metadata": {
    "tags": []
   },
   "outputs": [],
   "source": [
    "# | export\n",
    "\n",
    "\n",
    "def calc_ifp(nb_cell_code):\n",
    "    stmts_in_func = 0\n",
    "    stmts_outside_func = 0\n",
    "    for stmt in ast.walk(ast.parse(replace_ipython_magics(nb_cell_code))):\n",
    "        if isinstance(stmt, ast.FunctionDef) and not stmt.name.startswith(\"_\"):\n",
    "            for body_item in stmt.body:\n",
    "                stmts_in_func += 1\n",
    "        elif isinstance(stmt, ast.Module):\n",
    "            for body_item in stmt.body:\n",
    "                if not isinstance(body_item, ast.FunctionDef):\n",
    "                    stmts_outside_func += 1\n",
    "    return (\n",
    "        0\n",
    "        if stmts_outside_func + stmts_in_func == 0\n",
    "        else (stmts_in_func / (stmts_outside_func + stmts_in_func)) * 100\n",
    "    )"
   ]
  },
  {
   "cell_type": "code",
   "execution_count": 66,
   "metadata": {
    "tags": []
   },
   "outputs": [],
   "source": [
    "assert (calc_ifp(nb_cell_code)) == (5 / (5 + 5)) * 100"
   ]
  },
  {
   "cell_type": "code",
   "execution_count": 67,
   "metadata": {
    "tags": []
   },
   "outputs": [],
   "source": [
    "# | export\n",
    "\n",
    "\n",
    "def ifp(nb):\n",
    "    nb_cell_code = \"\\n\".join(\n",
    "        [\n",
    "            replace_ipython_magics(c[\"source\"])\n",
    "            for c in nb.cells\n",
    "            if c[\"cell_type\"] == \"code\"\n",
    "        ]\n",
    "    )\n",
    "    if nb_cell_code == \"\":\n",
    "        return np.nan\n",
    "    return calc_ifp(nb_cell_code)"
   ]
  },
  {
   "cell_type": "code",
   "execution_count": 68,
   "metadata": {
    "tags": []
   },
   "outputs": [],
   "source": [
    "assert ifp(nbdev_nb) >= 0\n",
    "assert ifp(nbdev_hq_nb) >= 0\n",
    "assert ifp(non_nbdev_nb) >= 0\n",
    "assert ifp(non_nbdev_lq_nb) >= 0\n",
    "assert pd.isnull(ifp(index))"
   ]
  },
  {
   "cell_type": "markdown",
   "metadata": {
    "tags": []
   },
   "source": [
    "## 3. Markdown to Code Percent"
   ]
  },
  {
   "cell_type": "code",
   "execution_count": 69,
   "metadata": {
    "tags": []
   },
   "outputs": [],
   "source": [
    "# | export\n",
    "\n",
    "\n",
    "def mcp(nb):\n",
    "    md_cells = [c for c in nb.cells if c[\"cell_type\"] == \"markdown\"]\n",
    "    code_cells = [c for c in nb.cells if c[\"cell_type\"] == \"code\"]\n",
    "    num_code_cells = len(code_cells)\n",
    "    if num_code_cells == 0:\n",
    "        return np.nan\n",
    "    num_md_cells = len(md_cells)\n",
    "    return (\n",
    "        100\n",
    "        if num_code_cells == 0\n",
    "        else (num_md_cells / (num_md_cells + num_code_cells)) * 100\n",
    "    )"
   ]
  },
  {
   "cell_type": "code",
   "execution_count": 70,
   "metadata": {
    "tags": []
   },
   "outputs": [],
   "source": [
    "assert mcp(nbdev_nb) >= 0\n",
    "assert mcp(nbdev_hq_nb) >= 0\n",
    "assert mcp(non_nbdev_nb) >= 0\n",
    "assert mcp(non_nbdev_lq_nb) >= 0\n",
    "assert pd.isnull(mcp(index))"
   ]
  },
  {
   "cell_type": "markdown",
   "metadata": {
    "tags": []
   },
   "source": [
    "## 4. Total Code Length"
   ]
  },
  {
   "cell_type": "code",
   "execution_count": 71,
   "metadata": {
    "tags": []
   },
   "outputs": [],
   "source": [
    "# | export\n",
    "\n",
    "\n",
    "def tcl(nb):\n",
    "    return sum([len(c[\"source\"]) for c in nb.cells if c[\"cell_type\"] == \"code\"])"
   ]
  },
  {
   "cell_type": "code",
   "execution_count": 72,
   "metadata": {
    "tags": []
   },
   "outputs": [],
   "source": [
    "assert tcl(nbdev_nb) >= 50\n",
    "assert tcl(nbdev_hq_nb) >= 50\n",
    "assert tcl(non_nbdev_nb) >= 50\n",
    "assert tcl(non_nbdev_lq_nb) >= 50"
   ]
  },
  {
   "cell_type": "code",
   "execution_count": 73,
   "metadata": {
    "tags": []
   },
   "outputs": [],
   "source": [
    "# | export\n",
    "\n",
    "\n",
    "def lint_nb(\n",
    "    nb_path,\n",
    "    include_in_scoring,\n",
    "    rounding_precision=3,\n",
    "):\n",
    "    nb = read_nb(nb_path)\n",
    "\n",
    "    import warnings\n",
    "    with warnings.catch_warnings():\n",
    "        warnings.simplefilter(\"ignore\", category=RuntimeWarning)\n",
    "        nb_cpf_median = round(median_cpf(nb), rounding_precision)\n",
    "        nb_cpf_mean = round(mean_cpf(nb), rounding_precision)\n",
    "        nb_ifp = round(ifp(nb), rounding_precision)\n",
    "        nb_afr = round(afr(nb), rounding_precision)\n",
    "        nb_iaf_median = round(median_iaf(nb), rounding_precision)\n",
    "    nb_iaf_mean = round(mean_iaf(nb), rounding_precision)\n",
    "    nb_mcp = round(mcp(nb), rounding_precision)\n",
    "    nb_tcl = round(tcl(nb), rounding_precision)\n",
    "\n",
    "    return (\n",
    "        nb_cpf_median,\n",
    "        nb_cpf_mean,\n",
    "        nb_ifp,\n",
    "        nb_afr,\n",
    "        nb_iaf_median,\n",
    "        nb_iaf_mean,\n",
    "        nb_mcp,\n",
    "        nb_tcl,\n",
    "        include_in_scoring,\n",
    "    )"
   ]
  },
  {
   "cell_type": "code",
   "execution_count": 74,
   "metadata": {
    "tags": []
   },
   "outputs": [],
   "source": [
    "# | export\n",
    "\n",
    "\n",
    "# TODO generate and persist a new dataframe of warnings from this..\n",
    "\n",
    "\n",
    "def format_quality_warning(metric, warning_data, warn_thresh, direction):\n",
    "    for warning_row in warning_data.reset_index().itertuples():\n",
    "        print(f'\"{warning_row.index}\" has: {metric} {direction} {warn_thresh}')"
   ]
  },
  {
   "cell_type": "code",
   "execution_count": 75,
   "metadata": {
    "tags": []
   },
   "outputs": [],
   "source": [
    "# | export\n",
    "\n",
    "\n",
    "def get_excluded_paths(paths: Iterable[Path], exclude_pattern: str):\n",
    "    excl_paths = []\n",
    "    for ex_pattern in exclude_pattern.split(\",\"):\n",
    "        ex_path = Path(ex_pattern)\n",
    "        if ex_path.exists():\n",
    "            excl_paths.extend([p for p in paths if ex_pattern in str(p)])\n",
    "        elif not ex_path.exists():\n",
    "            raise ValueError(f\"Path component: {ex_path} does not exist\")\n",
    "        else:\n",
    "            raise ValueError(\n",
    "                f\"Invalid exclusion pattern: {ex_path} pattern is comma separrated list of 'dir/' for directories and 'name.ipynb' for specific notebook\"\n",
    "            )\n",
    "    return excl_paths"
   ]
  },
  {
   "cell_type": "code",
   "execution_count": 76,
   "metadata": {
    "tags": []
   },
   "outputs": [],
   "source": [
    "paths = [Path(p) for p in nbglob()]\n",
    "assert sorted(\n",
    "    [\n",
    "        p.name\n",
    "        for p in get_excluded_paths(paths, exclude_pattern=\"example_nbs/,index.ipynb\")\n",
    "    ]\n",
    ") == sorted(\n",
    "    [\n",
    "        \"non_nbdev_low_quality.ipynb\",\n",
    "        \"nbdev_high_quality.ipynb\",\n",
    "        \"non_nbdev.ipynb\",\n",
    "        \"nbdev.ipynb\",\n",
    "        \"index.ipynb\",\n",
    "    ]\n",
    ")\n",
    "assert sorted(\n",
    "    [\n",
    "        p.name\n",
    "        for p in get_excluded_paths(\n",
    "            paths, exclude_pattern=\"example_nbs/nbdev.ipynb,index.ipynb\"\n",
    "        )\n",
    "    ]\n",
    ") == sorted([\"nbdev.ipynb\", \"index.ipynb\"])"
   ]
  },
  {
   "cell_type": "code",
   "execution_count": 77,
   "metadata": {
    "tags": []
   },
   "outputs": [],
   "source": [
    "# | export\n",
    "\n",
    "\n",
    "def lint_nbs(\n",
    "    cpf_med_warn_thresh=1,\n",
    "    cpf_mean_warn_thresh=1,\n",
    "    ifp_warn_thresh=20,\n",
    "    afr_warn_thresh=1,\n",
    "    iaf_med_warn_thresh=0,\n",
    "    iaf_mean_warn_thresh=0.5,\n",
    "    mcp_warn_thresh=5,\n",
    "    tcl_warn_thresh=30000,\n",
    "    rounding_precision=3,\n",
    "    csv_out_path=\"/tmp/scilint.csv\",\n",
    "    exclusions=None,\n",
    "):\n",
    "    nb_paths = [Path(p) for p in nbglob()]\n",
    "\n",
    "    excluded_paths = None\n",
    "    if exclusions is not None:\n",
    "        excluded_paths = get_excluded_paths(nb_paths, exclude_pattern=exclusions)\n",
    "\n",
    "    lt_metric_cols = [\n",
    "        \"cpf_median\",\n",
    "        \"cpf_mean\",\n",
    "        \"in_function_pct\",\n",
    "        \"asserts_function_ratio\",\n",
    "        \"iaf_median\",\n",
    "        \"iaf_mean\",\n",
    "        \"markdown_code_pct\",\n",
    "    ]\n",
    "    gt_metric_cols = [\"total_code_len\"]\n",
    "    lt_metrics_thresholds = [\n",
    "        cpf_med_warn_thresh,\n",
    "        cpf_mean_warn_thresh,\n",
    "        ifp_warn_thresh,\n",
    "        afr_warn_thresh,\n",
    "        iaf_med_warn_thresh,\n",
    "        iaf_mean_warn_thresh,\n",
    "        mcp_warn_thresh,\n",
    "    ]\n",
    "    gt_metrics_thresholds = [tcl_warn_thresh]\n",
    "    results = []\n",
    "    nb_names = []\n",
    "    for nb_path in nb_paths:\n",
    "        include_in_scoring = True\n",
    "        if exclusions is not None:\n",
    "            include_in_scoring = False if nb_path in excluded_paths else True\n",
    "\n",
    "        nb_names.append(nb_path.stem)\n",
    "        results.append(lint_nb(nb_path, include_in_scoring, rounding_precision))\n",
    "    lint_report = pd.DataFrame.from_records(\n",
    "        data=results,\n",
    "        index=nb_names,\n",
    "        columns=lt_metric_cols + gt_metric_cols + [\"include_in_scoring\"],\n",
    "    ).sort_values([\"cpf_median\", \"markdown_code_pct\"], ascending=False)\n",
    "\n",
    "    # Calculate warnings only from notebooks included in scoring\n",
    "    scoring_report = lint_report[lint_report.include_in_scoring].copy()\n",
    "\n",
    "    num_warnings = calculate_warnings(\n",
    "        scoring_report,\n",
    "        lt_metric_cols,\n",
    "        lt_metrics_thresholds,\n",
    "        gt_metric_cols,\n",
    "        gt_metrics_thresholds,\n",
    "    )\n",
    "\n",
    "    lint_report.to_csv(csv_out_path)\n",
    "\n",
    "    return lint_report, num_warnings"
   ]
  },
  {
   "cell_type": "code",
   "execution_count": 78,
   "metadata": {
    "tags": []
   },
   "outputs": [],
   "source": [
    "# | export\n",
    "\n",
    "\n",
    "def calculate_warnings(\n",
    "    scoring_report,\n",
    "    lt_metric_cols,\n",
    "    lt_metrics_thresholds,\n",
    "    gt_metric_cols,\n",
    "    gt_metrics_thresholds,\n",
    "):\n",
    "    # TODO tidy this up to usual config dict\n",
    "    print(\"\\n*********************Begin Scilint Report*********************\")\n",
    "    issues_raised = False\n",
    "    num_warnings = 0\n",
    "\n",
    "    for lt_metric_col, lt_metrics_threshold in zip(\n",
    "        lt_metric_cols, lt_metrics_thresholds\n",
    "    ):\n",
    "        metrics_series = scoring_report[lt_metric_col]\n",
    "        warning_data = metrics_series[metrics_series < lt_metrics_threshold]\n",
    "\n",
    "        num_warnings += len(warning_data)\n",
    "        if num_warnings > 0:\n",
    "            issues_raised = True\n",
    "        format_quality_warning(\n",
    "            lt_metric_col,\n",
    "            warning_data,\n",
    "            lt_metrics_threshold,\n",
    "            direction=\"<\",\n",
    "        )\n",
    "    for gt_metric_col, gt_metrics_threshold in zip(\n",
    "        gt_metric_cols, gt_metrics_thresholds\n",
    "    ):\n",
    "        metrics_series = scoring_report[gt_metric_col]\n",
    "        warning_data = metrics_series[metrics_series > gt_metrics_threshold]\n",
    "        num_warnings += len(warning_data)\n",
    "        if num_warnings > 0:\n",
    "            issues_raised = True\n",
    "        format_quality_warning(\n",
    "            gt_metric_col,\n",
    "            warning_data,\n",
    "            gt_metrics_threshold,\n",
    "            direction=\">\",\n",
    "        )\n",
    "    if not issues_raised:\n",
    "        print(\"No issues found\")\n",
    "    print(\"*********************End Scilint Report***********************\")\n",
    "    return num_warnings"
   ]
  },
  {
   "cell_type": "code",
   "execution_count": 79,
   "metadata": {
    "tags": []
   },
   "outputs": [
    {
     "name": "stdout",
     "output_type": "stream",
     "text": [
      "\n",
      "*********************Begin Scilint Report*********************\n",
      "\"non_nbdev_low_quality\" has: asserts_function_ratio < 1\n",
      "\"non_nbdev\" has: asserts_function_ratio < 1\n",
      "\"non_nbdev_low_quality\" has: iaf_mean < 0.5\n",
      "\"non_nbdev\" has: iaf_mean < 0.5\n",
      "\"non_nbdev\" has: markdown_code_pct < 5\n",
      "*********************End Scilint Report***********************\n"
     ]
    }
   ],
   "source": [
    "lint_report, num_warnings = lint_nbs()\n",
    "assert num_warnings == 5"
   ]
  },
  {
   "cell_type": "code",
   "execution_count": 80,
   "metadata": {
    "tags": []
   },
   "outputs": [
    {
     "data": {
      "text/html": [
       "<div>\n",
       "<style scoped>\n",
       "    .dataframe tbody tr th:only-of-type {\n",
       "        vertical-align: middle;\n",
       "    }\n",
       "\n",
       "    .dataframe tbody tr th {\n",
       "        vertical-align: top;\n",
       "    }\n",
       "\n",
       "    .dataframe thead th {\n",
       "        text-align: right;\n",
       "    }\n",
       "</style>\n",
       "<table border=\"1\" class=\"dataframe\">\n",
       "  <thead>\n",
       "    <tr style=\"text-align: right;\">\n",
       "      <th></th>\n",
       "      <th>cpf_median</th>\n",
       "      <th>cpf_mean</th>\n",
       "      <th>in_function_pct</th>\n",
       "      <th>asserts_function_ratio</th>\n",
       "      <th>iaf_median</th>\n",
       "      <th>iaf_mean</th>\n",
       "      <th>markdown_code_pct</th>\n",
       "      <th>total_code_len</th>\n",
       "      <th>include_in_scoring</th>\n",
       "    </tr>\n",
       "  </thead>\n",
       "  <tbody>\n",
       "    <tr>\n",
       "      <th>scilint</th>\n",
       "      <td>2.0</td>\n",
       "      <td>3.250</td>\n",
       "      <td>47.115</td>\n",
       "      <td>2.036</td>\n",
       "      <td>0.0</td>\n",
       "      <td>1.750</td>\n",
       "      <td>17.284</td>\n",
       "      <td>24760</td>\n",
       "      <td>True</td>\n",
       "    </tr>\n",
       "    <tr>\n",
       "      <th>nbdev_high_quality</th>\n",
       "      <td>1.5</td>\n",
       "      <td>2.500</td>\n",
       "      <td>44.118</td>\n",
       "      <td>1.667</td>\n",
       "      <td>0.0</td>\n",
       "      <td>1.000</td>\n",
       "      <td>30.769</td>\n",
       "      <td>4978</td>\n",
       "      <td>True</td>\n",
       "    </tr>\n",
       "    <tr>\n",
       "      <th>nbdev</th>\n",
       "      <td>1.0</td>\n",
       "      <td>2.231</td>\n",
       "      <td>50.725</td>\n",
       "      <td>1.308</td>\n",
       "      <td>0.0</td>\n",
       "      <td>0.846</td>\n",
       "      <td>30.769</td>\n",
       "      <td>4918</td>\n",
       "      <td>True</td>\n",
       "    </tr>\n",
       "    <tr>\n",
       "      <th>non_nbdev_low_quality</th>\n",
       "      <td>1.0</td>\n",
       "      <td>1.625</td>\n",
       "      <td>45.000</td>\n",
       "      <td>0.000</td>\n",
       "      <td>0.0</td>\n",
       "      <td>0.000</td>\n",
       "      <td>15.789</td>\n",
       "      <td>2955</td>\n",
       "      <td>True</td>\n",
       "    </tr>\n",
       "    <tr>\n",
       "      <th>non_nbdev</th>\n",
       "      <td>1.0</td>\n",
       "      <td>1.000</td>\n",
       "      <td>35.714</td>\n",
       "      <td>0.000</td>\n",
       "      <td>0.0</td>\n",
       "      <td>0.000</td>\n",
       "      <td>0.000</td>\n",
       "      <td>1233</td>\n",
       "      <td>True</td>\n",
       "    </tr>\n",
       "    <tr>\n",
       "      <th>index</th>\n",
       "      <td>NaN</td>\n",
       "      <td>NaN</td>\n",
       "      <td>NaN</td>\n",
       "      <td>NaN</td>\n",
       "      <td>NaN</td>\n",
       "      <td>NaN</td>\n",
       "      <td>NaN</td>\n",
       "      <td>0</td>\n",
       "      <td>True</td>\n",
       "    </tr>\n",
       "  </tbody>\n",
       "</table>\n",
       "</div>"
      ],
      "text/plain": [
       "                       cpf_median  cpf_mean  in_function_pct   \n",
       "scilint                       2.0     3.250           47.115  \\\n",
       "nbdev_high_quality            1.5     2.500           44.118   \n",
       "nbdev                         1.0     2.231           50.725   \n",
       "non_nbdev_low_quality         1.0     1.625           45.000   \n",
       "non_nbdev                     1.0     1.000           35.714   \n",
       "index                         NaN       NaN              NaN   \n",
       "\n",
       "                       asserts_function_ratio  iaf_median  iaf_mean   \n",
       "scilint                                 2.036         0.0     1.750  \\\n",
       "nbdev_high_quality                      1.667         0.0     1.000   \n",
       "nbdev                                   1.308         0.0     0.846   \n",
       "non_nbdev_low_quality                   0.000         0.0     0.000   \n",
       "non_nbdev                               0.000         0.0     0.000   \n",
       "index                                     NaN         NaN       NaN   \n",
       "\n",
       "                       markdown_code_pct  total_code_len  include_in_scoring  \n",
       "scilint                           17.284           24760                True  \n",
       "nbdev_high_quality                30.769            4978                True  \n",
       "nbdev                             30.769            4918                True  \n",
       "non_nbdev_low_quality             15.789            2955                True  \n",
       "non_nbdev                          0.000            1233                True  \n",
       "index                                NaN               0                True  "
      ]
     },
     "execution_count": 80,
     "metadata": {},
     "output_type": "execute_result"
    }
   ],
   "source": [
    "lint_report"
   ]
  },
  {
   "cell_type": "code",
   "execution_count": 81,
   "metadata": {
    "tags": []
   },
   "outputs": [
    {
     "name": "stdout",
     "output_type": "stream",
     "text": [
      "\n",
      "*********************Begin Scilint Report*********************\n",
      "No issues found\n",
      "*********************End Scilint Report***********************\n"
     ]
    }
   ],
   "source": [
    "_, num_warnings = lint_nbs(exclusions=\"\"\"example_nbs/,index.ipynb\"\"\")\n",
    "assert num_warnings == 0"
   ]
  },
  {
   "cell_type": "code",
   "execution_count": 82,
   "metadata": {
    "tags": []
   },
   "outputs": [
    {
     "name": "stdout",
     "output_type": "stream",
     "text": [
      "\n",
      "*********************Begin Scilint Report*********************\n",
      "\"non_nbdev\" has: asserts_function_ratio < 1\n",
      "\"non_nbdev\" has: iaf_mean < 0.5\n",
      "\"non_nbdev\" has: markdown_code_pct < 5\n",
      "*********************End Scilint Report***********************\n"
     ]
    }
   ],
   "source": [
    "_, num_warnings = lint_nbs(\n",
    "    exclusions=\"\"\"example_nbs/non_nbdev_low_quality.ipynb,index.ipynb\"\"\"\n",
    ")\n",
    "assert num_warnings == 3"
   ]
  },
  {
   "cell_type": "code",
   "execution_count": 83,
   "metadata": {
    "tags": []
   },
   "outputs": [
    {
     "name": "stdout",
     "output_type": "stream",
     "text": [
      "\n",
      "*********************Begin Scilint Report*********************\n",
      "\"non_nbdev\" has: asserts_function_ratio < 1\n",
      "\"non_nbdev\" has: iaf_mean < 0.5\n",
      "\"non_nbdev\" has: markdown_code_pct < 5\n",
      "*********************End Scilint Report***********************\n"
     ]
    }
   ],
   "source": [
    "_, num_warnings = lint_nbs(exclusions=\"\"\"example_nbs/non_nbdev_low_quality.ipynb\"\"\")\n",
    "assert num_warnings == 3"
   ]
  },
  {
   "cell_type": "markdown",
   "metadata": {
    "tags": []
   },
   "source": [
    "# Temporary nbdev library internal recreation\n",
    "\n",
    "Due to an issue with argument chaining using the `fastcore` `@call_parse` decorator we are recreating some `nbdev` functionality here but without using that decorator. Come back to remove this when issue is resolved."
   ]
  },
  {
   "cell_type": "code",
   "execution_count": 84,
   "metadata": {
    "tags": []
   },
   "outputs": [],
   "source": [
    "# | export\n",
    "\n",
    "\n",
    "def _nbdev_lib_export():\n",
    "    if os.environ.get(\"IN_TEST\", 0):\n",
    "        return\n",
    "    files = nbglob(path=None, as_path=True).sorted(\"name\")\n",
    "\n",
    "    for f in files:\n",
    "        nb_export(f, procs=None)\n",
    "    add_init(get_config().lib_path)\n",
    "    _build_modidx()"
   ]
  },
  {
   "cell_type": "code",
   "execution_count": 85,
   "metadata": {
    "tags": []
   },
   "outputs": [],
   "source": [
    "# | export\n",
    "\n",
    "\n",
    "def _nbdev_lib_test(\n",
    "    path=None,\n",
    "    flags=\"\",\n",
    "    ignore_fname=\".notest\",\n",
    "    n_workers: int = None,  # Number of workers\n",
    "    timing: bool = False,  # Time each notebook to see which are slow\n",
    "    do_print: bool = False,  # Print start and end of each notebook\n",
    "    pause: float = 0.01,  # Pause time (in seconds) between notebooks to avoid race conditions\n",
    "):\n",
    "    \"Test in parallel notebooks matching `path`, passing along `flags`\"\n",
    "    skip_flags = get_config().tst_flags.split()\n",
    "    force_flags = flags.split()\n",
    "    files = nbglob(path, as_path=True)\n",
    "    from nbdev.test import _keep_file, test_nb\n",
    "\n",
    "    files = [f.absolute() for f in sorted(files) if _keep_file(f, ignore_fname)]\n",
    "    if len(files) == 0:\n",
    "        return print(\"No files were eligible for testing\")\n",
    "\n",
    "    from fastcore.basics import IN_NOTEBOOK, num_cpus\n",
    "    from fastcore.foundation import working_directory\n",
    "    from fastcore.parallel import parallel\n",
    "\n",
    "    if n_workers is None:\n",
    "        n_workers = 0 if len(files) == 1 else min(num_cpus(), 8)\n",
    "    if IN_NOTEBOOK:\n",
    "        kw = {\"method\": \"spawn\"} if os.name == \"nt\" else {\"method\": \"forkserver\"}\n",
    "    else:\n",
    "        kw = {}\n",
    "    wd_pth = get_config().nbs_path\n",
    "    with working_directory(wd_pth if (wd_pth and wd_pth.exists()) else os.getcwd()):\n",
    "        results = parallel(\n",
    "            test_nb,\n",
    "            files,\n",
    "            skip_flags=skip_flags,\n",
    "            force_flags=force_flags,\n",
    "            n_workers=n_workers,\n",
    "            basepath=get_config().config_path,\n",
    "            pause=pause,\n",
    "            do_print=do_print,\n",
    "            **kw,\n",
    "        )\n",
    "    passed, times = zip(*results)\n",
    "    if all(passed):\n",
    "        print(\"Success.\")\n",
    "    else:\n",
    "        _fence = \"=\" * 50\n",
    "        failed = \"\\n\\t\".join(f.name for p, f in zip(passed, files) if not p)\n",
    "        sys.stderr.write(\n",
    "            f\"\\nnbdev Tests Failed On The Following Notebooks:\\n{_fence}\\n\\t{failed}\\n\"\n",
    "        )\n",
    "        sys.exit(1)\n",
    "    if timing:\n",
    "        for i, t in sorted(enumerate(times), key=lambda o: o[1], reverse=True):\n",
    "            print(f\"{files[i].name}: {int(t)} secs\")"
   ]
  },
  {
   "cell_type": "code",
   "execution_count": 86,
   "metadata": {
    "tags": []
   },
   "outputs": [],
   "source": [
    "# | export\n",
    "\n",
    "\n",
    "def _nbdev_lib_clean():\n",
    "    \"Clean all notebooks in `fname` to avoid merge conflicts\"\n",
    "    # Git hooks will pass the notebooks in stdin\n",
    "    from fastcore.basics import partial\n",
    "    from fastcore.xtras import globtastic\n",
    "    from nbdev.clean import _nbdev_clean\n",
    "    from nbdev.clean import process_write\n",
    "\n",
    "    _clean = partial(_nbdev_clean, clear_all=None)\n",
    "    _write = partial(process_write, warn_msg=\"Failed to clean notebook\", proc_nb=_clean)\n",
    "\n",
    "    fname = get_config().nbs_path\n",
    "    for f in globtastic(fname, file_glob=\"*.ipynb\", skip_folder_re=\"^[_.]\"):\n",
    "        _write(f_in=f)"
   ]
  },
  {
   "cell_type": "code",
   "execution_count": 87,
   "metadata": {
    "tags": []
   },
   "outputs": [],
   "source": [
    "# | export\n",
    "\n",
    "\n",
    "def _lint(\n",
    "    cpf_med_warn_thresh: float = 1,\n",
    "    cpf_mean_warn_thresh: float = 1,\n",
    "    ifp_warn_thresh: float = 20,\n",
    "    afr_warn_thresh: float = 1,\n",
    "    iaf_med_warn_thresh: float = 0,\n",
    "    iaf_mean_warn_thresh: float = 0.5,\n",
    "    mcp_warn_thresh: float = 5,\n",
    "    tcl_warn_thresh: float = 30000,\n",
    "    rounding_precision: int = 3,\n",
    "    csv_out_path: str = \"/tmp/scilint.csv\",\n",
    "    exclusions: str = None,\n",
    "    fail_over: int = 1,\n",
    "):\n",
    "    lint_report, num_warnings = lint_nbs(\n",
    "        cpf_med_warn_thresh,\n",
    "        cpf_mean_warn_thresh,\n",
    "        ifp_warn_thresh,\n",
    "        afr_warn_thresh,\n",
    "        iaf_med_warn_thresh,\n",
    "        iaf_mean_warn_thresh,\n",
    "        mcp_warn_thresh,\n",
    "        tcl_warn_thresh,\n",
    "        rounding_precision,\n",
    "        csv_out_path,\n",
    "        exclusions,\n",
    "    )\n",
    "    if fail_over == -1:\n",
    "        print(\"Linting outcome ignored as fail_over set to -1\")\n",
    "    elif num_warnings > fail_over:\n",
    "        print(\n",
    "            f\"Linting failed: total warnings ({num_warnings}) exceeded threshold ({fail_over})\"\n",
    "        )\n",
    "        sys.exit(num_warnings)\n",
    "    else:\n",
    "        print(\"Linting succeeded\")"
   ]
  },
  {
   "cell_type": "code",
   "execution_count": 88,
   "metadata": {},
   "outputs": [],
   "source": [
    "# | export\n",
    "\n",
    "\n",
    "def _build(\n",
    "    cpf_med_warn_thresh: float = 1,\n",
    "    cpf_mean_warn_thresh: float = 1,\n",
    "    ifp_warn_thresh: float = 20,\n",
    "    afr_warn_thresh: float = 1,\n",
    "    iaf_med_warn_thresh: float = 0,\n",
    "    iaf_mean_warn_thresh: float = 0.5,\n",
    "    mcp_warn_thresh: float = 5,\n",
    "    tcl_warn_thresh: float = 30000,\n",
    "    rounding_precision: int = 3,\n",
    "    csv_out_path: str = \"/tmp/scilint.csv\",\n",
    "    exclusions: str = None,\n",
    "    fail_over: int = 1,\n",
    "):\n",
    "    tidy()\n",
    "    # TODO replace these with nbdev library versions when call_parse issue is resolved\n",
    "    _nbdev_lib_export()\n",
    "    _nbdev_lib_test()\n",
    "    _lint(\n",
    "        cpf_med_warn_thresh,\n",
    "        cpf_mean_warn_thresh,\n",
    "        ifp_warn_thresh,\n",
    "        afr_warn_thresh,\n",
    "        iaf_med_warn_thresh,\n",
    "        iaf_mean_warn_thresh,\n",
    "        mcp_warn_thresh,\n",
    "        tcl_warn_thresh,\n",
    "        rounding_precision,\n",
    "        csv_out_path,\n",
    "        exclusions,\n",
    "        fail_over,\n",
    "    )\n",
    "    # TODO replace these with nbdev library versions when call_parse issue is resolved\n",
    "    _nbdev_lib_clean()"
   ]
  },
  {
   "cell_type": "markdown",
   "metadata": {},
   "source": [
    "# Console Scripts\n",
    "\n",
    "* `scilint_lint`\n",
    "* `scilint_build`\n",
    "* `scilint_ci`"
   ]
  },
  {
   "cell_type": "code",
   "execution_count": 89,
   "metadata": {},
   "outputs": [],
   "source": [
    "# | export\n",
    "\n",
    "@call_parse\n",
    "def scilint_lint(\n",
    "    cpf_med_warn_thresh: float = 1,\n",
    "    cpf_mean_warn_thresh: float = 1,\n",
    "    ifp_warn_thresh: float = 20,\n",
    "    afr_warn_thresh: float = 1,\n",
    "    iaf_med_warn_thresh: float = 0,\n",
    "    iaf_mean_warn_thresh: float = 0.5,\n",
    "    mcp_warn_thresh: float = 5,\n",
    "    tcl_warn_thresh: float = 30000,\n",
    "    rounding_precision: int = 3,\n",
    "    csv_out_path: str = \"/tmp/scilint.csv\",\n",
    "    exclusions: str = None,\n",
    "    fail_over: int = 1,\n",
    "):\n",
    "    _lint(\n",
    "        cpf_med_warn_thresh,\n",
    "        cpf_mean_warn_thresh,\n",
    "        ifp_warn_thresh,\n",
    "        afr_warn_thresh,\n",
    "        iaf_med_warn_thresh,\n",
    "        iaf_mean_warn_thresh,\n",
    "        mcp_warn_thresh,\n",
    "        tcl_warn_thresh,\n",
    "        rounding_precision,\n",
    "        csv_out_path,\n",
    "        exclusions,\n",
    "        fail_over,\n",
    "    )"
   ]
  },
  {
   "cell_type": "code",
   "execution_count": 90,
   "metadata": {},
   "outputs": [],
   "source": [
    "# | export\n",
    "\n",
    "\n",
    "@call_parse\n",
    "def scilint_build(cpf_med_warn_thresh: float = 1,\n",
    "    cpf_mean_warn_thresh: float = 1,\n",
    "    ifp_warn_thresh: float = 20,\n",
    "    afr_warn_thresh: float = 1,\n",
    "    iaf_med_warn_thresh: float = 0,\n",
    "    iaf_mean_warn_thresh: float = 0.5,\n",
    "    mcp_warn_thresh: float = 5,\n",
    "    tcl_warn_thresh: float = 30000,\n",
    "    rounding_precision: int = 3,\n",
    "    csv_out_path: str = \"/tmp/scilint.csv\",\n",
    "    exclusions: str = None,\n",
    "    fail_over: int = 1):\n",
    "    \n",
    "    _build(\n",
    "        cpf_med_warn_thresh,\n",
    "        cpf_mean_warn_thresh,\n",
    "        ifp_warn_thresh,\n",
    "        afr_warn_thresh,\n",
    "        iaf_med_warn_thresh,\n",
    "        iaf_mean_warn_thresh,\n",
    "        mcp_warn_thresh,\n",
    "        tcl_warn_thresh,\n",
    "        rounding_precision,\n",
    "        csv_out_path,\n",
    "        exclusions,\n",
    "        fail_over,\n",
    "    )"
   ]
  },
  {
   "cell_type": "code",
   "execution_count": 91,
   "metadata": {
    "tags": []
   },
   "outputs": [],
   "source": [
    "# | export\n",
    "\n",
    "\n",
    "@call_parse\n",
    "def scilint_ci(\n",
    "    cpf_med_warn_thresh: float = 1,\n",
    "    cpf_mean_warn_thresh: float = 1,\n",
    "    ifp_warn_thresh: float = 20,\n",
    "    afr_warn_thresh: float = 1,\n",
    "    iaf_med_warn_thresh: float = 0,\n",
    "    iaf_mean_warn_thresh: float = 0.5,\n",
    "    mcp_warn_thresh: float = 5,\n",
    "    tcl_warn_thresh: int = 30000,\n",
    "    rounding_precision: int = 3,\n",
    "    csv_out_path: str = \"/tmp/scilint.csv\",\n",
    "    exclusions: str = None,\n",
    "    fail_over: int = 1,\n",
    "):\n",
    "    _build(\n",
    "        cpf_med_warn_thresh,\n",
    "        cpf_mean_warn_thresh,\n",
    "        ifp_warn_thresh,\n",
    "        afr_warn_thresh,\n",
    "        iaf_med_warn_thresh,\n",
    "        iaf_mean_warn_thresh,\n",
    "        mcp_warn_thresh,\n",
    "        tcl_warn_thresh,\n",
    "        rounding_precision,\n",
    "        csv_out_path,\n",
    "        exclusions,\n",
    "        fail_over,\n",
    "    )\n",
    "    if not shutil.which(\"quarto\"):\n",
    "        print(\n",
    "            \"Quarto is not installed. A working quarto install is required for the CI build\"\n",
    "        )\n",
    "        sys.exit(-1)\n",
    "    nbdev_readme()\n",
    "    nbdev_docs()"
   ]
  }
 ],
 "metadata": {
  "availableInstances": [
   {
    "_defaultOrder": 0,
    "_isFastLaunch": true,
    "category": "General purpose",
    "gpuNum": 0,
    "hideHardwareSpecs": false,
    "memoryGiB": 4,
    "name": "ml.t3.medium",
    "vcpuNum": 2
   },
   {
    "_defaultOrder": 1,
    "_isFastLaunch": false,
    "category": "General purpose",
    "gpuNum": 0,
    "hideHardwareSpecs": false,
    "memoryGiB": 8,
    "name": "ml.t3.large",
    "vcpuNum": 2
   },
   {
    "_defaultOrder": 2,
    "_isFastLaunch": false,
    "category": "General purpose",
    "gpuNum": 0,
    "hideHardwareSpecs": false,
    "memoryGiB": 16,
    "name": "ml.t3.xlarge",
    "vcpuNum": 4
   },
   {
    "_defaultOrder": 3,
    "_isFastLaunch": false,
    "category": "General purpose",
    "gpuNum": 0,
    "hideHardwareSpecs": false,
    "memoryGiB": 32,
    "name": "ml.t3.2xlarge",
    "vcpuNum": 8
   },
   {
    "_defaultOrder": 4,
    "_isFastLaunch": true,
    "category": "General purpose",
    "gpuNum": 0,
    "hideHardwareSpecs": false,
    "memoryGiB": 8,
    "name": "ml.m5.large",
    "vcpuNum": 2
   },
   {
    "_defaultOrder": 5,
    "_isFastLaunch": false,
    "category": "General purpose",
    "gpuNum": 0,
    "hideHardwareSpecs": false,
    "memoryGiB": 16,
    "name": "ml.m5.xlarge",
    "vcpuNum": 4
   },
   {
    "_defaultOrder": 6,
    "_isFastLaunch": false,
    "category": "General purpose",
    "gpuNum": 0,
    "hideHardwareSpecs": false,
    "memoryGiB": 32,
    "name": "ml.m5.2xlarge",
    "vcpuNum": 8
   },
   {
    "_defaultOrder": 7,
    "_isFastLaunch": false,
    "category": "General purpose",
    "gpuNum": 0,
    "hideHardwareSpecs": false,
    "memoryGiB": 64,
    "name": "ml.m5.4xlarge",
    "vcpuNum": 16
   },
   {
    "_defaultOrder": 8,
    "_isFastLaunch": false,
    "category": "General purpose",
    "gpuNum": 0,
    "hideHardwareSpecs": false,
    "memoryGiB": 128,
    "name": "ml.m5.8xlarge",
    "vcpuNum": 32
   },
   {
    "_defaultOrder": 9,
    "_isFastLaunch": false,
    "category": "General purpose",
    "gpuNum": 0,
    "hideHardwareSpecs": false,
    "memoryGiB": 192,
    "name": "ml.m5.12xlarge",
    "vcpuNum": 48
   },
   {
    "_defaultOrder": 10,
    "_isFastLaunch": false,
    "category": "General purpose",
    "gpuNum": 0,
    "hideHardwareSpecs": false,
    "memoryGiB": 256,
    "name": "ml.m5.16xlarge",
    "vcpuNum": 64
   },
   {
    "_defaultOrder": 11,
    "_isFastLaunch": false,
    "category": "General purpose",
    "gpuNum": 0,
    "hideHardwareSpecs": false,
    "memoryGiB": 384,
    "name": "ml.m5.24xlarge",
    "vcpuNum": 96
   },
   {
    "_defaultOrder": 12,
    "_isFastLaunch": false,
    "category": "General purpose",
    "gpuNum": 0,
    "hideHardwareSpecs": false,
    "memoryGiB": 8,
    "name": "ml.m5d.large",
    "vcpuNum": 2
   },
   {
    "_defaultOrder": 13,
    "_isFastLaunch": false,
    "category": "General purpose",
    "gpuNum": 0,
    "hideHardwareSpecs": false,
    "memoryGiB": 16,
    "name": "ml.m5d.xlarge",
    "vcpuNum": 4
   },
   {
    "_defaultOrder": 14,
    "_isFastLaunch": false,
    "category": "General purpose",
    "gpuNum": 0,
    "hideHardwareSpecs": false,
    "memoryGiB": 32,
    "name": "ml.m5d.2xlarge",
    "vcpuNum": 8
   },
   {
    "_defaultOrder": 15,
    "_isFastLaunch": false,
    "category": "General purpose",
    "gpuNum": 0,
    "hideHardwareSpecs": false,
    "memoryGiB": 64,
    "name": "ml.m5d.4xlarge",
    "vcpuNum": 16
   },
   {
    "_defaultOrder": 16,
    "_isFastLaunch": false,
    "category": "General purpose",
    "gpuNum": 0,
    "hideHardwareSpecs": false,
    "memoryGiB": 128,
    "name": "ml.m5d.8xlarge",
    "vcpuNum": 32
   },
   {
    "_defaultOrder": 17,
    "_isFastLaunch": false,
    "category": "General purpose",
    "gpuNum": 0,
    "hideHardwareSpecs": false,
    "memoryGiB": 192,
    "name": "ml.m5d.12xlarge",
    "vcpuNum": 48
   },
   {
    "_defaultOrder": 18,
    "_isFastLaunch": false,
    "category": "General purpose",
    "gpuNum": 0,
    "hideHardwareSpecs": false,
    "memoryGiB": 256,
    "name": "ml.m5d.16xlarge",
    "vcpuNum": 64
   },
   {
    "_defaultOrder": 19,
    "_isFastLaunch": false,
    "category": "General purpose",
    "gpuNum": 0,
    "hideHardwareSpecs": false,
    "memoryGiB": 384,
    "name": "ml.m5d.24xlarge",
    "vcpuNum": 96
   },
   {
    "_defaultOrder": 20,
    "_isFastLaunch": false,
    "category": "General purpose",
    "gpuNum": 0,
    "hideHardwareSpecs": true,
    "memoryGiB": 0,
    "name": "ml.geospatial.interactive",
    "supportedImageNames": [
     "sagemaker-geospatial-v1-0"
    ],
    "vcpuNum": 0
   },
   {
    "_defaultOrder": 21,
    "_isFastLaunch": true,
    "category": "Compute optimized",
    "gpuNum": 0,
    "hideHardwareSpecs": false,
    "memoryGiB": 4,
    "name": "ml.c5.large",
    "vcpuNum": 2
   },
   {
    "_defaultOrder": 22,
    "_isFastLaunch": false,
    "category": "Compute optimized",
    "gpuNum": 0,
    "hideHardwareSpecs": false,
    "memoryGiB": 8,
    "name": "ml.c5.xlarge",
    "vcpuNum": 4
   },
   {
    "_defaultOrder": 23,
    "_isFastLaunch": false,
    "category": "Compute optimized",
    "gpuNum": 0,
    "hideHardwareSpecs": false,
    "memoryGiB": 16,
    "name": "ml.c5.2xlarge",
    "vcpuNum": 8
   },
   {
    "_defaultOrder": 24,
    "_isFastLaunch": false,
    "category": "Compute optimized",
    "gpuNum": 0,
    "hideHardwareSpecs": false,
    "memoryGiB": 32,
    "name": "ml.c5.4xlarge",
    "vcpuNum": 16
   },
   {
    "_defaultOrder": 25,
    "_isFastLaunch": false,
    "category": "Compute optimized",
    "gpuNum": 0,
    "hideHardwareSpecs": false,
    "memoryGiB": 72,
    "name": "ml.c5.9xlarge",
    "vcpuNum": 36
   },
   {
    "_defaultOrder": 26,
    "_isFastLaunch": false,
    "category": "Compute optimized",
    "gpuNum": 0,
    "hideHardwareSpecs": false,
    "memoryGiB": 96,
    "name": "ml.c5.12xlarge",
    "vcpuNum": 48
   },
   {
    "_defaultOrder": 27,
    "_isFastLaunch": false,
    "category": "Compute optimized",
    "gpuNum": 0,
    "hideHardwareSpecs": false,
    "memoryGiB": 144,
    "name": "ml.c5.18xlarge",
    "vcpuNum": 72
   },
   {
    "_defaultOrder": 28,
    "_isFastLaunch": false,
    "category": "Compute optimized",
    "gpuNum": 0,
    "hideHardwareSpecs": false,
    "memoryGiB": 192,
    "name": "ml.c5.24xlarge",
    "vcpuNum": 96
   },
   {
    "_defaultOrder": 29,
    "_isFastLaunch": true,
    "category": "Accelerated computing",
    "gpuNum": 1,
    "hideHardwareSpecs": false,
    "memoryGiB": 16,
    "name": "ml.g4dn.xlarge",
    "vcpuNum": 4
   },
   {
    "_defaultOrder": 30,
    "_isFastLaunch": false,
    "category": "Accelerated computing",
    "gpuNum": 1,
    "hideHardwareSpecs": false,
    "memoryGiB": 32,
    "name": "ml.g4dn.2xlarge",
    "vcpuNum": 8
   },
   {
    "_defaultOrder": 31,
    "_isFastLaunch": false,
    "category": "Accelerated computing",
    "gpuNum": 1,
    "hideHardwareSpecs": false,
    "memoryGiB": 64,
    "name": "ml.g4dn.4xlarge",
    "vcpuNum": 16
   },
   {
    "_defaultOrder": 32,
    "_isFastLaunch": false,
    "category": "Accelerated computing",
    "gpuNum": 1,
    "hideHardwareSpecs": false,
    "memoryGiB": 128,
    "name": "ml.g4dn.8xlarge",
    "vcpuNum": 32
   },
   {
    "_defaultOrder": 33,
    "_isFastLaunch": false,
    "category": "Accelerated computing",
    "gpuNum": 4,
    "hideHardwareSpecs": false,
    "memoryGiB": 192,
    "name": "ml.g4dn.12xlarge",
    "vcpuNum": 48
   },
   {
    "_defaultOrder": 34,
    "_isFastLaunch": false,
    "category": "Accelerated computing",
    "gpuNum": 1,
    "hideHardwareSpecs": false,
    "memoryGiB": 256,
    "name": "ml.g4dn.16xlarge",
    "vcpuNum": 64
   },
   {
    "_defaultOrder": 35,
    "_isFastLaunch": false,
    "category": "Accelerated computing",
    "gpuNum": 1,
    "hideHardwareSpecs": false,
    "memoryGiB": 61,
    "name": "ml.p3.2xlarge",
    "vcpuNum": 8
   },
   {
    "_defaultOrder": 36,
    "_isFastLaunch": false,
    "category": "Accelerated computing",
    "gpuNum": 4,
    "hideHardwareSpecs": false,
    "memoryGiB": 244,
    "name": "ml.p3.8xlarge",
    "vcpuNum": 32
   },
   {
    "_defaultOrder": 37,
    "_isFastLaunch": false,
    "category": "Accelerated computing",
    "gpuNum": 8,
    "hideHardwareSpecs": false,
    "memoryGiB": 488,
    "name": "ml.p3.16xlarge",
    "vcpuNum": 64
   },
   {
    "_defaultOrder": 38,
    "_isFastLaunch": false,
    "category": "Accelerated computing",
    "gpuNum": 8,
    "hideHardwareSpecs": false,
    "memoryGiB": 768,
    "name": "ml.p3dn.24xlarge",
    "vcpuNum": 96
   },
   {
    "_defaultOrder": 39,
    "_isFastLaunch": false,
    "category": "Memory Optimized",
    "gpuNum": 0,
    "hideHardwareSpecs": false,
    "memoryGiB": 16,
    "name": "ml.r5.large",
    "vcpuNum": 2
   },
   {
    "_defaultOrder": 40,
    "_isFastLaunch": false,
    "category": "Memory Optimized",
    "gpuNum": 0,
    "hideHardwareSpecs": false,
    "memoryGiB": 32,
    "name": "ml.r5.xlarge",
    "vcpuNum": 4
   },
   {
    "_defaultOrder": 41,
    "_isFastLaunch": false,
    "category": "Memory Optimized",
    "gpuNum": 0,
    "hideHardwareSpecs": false,
    "memoryGiB": 64,
    "name": "ml.r5.2xlarge",
    "vcpuNum": 8
   },
   {
    "_defaultOrder": 42,
    "_isFastLaunch": false,
    "category": "Memory Optimized",
    "gpuNum": 0,
    "hideHardwareSpecs": false,
    "memoryGiB": 128,
    "name": "ml.r5.4xlarge",
    "vcpuNum": 16
   },
   {
    "_defaultOrder": 43,
    "_isFastLaunch": false,
    "category": "Memory Optimized",
    "gpuNum": 0,
    "hideHardwareSpecs": false,
    "memoryGiB": 256,
    "name": "ml.r5.8xlarge",
    "vcpuNum": 32
   },
   {
    "_defaultOrder": 44,
    "_isFastLaunch": false,
    "category": "Memory Optimized",
    "gpuNum": 0,
    "hideHardwareSpecs": false,
    "memoryGiB": 384,
    "name": "ml.r5.12xlarge",
    "vcpuNum": 48
   },
   {
    "_defaultOrder": 45,
    "_isFastLaunch": false,
    "category": "Memory Optimized",
    "gpuNum": 0,
    "hideHardwareSpecs": false,
    "memoryGiB": 512,
    "name": "ml.r5.16xlarge",
    "vcpuNum": 64
   },
   {
    "_defaultOrder": 46,
    "_isFastLaunch": false,
    "category": "Memory Optimized",
    "gpuNum": 0,
    "hideHardwareSpecs": false,
    "memoryGiB": 768,
    "name": "ml.r5.24xlarge",
    "vcpuNum": 96
   },
   {
    "_defaultOrder": 47,
    "_isFastLaunch": false,
    "category": "Accelerated computing",
    "gpuNum": 1,
    "hideHardwareSpecs": false,
    "memoryGiB": 16,
    "name": "ml.g5.xlarge",
    "vcpuNum": 4
   },
   {
    "_defaultOrder": 48,
    "_isFastLaunch": false,
    "category": "Accelerated computing",
    "gpuNum": 1,
    "hideHardwareSpecs": false,
    "memoryGiB": 32,
    "name": "ml.g5.2xlarge",
    "vcpuNum": 8
   },
   {
    "_defaultOrder": 49,
    "_isFastLaunch": false,
    "category": "Accelerated computing",
    "gpuNum": 1,
    "hideHardwareSpecs": false,
    "memoryGiB": 64,
    "name": "ml.g5.4xlarge",
    "vcpuNum": 16
   },
   {
    "_defaultOrder": 50,
    "_isFastLaunch": false,
    "category": "Accelerated computing",
    "gpuNum": 1,
    "hideHardwareSpecs": false,
    "memoryGiB": 128,
    "name": "ml.g5.8xlarge",
    "vcpuNum": 32
   },
   {
    "_defaultOrder": 51,
    "_isFastLaunch": false,
    "category": "Accelerated computing",
    "gpuNum": 1,
    "hideHardwareSpecs": false,
    "memoryGiB": 256,
    "name": "ml.g5.16xlarge",
    "vcpuNum": 64
   },
   {
    "_defaultOrder": 52,
    "_isFastLaunch": false,
    "category": "Accelerated computing",
    "gpuNum": 4,
    "hideHardwareSpecs": false,
    "memoryGiB": 192,
    "name": "ml.g5.12xlarge",
    "vcpuNum": 48
   },
   {
    "_defaultOrder": 53,
    "_isFastLaunch": false,
    "category": "Accelerated computing",
    "gpuNum": 4,
    "hideHardwareSpecs": false,
    "memoryGiB": 384,
    "name": "ml.g5.24xlarge",
    "vcpuNum": 96
   },
   {
    "_defaultOrder": 54,
    "_isFastLaunch": false,
    "category": "Accelerated computing",
    "gpuNum": 8,
    "hideHardwareSpecs": false,
    "memoryGiB": 768,
    "name": "ml.g5.48xlarge",
    "vcpuNum": 192
   },
   {
    "_defaultOrder": 55,
    "_isFastLaunch": false,
    "category": "Accelerated computing",
    "gpuNum": 8,
    "hideHardwareSpecs": false,
    "memoryGiB": 1152,
    "name": "ml.p4d.24xlarge",
    "vcpuNum": 96
   },
   {
    "_defaultOrder": 56,
    "_isFastLaunch": false,
    "category": "Accelerated computing",
    "gpuNum": 8,
    "hideHardwareSpecs": false,
    "memoryGiB": 1152,
    "name": "ml.p4de.24xlarge",
    "vcpuNum": 96
   }
  ],
  "instance_type": "ml.m5.large",
  "kernelspec": {
   "display_name": "sciflow (sciflow/3)",
   "language": "python",
   "name": "python3__SAGEMAKER_INTERNAL__arn:aws:sagemaker:eu-west-1:368653567616:image-version/sciflow/3"
  },
  "language_info": {
   "codemirror_mode": {
    "name": "ipython",
    "version": 3
   },
   "file_extension": ".py",
   "mimetype": "text/x-python",
   "name": "python",
   "nbconvert_exporter": "python",
   "pygments_lexer": "ipython3",
   "version": "3.9.0"
  }
 },
 "nbformat": 4,
 "nbformat_minor": 4
}
