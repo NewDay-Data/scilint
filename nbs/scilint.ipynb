{
 "cells": [
  {
   "cell_type": "raw",
   "metadata": {},
   "source": [
    "---\n",
    "description: infuse quality into notebook based workflows with a new type of build tool.\n",
    "output-file: scilint.html\n",
    "title: Data Science Notebook Linting\n",
    "\n",
    "---\n",
    "\n"
   ]
  },
  {
   "cell_type": "code",
   "execution_count": 2,
   "metadata": {
    "tags": []
   },
   "outputs": [],
   "source": [
    "# | include: false\n",
    "# | default_exp scilint"
   ]
  },
  {
   "cell_type": "code",
   "execution_count": 3,
   "metadata": {
    "tags": []
   },
   "outputs": [],
   "source": [
    "# | export\n",
    "\n",
    "import json\n",
    "import logging\n",
    "import operator\n",
    "import os\n",
    "import shutil\n",
    "import sys\n",
    "from importlib import reload\n",
    "from pathlib import Path\n",
    "from typing import Any, Callable, Dict, Iterable, Tuple\n",
    "\n",
    "import numpy as np\n",
    "import pandas as pd\n",
    "import yaml\n",
    "from execnb.nbio import read_nb\n",
    "from fastcore.script import Param, call_parse, store_false\n",
    "from fastcore.xtras import globtastic\n",
    "from nbdev.clean import nbdev_clean\n",
    "from nbdev.doclinks import nbdev_export, nbglob\n",
    "from nbdev.quarto import nbdev_docs, nbdev_readme\n",
    "from nbdev.test import nbdev_test\n",
    "from nbqa.find_root import find_project_root\n",
    "\n",
    "from scilint.indicators import indicator_funcs\n",
    "from scilint.utils import (\n",
    "    configure_logging,\n",
    "    find_common_root,\n",
    "    get_excluded_paths,\n",
    "    get_project_root,\n",
    "    is_nbdev_project,\n",
    "    resolve_nbs,\n",
    "    run_nbqa_cmd,\n",
    ")\n",
    "\n",
    "reload(logging)\n",
    "logger = logging.getLogger()"
   ]
  },
  {
   "cell_type": "code",
   "execution_count": 4,
   "metadata": {
    "tags": []
   },
   "outputs": [],
   "source": [
    "%load_ext autoreload\n",
    "%autoreload 2"
   ]
  },
  {
   "cell_type": "markdown",
   "metadata": {},
   "source": [
    "# Test Data Prep"
   ]
  },
  {
   "cell_type": "code",
   "execution_count": 5,
   "metadata": {
    "tags": []
   },
   "outputs": [],
   "source": [
    "nbdev_path = Path(Path(\".\").resolve(), \"example_nbs\", \"nbdev.ipynb\")\n",
    "nbdev_hq_path = Path(Path(\".\").resolve(), \"example_nbs\", \"nbdev_high_quality.ipynb\")\n",
    "non_nbdev_path = Path(Path(\".\").resolve(), \"example_nbs\", \"non_nbdev.ipynb\")\n",
    "non_nbdev_lq_path = Path(\n",
    "    Path(\".\").resolve(), \"example_nbs\", \"non_nbdev_low_quality.ipynb\"\n",
    ")\n",
    "index_path = Path(Path(\".\").resolve(), \"index.ipynb\")\n",
    "syntax_error_path = Path(Path(\".\").resolve(), \"syntax_error.ipynb\")\n",
    "\n",
    "nbdev_nb = read_nb(nbdev_path)\n",
    "nbdev_hq_nb = read_nb(nbdev_hq_path)\n",
    "non_nbdev_nb = read_nb(non_nbdev_path)\n",
    "non_nbdev_lq_nb = read_nb(non_nbdev_lq_path)\n",
    "index = read_nb(index_path)\n",
    "syntax_error = read_nb(index_path)"
   ]
  },
  {
   "cell_type": "markdown",
   "metadata": {
    "tags": []
   },
   "source": [
    "# Tidy \n",
    "\n",
    "simple wrapper around no-decisions version of nbqa"
   ]
  },
  {
   "cell_type": "code",
   "execution_count": 6,
   "metadata": {
    "tags": []
   },
   "outputs": [],
   "source": [
    "project_root: Path = find_project_root(tuple([str(Path(\".\").resolve())]))\n",
    "assert os.path.basename(project_root) == \"scilint\""
   ]
  },
  {
   "cell_type": "code",
   "execution_count": 7,
   "metadata": {
    "tags": []
   },
   "outputs": [],
   "source": [
    "# | export\n",
    "\n",
    "\n",
    "def tidy(root_dir: Path = None):\n",
    "    tidy_tools = [\"black\", \"isort\", \"autoflake\"]\n",
    "    logger.debug(f\"Tidying from: {root_dir}\")\n",
    "    for cmd in tidy_tools:\n",
    "        logger.debug(f\"Running command {cmd} via nbQA CLI at root dir: {root_dir}\")\n",
    "        run_nbqa_cmd(cmd, root_dir)"
   ]
  },
  {
   "cell_type": "code",
   "execution_count": 8,
   "metadata": {},
   "outputs": [],
   "source": [
    "# | export\n",
    "\n",
    "\n",
    "def tidy_from_glob(nb_glob):\n",
    "    common_root = find_common_root(nb_glob)\n",
    "    tidy(common_root)"
   ]
  },
  {
   "cell_type": "code",
   "execution_count": 9,
   "metadata": {
    "tags": []
   },
   "outputs": [],
   "source": [
    "project_root: Path = find_project_root(tuple([str(Path(\".\").resolve())]))"
   ]
  },
  {
   "cell_type": "markdown",
   "metadata": {
    "tags": []
   },
   "source": [
    "# Helpers"
   ]
  },
  {
   "cell_type": "markdown",
   "metadata": {},
   "source": [
    "## `get_default_spec`"
   ]
  },
  {
   "cell_type": "code",
   "execution_count": 10,
   "metadata": {
    "tags": []
   },
   "outputs": [],
   "source": [
    "# | export\n",
    "\n",
    "\n",
    "def get_default_spec():\n",
    "    return {\n",
    "        \"exclusions\": None,\n",
    "        \"fail_over\": 1,\n",
    "        \"out_dir\": \"/tmp/scilint/\",\n",
    "        \"precision\": 3,\n",
    "        \"print_syntax_errors\": False,\n",
    "        \"evaluate\": True,\n",
    "        \"nb_path_display\": \"parent\",\n",
    "        \"warnings\": {\n",
    "            \"lt\": {\n",
    "                \"calls_per_func_median\": 0,\n",
    "                \"calls_per_func_mean\": 1,\n",
    "                \"in_func_pct\": 20,\n",
    "                \"tests_func_coverage_pct\": 20,\n",
    "                \"tests_per_func_mean\": 0.5,\n",
    "                \"markdown_code_pct\": 5,\n",
    "            },\n",
    "            \"gt\": {\"total_code_len\": 50000, \"loc_per_md_section\": 2000},\n",
    "            \"equals\": {\"has_syntax_error\": True},\n",
    "        },\n",
    "    }"
   ]
  },
  {
   "cell_type": "markdown",
   "metadata": {
    "tags": []
   },
   "source": [
    "# Linting Functions"
   ]
  },
  {
   "cell_type": "markdown",
   "metadata": {
    "tags": []
   },
   "source": [
    "## `lint_nb`"
   ]
  },
  {
   "cell_type": "code",
   "execution_count": 53,
   "metadata": {
    "tags": []
   },
   "outputs": [],
   "source": [
    "# | export\n",
    "\n",
    "\n",
    "def lint_nb(\n",
    "    spec_name: str,\n",
    "    nb_path: Path,\n",
    "    conf: Dict[str, Any],\n",
    "    indicators: Dict[str, Callable],\n",
    "    include_in_scoring: bool,\n",
    "    out_dir: str,\n",
    ") -> Tuple[float]:\n",
    "    logger.debug(f\"Running linter on notebook: {nb_path} with spec: {spec_name}\")\n",
    "    nb = read_nb(nb_path)\n",
    "\n",
    "    has_syntax_error = False\n",
    "    indic_vals = list(np.repeat(np.nan, len(indicators)))\n",
    "    try:\n",
    "        for i, indic_name in enumerate(indicators):\n",
    "            indic_vals[i] = round(indicators[indic_name](nb, out_dir), conf[\"precision\"])\n",
    "    except SyntaxError as se:\n",
    "        if conf[\"print_syntax_errors\"]:\n",
    "            logger.warn(f\"Syntax error in notebook: {nb_path} reason: \", se)\n",
    "        has_syntax_error = True\n",
    "    indic_vals.append(has_syntax_error)\n",
    "    indic_vals.append(include_in_scoring)\n",
    "    indic_vals.insert(0, spec_name)\n",
    "\n",
    "    return tuple(indic_vals)"
   ]
  },
  {
   "cell_type": "code",
   "execution_count": 12,
   "metadata": {
    "tags": []
   },
   "outputs": [],
   "source": [
    "# TODO test"
   ]
  },
  {
   "cell_type": "markdown",
   "metadata": {},
   "source": [
    "## `_calculate_warnings`"
   ]
  },
  {
   "cell_type": "code",
   "execution_count": 13,
   "metadata": {
    "tags": []
   },
   "outputs": [],
   "source": [
    "# | export\n",
    "\n",
    "\n",
    "def _calculate_warnings(\n",
    "    spec_name: str,\n",
    "    scoring_report: pd.DataFrame,\n",
    "    conf: Dict[str, Any],\n",
    "    include_missing: bool = False,\n",
    ") -> Tuple[Dict[str, Any], int]:\n",
    "    warning_details = []\n",
    "    for op_text in list(conf[\"warnings\"].keys()):\n",
    "        for indic in conf[\"warnings\"][op_text]:\n",
    "            metric_series = scoring_report[indic]\n",
    "            or_exp = pd.isnull(metric_series) if include_missing else False\n",
    "            op = (\n",
    "                operator.lt\n",
    "                if op_text == \"lt\"\n",
    "                else operator.gt\n",
    "                if op_text == \"gt\"\n",
    "                else operator.eq\n",
    "            )\n",
    "            warning_data = metric_series[\n",
    "                (op(metric_series, conf[\"warnings\"][op_text][indic])) | (or_exp)\n",
    "            ]\n",
    "            warning_dict = warning_data.to_dict()\n",
    "            for key, val in warning_dict.items():\n",
    "                warning_dict[key] = (\n",
    "                    indic,\n",
    "                    val,\n",
    "                    op_text,\n",
    "                    conf[\"warnings\"][op_text][indic],\n",
    "                )\n",
    "            warning_details.append(warning_dict)\n",
    "\n",
    "    all_warns = _reshape_warnings(spec_name, scoring_report, warning_details)\n",
    "    num_warnings = len(all_warns)\n",
    "    return all_warns, num_warnings"
   ]
  },
  {
   "cell_type": "code",
   "execution_count": 14,
   "metadata": {
    "tags": []
   },
   "outputs": [],
   "source": [
    "# TODO test"
   ]
  },
  {
   "cell_type": "markdown",
   "metadata": {},
   "source": [
    "## `_reshape_warnings`"
   ]
  },
  {
   "cell_type": "code",
   "execution_count": 15,
   "metadata": {
    "tags": []
   },
   "outputs": [],
   "source": [
    "# | export\n",
    "\n",
    "\n",
    "def _reshape_warnings(\n",
    "    spec_name: str, scoring_report: pd.DataFrame, warning_details: Iterable[Any]\n",
    ") -> Dict[str, Iterable[Tuple]]:\n",
    "    warnings_by_nb = {nb: [] for nb in scoring_report.index}\n",
    "    for nb in scoring_report.index:\n",
    "        for wd in warning_details:\n",
    "            if nb in wd:\n",
    "                warnings_by_nb[nb].append(tuple([spec_name, nb] + list(wd[nb])))\n",
    "    warnings_by_nb = {key: val for key, val in warnings_by_nb.items() if len(val) > 0}\n",
    "    flattened_warns = [item for sublist in warnings_by_nb.values() for item in sublist]\n",
    "    return pd.DataFrame.from_records(\n",
    "        data=flattened_warns,\n",
    "        columns=[\n",
    "            \"spec_name\",\n",
    "            \"notebook\",\n",
    "            \"indicator\",\n",
    "            \"value\",\n",
    "            \"operator\",\n",
    "            \"threshold\",\n",
    "        ],\n",
    "    )"
   ]
  },
  {
   "cell_type": "code",
   "execution_count": 16,
   "metadata": {
    "tags": []
   },
   "outputs": [],
   "source": [
    "# TODO test"
   ]
  },
  {
   "cell_type": "code",
   "execution_count": 17,
   "metadata": {
    "tags": []
   },
   "outputs": [],
   "source": [
    "# | export\n",
    "\n",
    "\n",
    "def _get_nb_display_name(nb_path_display: str, nb_path: Path) -> str:\n",
    "    nb_name = None\n",
    "    if nb_path_display == \"abs\":\n",
    "        nb_name = str(nb_path)\n",
    "    elif nb_path_display == \"parent\":\n",
    "        nb_name = str(Path(nb_path.parent.stem, nb_path.stem))\n",
    "    elif nb_path_display == \"stem\":\n",
    "        nb_name = nb_path.stem\n",
    "    else:\n",
    "        raise ValueError(\"nb_path_display has to be one of: \\{stem, parent, abs\\}\")\n",
    "    return nb_name"
   ]
  },
  {
   "cell_type": "code",
   "execution_count": 18,
   "metadata": {
    "tags": []
   },
   "outputs": [],
   "source": [
    "raises = False\n",
    "try:\n",
    "    _get_nb_display_name(\"paren\", nbdev_path)\n",
    "except ValueError:\n",
    "    raises = True\n",
    "assert raises\n",
    "assert \"example_nbs/nbdev\" == _get_nb_display_name(\"parent\", nbdev_path)\n",
    "assert str(nbdev_path) == _get_nb_display_name(\"abs\", nbdev_path)\n",
    "assert \"nbdev\" == _get_nb_display_name(\"stem\", nbdev_path)"
   ]
  },
  {
   "cell_type": "markdown",
   "metadata": {
    "tags": []
   },
   "source": [
    "## `lint_nbs`"
   ]
  },
  {
   "cell_type": "code",
   "execution_count": 19,
   "metadata": {
    "tags": []
   },
   "outputs": [],
   "source": [
    "# | export\n",
    "\n",
    "\n",
    "def lint_nbs(\n",
    "    spec_name: str,\n",
    "    conf: Dict[str, Any],\n",
    "    indicators: Dict[str, Callable],\n",
    "    nb_paths: Iterable[Path] = None,\n",
    "    out_dir: str = None,\n",
    "    nb_glob: Path = None,\n",
    "):\n",
    "    if nb_paths is None:\n",
    "        nb_paths = [Path(p).absolute() for p in nbglob(nb_glob)]\n",
    "    else:\n",
    "        nb_paths = [Path(p).absolute() for p in nb_paths]\n",
    "\n",
    "    if len(nb_paths) == 0:\n",
    "        raise ValueError(\"Attempt to lint notebooks but no files found\")\n",
    "\n",
    "    excluded_paths = None\n",
    "    exclusions = conf[\"exclusions\"]\n",
    "    if exclusions is not None:\n",
    "        excluded_paths = get_excluded_paths(nb_paths, exclude_pattern=exclusions)\n",
    "\n",
    "    results = []\n",
    "    nb_names = []\n",
    "    for nb_path in nb_paths:\n",
    "        include_in_scoring = True\n",
    "        if exclusions is not None:\n",
    "            include_in_scoring = False if nb_path in excluded_paths else True\n",
    "\n",
    "        nb_names.append(_get_nb_display_name(conf[\"nb_path_display\"], nb_path))\n",
    "\n",
    "        lint_result = lint_nb(spec_name, nb_path, conf, indicators, include_in_scoring, out_dir)\n",
    "        results.append(lint_result)\n",
    "\n",
    "    lint_report = pd.DataFrame.from_records(\n",
    "        data=results,\n",
    "        index=nb_names,\n",
    "        columns=[\"spec_name\"]\n",
    "        + list(indicators.keys())\n",
    "        + [\"has_syntax_error\", \"include_in_scoring\"],\n",
    "    ).sort_values([\"in_func_pct\", \"markdown_code_pct\"], ascending=False)\n",
    "\n",
    "    scoring_report = lint_report[lint_report.include_in_scoring].copy()\n",
    "    all_warns, num_warnings = _calculate_warnings(spec_name, scoring_report, conf)\n",
    "    return lint_report, all_warns, num_warnings"
   ]
  },
  {
   "cell_type": "markdown",
   "metadata": {},
   "source": [
    "## `_map_paths_to_specs`"
   ]
  },
  {
   "cell_type": "code",
   "execution_count": 20,
   "metadata": {
    "tags": []
   },
   "outputs": [],
   "source": [
    "# | export\n",
    "\n",
    "\n",
    "def _map_paths_specs(nb_glob: Path = None, specs_glob: Path = Path(\".\").resolve()):\n",
    "    logger.debug(f\"Mapping notebooks (glob={nb_glob}) to specs (glob={specs_glob})\")\n",
    "    nbs = resolve_nbs(nb_glob)\n",
    "    if len(nbs) == 0:\n",
    "        raise ValueError(f\"Path glob expression: {nb_glob} - matched no notebooks\")\n",
    "    else:\n",
    "        logger.debug(f\"Path glob matched {len(nbs)} notebooks: {nbs}\")\n",
    "    spec_files = [\n",
    "        Path(p).resolve()\n",
    "        for p in globtastic(\n",
    "            specs_glob,\n",
    "            file_glob=\"scilint-*.yaml\",\n",
    "            skip_folder_re=\"ipynb_checkpoints|_proc\",\n",
    "        )\n",
    "    ]\n",
    "    logger.debug(f\"Spec files: {spec_files}\")\n",
    "    default_spec_files = [p for p in spec_files if p.name == \"scilint-default.yaml\"]\n",
    "    default_spec_file = default_spec_files[0] if len(default_spec_files) > 0 else None\n",
    "    spec_dirs = [p.parent for p in spec_files]\n",
    "\n",
    "    spec_nbs = {k: [] for k in spec_files}\n",
    "    for nb in [Path(p) for p in nbs]:\n",
    "        found_spec = False\n",
    "        for name, spec_dir in zip(spec_files, spec_dirs):\n",
    "            if nb.parent == spec_dir:\n",
    "                spec_nbs[name].append(nb)\n",
    "                found_spec = True\n",
    "        if not found_spec:\n",
    "            if default_spec_file is not None:\n",
    "                spec_nbs[default_spec_file].append(nb)\n",
    "            else:\n",
    "                # Special case: not actually a valid file path - triggers loading a fallback\n",
    "                logger.debug(f\"No spec file found notebook: {nb} - using fallback spec\")\n",
    "                fallback_path = Path(\"scilint-default\")\n",
    "                if fallback_path not in spec_nbs:\n",
    "                    spec_nbs[fallback_path] = []\n",
    "                spec_nbs[fallback_path].append(nb)\n",
    "\n",
    "    logger.debug(f\"Specs to notebooks map:\\n{spec_nbs}\")\n",
    "    return spec_nbs"
   ]
  },
  {
   "cell_type": "code",
   "execution_count": 21,
   "metadata": {
    "tags": []
   },
   "outputs": [],
   "source": [
    "legacy_dir = Path(Path(\".\").resolve(), \"example_nbs/legacy\")\n",
    "legacy_spec_nbs = _map_paths_specs(legacy_dir, legacy_dir)\n",
    "legacy_spec = Path(Path(\".\").resolve(), \"example_nbs\", \"legacy\", \"scilint-legacy.yaml\")\n",
    "assert legacy_spec in legacy_spec_nbs\n",
    "assert len(legacy_spec_nbs[legacy_spec]) == 2"
   ]
  },
  {
   "cell_type": "code",
   "execution_count": 22,
   "metadata": {
    "tags": []
   },
   "outputs": [],
   "source": [
    "legacy_dir = Path(Path(\".\").resolve(), \"example_nbs/legacy\")\n",
    "legacy_spec_nbs = _map_paths_specs(legacy_dir)\n",
    "legacy_spec = Path(Path(\".\").resolve(), \"example_nbs\", \"legacy\", \"scilint-legacy.yaml\")\n",
    "assert legacy_spec in legacy_spec_nbs\n",
    "assert len(legacy_spec_nbs[legacy_spec]) == 2"
   ]
  },
  {
   "cell_type": "code",
   "execution_count": 23,
   "metadata": {
    "tags": []
   },
   "outputs": [],
   "source": [
    "no_spec_dir = Path(Path(\".\").resolve(), \"example_nbs/no_spec_provided/\")\n",
    "no_spec_nbs = _map_paths_specs(no_spec_dir, no_spec_dir)\n",
    "assert Path(\"scilint-default\") in no_spec_nbs\n",
    "assert len(no_spec_nbs) == 1\n",
    "assert len(no_spec_nbs[Path(\"scilint-default\")]) == 1"
   ]
  },
  {
   "cell_type": "code",
   "execution_count": 24,
   "metadata": {
    "tags": []
   },
   "outputs": [],
   "source": [
    "spec_nbs = _map_paths_specs()\n",
    "assert len(spec_nbs[Path(Path(\".\").resolve(), \"scilint-default.yaml\")]) == 10\n",
    "assert (\n",
    "    len(\n",
    "        spec_nbs[\n",
    "            Path(\n",
    "                Path(\".\").resolve(),\n",
    "                \"example_nbs\",\n",
    "                \"exploratory\",\n",
    "                f\"scilint-exploratory.yaml\",\n",
    "            )\n",
    "        ]\n",
    "    )\n",
    "    == 3\n",
    ")\n",
    "assert (\n",
    "    len(\n",
    "        spec_nbs[\n",
    "            Path(\n",
    "                Path(\".\").resolve(),\n",
    "                \"example_nbs\",\n",
    "                \"experimental\",\n",
    "                f\"scilint-experimental.yaml\",\n",
    "            )\n",
    "        ]\n",
    "    )\n",
    "    == 2\n",
    ")\n",
    "assert (\n",
    "    len(\n",
    "        spec_nbs[\n",
    "            Path(\n",
    "                Path(\".\").resolve(),\n",
    "                \"example_nbs\",\n",
    "                \"validated\",\n",
    "                f\"scilint-validated.yaml\",\n",
    "            )\n",
    "        ]\n",
    "    )\n",
    "    == 1\n",
    ")"
   ]
  },
  {
   "cell_type": "code",
   "execution_count": 25,
   "metadata": {
    "tags": []
   },
   "outputs": [],
   "source": [
    "spec_nbs = _map_paths_specs(specs_glob=get_project_root())\n",
    "assert sorted([k.name for k in spec_nbs.keys()]) == sorted(\n",
    "    [\n",
    "        \"scilint-default.yaml\",\n",
    "        \"scilint-validated.yaml\",\n",
    "        \"scilint-experimental.yaml\",\n",
    "        \"scilint-exploratory.yaml\",\n",
    "        \"scilint-legacy.yaml\",\n",
    "        \"scilint-no-nbs.yaml\",\n",
    "    ]\n",
    ")"
   ]
  },
  {
   "cell_type": "markdown",
   "metadata": {},
   "source": [
    "## Testing `lint_nbs`"
   ]
  },
  {
   "cell_type": "code",
   "execution_count": 26,
   "metadata": {
    "tags": []
   },
   "outputs": [],
   "source": [
    "conf = yaml.safe_load(Path(\"scilint-default.yaml\").read_text())\n",
    "default_spec_paths = list(_map_paths_specs().values())[0]"
   ]
  },
  {
   "cell_type": "code",
   "execution_count": 27,
   "metadata": {
    "tags": []
   },
   "outputs": [
    {
     "data": {
      "text/plain": [
       "(                                              spec_name  calls_per_func_mean   \n",
       " nbs/utils                          scilint-default.yaml                1.800  \\\n",
       " example_nbs/nbdev                  scilint-default.yaml                2.071   \n",
       " no_spec_provided/nbdev             scilint-default.yaml                2.071   \n",
       " example_nbs/non_nbdev_low_quality  scilint-default.yaml                1.444   \n",
       " example_nbs/nbdev_high_quality     scilint-default.yaml                2.308   \n",
       " nbs/scilint                        scilint-default.yaml                2.389   \n",
       " example_nbs/non_nbdev              scilint-default.yaml                1.000   \n",
       " nbs/indicators                     scilint-default.yaml                3.550   \n",
       " nbs/index                          scilint-default.yaml                  NaN   \n",
       " example_nbs/syntax_error           scilint-default.yaml                  NaN   \n",
       " \n",
       "                                    calls_per_func_median  tests_per_func_mean   \n",
       " nbs/utils                                            1.5                1.364  \\\n",
       " example_nbs/nbdev                                    1.0                1.071   \n",
       " no_spec_provided/nbdev                               1.0                1.071   \n",
       " example_nbs/non_nbdev_low_quality                    1.0                0.000   \n",
       " example_nbs/nbdev_high_quality                       1.0                1.385   \n",
       " nbs/scilint                                          1.0                1.737   \n",
       " example_nbs/non_nbdev                                1.0                0.000   \n",
       " nbs/indicators                                       4.0                3.480   \n",
       " nbs/index                                            NaN                  NaN   \n",
       " example_nbs/syntax_error                             NaN                  NaN   \n",
       " \n",
       "                                    tests_func_coverage_pct  in_func_pct   \n",
       " nbs/utils                                           63.636       51.899  \\\n",
       " example_nbs/nbdev                                   42.857       50.725   \n",
       " no_spec_provided/nbdev                              42.857       50.725   \n",
       " example_nbs/non_nbdev_low_quality                    0.000       45.000   \n",
       " example_nbs/nbdev_high_quality                      69.231       44.118   \n",
       " nbs/scilint                                         31.579       36.747   \n",
       " example_nbs/non_nbdev                                0.000       35.714   \n",
       " nbs/indicators                                      76.000       27.869   \n",
       " nbs/index                                              NaN          NaN   \n",
       " example_nbs/syntax_error                               NaN          NaN   \n",
       " \n",
       "                                    markdown_code_pct  loc_per_md_section   \n",
       " nbs/utils                                     27.273             798.375  \\\n",
       " example_nbs/nbdev                             30.769             546.444   \n",
       " no_spec_provided/nbdev                        30.769             546.444   \n",
       " example_nbs/non_nbdev_low_quality             15.789            2955.000   \n",
       " example_nbs/nbdev_high_quality                30.769             553.111   \n",
       " nbs/scilint                                   29.167            1103.810   \n",
       " example_nbs/non_nbdev                          0.000                 NaN   \n",
       " nbs/indicators                                37.333             678.111   \n",
       " nbs/index                                        NaN                 NaN   \n",
       " example_nbs/syntax_error                         NaN                 NaN   \n",
       " \n",
       "                                    total_code_len  has_syntax_error   \n",
       " nbs/utils                                  6387.0             False  \\\n",
       " example_nbs/nbdev                          4918.0             False   \n",
       " no_spec_provided/nbdev                     4918.0             False   \n",
       " example_nbs/non_nbdev_low_quality          2955.0             False   \n",
       " example_nbs/nbdev_high_quality             4978.0             False   \n",
       " nbs/scilint                               23180.0             False   \n",
       " example_nbs/non_nbdev                      1233.0             False   \n",
       " nbs/indicators                            18309.0             False   \n",
       " nbs/index                                     0.0             False   \n",
       " example_nbs/syntax_error                      NaN              True   \n",
       " \n",
       "                                    include_in_scoring  \n",
       " nbs/utils                                        True  \n",
       " example_nbs/nbdev                               False  \n",
       " no_spec_provided/nbdev                          False  \n",
       " example_nbs/non_nbdev_low_quality               False  \n",
       " example_nbs/nbdev_high_quality                  False  \n",
       " nbs/scilint                                      True  \n",
       " example_nbs/non_nbdev                           False  \n",
       " nbs/indicators                                   True  \n",
       " nbs/index                                        True  \n",
       " example_nbs/syntax_error                        False  ,\n",
       " Empty DataFrame\n",
       " Columns: [spec_name, notebook, indicator, value, operator, threshold]\n",
       " Index: [],\n",
       " 0)"
      ]
     },
     "execution_count": 27,
     "metadata": {},
     "output_type": "execute_result"
    }
   ],
   "source": [
    "lint_nbs(\"scilint-default.yaml\", conf, indicator_funcs, nb_paths=default_spec_paths)"
   ]
  },
  {
   "cell_type": "code",
   "execution_count": 28,
   "metadata": {
    "tags": []
   },
   "outputs": [],
   "source": [
    "lint_report, all_warns, num_warns = lint_nbs(\n",
    "    \"scilint-default.yaml\", conf, indicator_funcs, nb_paths=default_spec_paths\n",
    ")\n",
    "assert num_warns == 0"
   ]
  },
  {
   "cell_type": "code",
   "execution_count": 29,
   "metadata": {
    "tags": []
   },
   "outputs": [],
   "source": [
    "conf[\"exclusions\"] = None\n",
    "lint_report, all_warns, num_warns = lint_nbs(\n",
    "    \"scilint-default.yaml\", conf, indicator_funcs, nb_paths=default_spec_paths\n",
    ")\n",
    "assert num_warns == 7"
   ]
  },
  {
   "cell_type": "code",
   "execution_count": 30,
   "metadata": {
    "tags": []
   },
   "outputs": [],
   "source": [
    "conf = yaml.safe_load(\n",
    "    Path(\n",
    "        Path(\".\").resolve(), \"example_nbs\", \"experimental\", \"scilint-experimental.yaml\"\n",
    "    ).read_text()\n",
    ")\n",
    "lint_report, all_warns, num_warns = lint_nbs(\n",
    "    \"scilint-experimental.yaml\",\n",
    "    conf,\n",
    "    indicator_funcs,\n",
    "    nb_glob=Path(\"example_nbs/experimental/\"),\n",
    ")\n",
    "assert num_warns == 3"
   ]
  },
  {
   "cell_type": "code",
   "execution_count": 31,
   "metadata": {
    "tags": []
   },
   "outputs": [],
   "source": [
    "conf[\"exclusions\"] = \"\"\"nbs/example_nbs/,nbs/index.ipynb\"\"\"\n",
    "_, all_warns, num_warns = lint_nbs(\n",
    "    \"scilint-experimental.yaml\",\n",
    "    conf,\n",
    "    indicator_funcs,\n",
    "    nb_glob=Path(\"example_nbs/experimental/\"),\n",
    ")\n",
    "assert num_warns == 0\n",
    "conf[\"exclusions\"] = None"
   ]
  },
  {
   "cell_type": "code",
   "execution_count": 32,
   "metadata": {
    "tags": []
   },
   "outputs": [],
   "source": [
    "conf[\"exclusions\"] = \"\"\"nbs/example_nbs/experimental/non_nbdev.ipynb\"\"\"\n",
    "_, all_warns, num_warns = lint_nbs(\n",
    "    \"scilint-experimental.yaml\",\n",
    "    conf,\n",
    "    indicator_funcs,\n",
    "    nb_glob=Path(\"example_nbs/experimental/\"),\n",
    ")\n",
    "assert num_warns == 0\n",
    "conf[\"exclusions\"] = None"
   ]
  },
  {
   "cell_type": "code",
   "execution_count": 33,
   "metadata": {
    "tags": []
   },
   "outputs": [],
   "source": [
    "conf[\"exclusions\"] = \"\"\"nbs/example_nbs/exploratory/syntax_error.ipynb\"\"\"\n",
    "_, all_warns, num_warns = lint_nbs(\n",
    "    \"scilint-exploratory.yaml\",\n",
    "    conf,\n",
    "    indicator_funcs,\n",
    "    nb_glob=Path(\"example_nbs/exploratory/\"),\n",
    ")\n",
    "assert num_warns == 3\n",
    "conf[\"exclusions\"] = None"
   ]
  },
  {
   "cell_type": "markdown",
   "metadata": {},
   "source": [
    "## `display_warning_report`"
   ]
  },
  {
   "cell_type": "code",
   "execution_count": 34,
   "metadata": {
    "tags": []
   },
   "outputs": [],
   "source": [
    "# | export\n",
    "\n",
    "\n",
    "def display_warning_report(all_warns: pd.DataFrame):\n",
    "    print(\n",
    "        \"\\n******************************************Begin Scilint Warning Report*****************************************\"\n",
    "    )\n",
    "    print(all_warns.to_markdown(tablefmt=\"grid\", index=False))\n",
    "    print(\n",
    "        \"\\n******************************************End Scilint Warning Report*******************************************\\n\"\n",
    "    )"
   ]
  },
  {
   "cell_type": "markdown",
   "metadata": {},
   "source": [
    "## `_persist_results`"
   ]
  },
  {
   "cell_type": "code",
   "execution_count": 35,
   "metadata": {
    "tags": []
   },
   "outputs": [],
   "source": [
    "# | export\n",
    "\n",
    "\n",
    "def _persist_results(\n",
    "    lint_report: pd.DataFrame, all_warns: pd.DataFrame, conf: Dict[str, Any]\n",
    "):\n",
    "    out_dir = Path(conf[\"out_dir\"])\n",
    "    conf_to_persist = {k: v for k, v in conf.items() if k != \"indicators\"}\n",
    "    if not out_dir.exists():\n",
    "        Path(out_dir).mkdir()\n",
    "    with open(Path(out_dir, \"scilint_config.json\"), \"w\") as outfile:\n",
    "        json.dump(conf_to_persist, outfile)\n",
    "    all_warns.to_csv(Path(out_dir, \"scilint_warnings.csv\"), index=False)\n",
    "    lint_report.to_csv(Path(out_dir, \"scilint_report.csv\"))"
   ]
  },
  {
   "cell_type": "code",
   "execution_count": 36,
   "metadata": {},
   "outputs": [],
   "source": [
    "import tempfile"
   ]
  },
  {
   "cell_type": "code",
   "execution_count": 37,
   "metadata": {
    "tags": []
   },
   "outputs": [],
   "source": [
    "with tempfile.TemporaryDirectory() as tmp_dir:\n",
    "    report = pd.DataFrame({\"a\": [1, 2, 3]})\n",
    "    _persist_results(report, report, {\"indicators\": [], \"out_dir\": tmp_dir})\n",
    "    assert pd.read_csv(Path(tmp_dir, \"scilint_report.csv\"), index_col=0).equals(\n",
    "        pd.DataFrame({\"a\": [1, 2, 3]})\n",
    "    )\n",
    "    assert pd.read_csv(Path(tmp_dir, \"scilint_warnings.csv\")).equals(\n",
    "        pd.DataFrame({\"a\": [1, 2, 3]})\n",
    "    )\n",
    "    with open(Path(tmp_dir, \"scilint_config.json\")) as infile:\n",
    "        assert json.load(infile) == {\"out_dir\": tmp_dir}"
   ]
  },
  {
   "cell_type": "markdown",
   "metadata": {},
   "source": [
    "## `_load_conf`"
   ]
  },
  {
   "cell_type": "code",
   "execution_count": 38,
   "metadata": {
    "tags": []
   },
   "outputs": [],
   "source": [
    "# | export\n",
    "\n",
    "\n",
    "def _load_conf(\n",
    "    conf_path: str = None,\n",
    "    exclusions: str = None,\n",
    "    fail_over: int = None,\n",
    "    out_dir: int = None,\n",
    "    precision: int = None,\n",
    "    print_syntax_errors: bool = None,\n",
    "):\n",
    "    if conf_path is None:\n",
    "        project_root = find_project_root(tuple([str(Path(\".\").resolve())]))\n",
    "        conf_path = Path(project_root, \"nbs\", \"scilint-default.yaml\")\n",
    "        logger.info(f\"Loading default lint config: {conf_path}\")\n",
    "    else:\n",
    "        conf_path = Path(conf_path)\n",
    "\n",
    "    logger.debug(f\"Loading config from: {conf_path}\")\n",
    "    conf = yaml.safe_load(conf_path.read_text())\n",
    "    logger.debug(f\"Loaded configuration\\n {conf}\")\n",
    "    conf[\"nb_path_display\"]\n",
    "    override_names = (\n",
    "        \"exclusions\",\n",
    "        \"fail_over\",\n",
    "        \"out_dir\",\n",
    "        \"precision\",\n",
    "        \"print_syntax_errors\",\n",
    "    )\n",
    "    overrides = (exclusions, fail_over, out_dir, precision, print_syntax_errors)\n",
    "    for override in zip(override_names, overrides):\n",
    "        if override[1] is not None:\n",
    "            conf[override[0]] = override[1]\n",
    "    return conf"
   ]
  },
  {
   "cell_type": "code",
   "execution_count": 39,
   "metadata": {
    "tags": []
   },
   "outputs": [],
   "source": [
    "experimental_spec_path = Path(\n",
    "    Path(\".\"), \"example_nbs\", \"experimental\", \"scilint-experimental.yaml\"\n",
    ")\n",
    "experimental_spec = _load_conf(experimental_spec_path)\n",
    "assert experimental_spec[\"precision\"] == 3\n",
    "assert experimental_spec[\"fail_over\"] == 3"
   ]
  },
  {
   "cell_type": "code",
   "execution_count": 40,
   "metadata": {
    "tags": []
   },
   "outputs": [],
   "source": [
    "experimental_spec = _load_conf(experimental_spec_path, fail_over=-1, precision=1)\n",
    "assert experimental_spec[\"precision\"] == 1\n",
    "assert experimental_spec[\"fail_over\"] == -1"
   ]
  },
  {
   "cell_type": "markdown",
   "metadata": {
    "tags": []
   },
   "source": [
    "## `lint`"
   ]
  },
  {
   "cell_type": "code",
   "execution_count": 41,
   "metadata": {
    "tags": []
   },
   "outputs": [],
   "source": [
    "# | export\n",
    "\n",
    "\n",
    "def lint(\n",
    "    display_report: bool = True,\n",
    "    nb_glob: Path = None,\n",
    "    specs_glob: Path = Path(\".\").resolve(),\n",
    "    exclusions: str = None,\n",
    "    fail_over: int = None,\n",
    "    out_dir: int = None,\n",
    "    precision: int = None,\n",
    "    print_syntax_errors: bool = None,\n",
    "    exit_on_failure: bool = True,\n",
    "):\n",
    "    exit_code = 0\n",
    "    spec_nbs = _map_paths_specs(nb_glob, specs_glob)\n",
    "    lint_reports = []\n",
    "    all_warns = []\n",
    "    warns_count = []\n",
    "    linting_failure = False\n",
    "    for spec, nbs in spec_nbs.items():\n",
    "        if len(nbs) == 0:\n",
    "            print(\n",
    "                f\"Linting skipped for: {spec.name} as no notebooks found matching path expression\"\n",
    "            )\n",
    "            continue\n",
    "        if str(spec) == \"scilint-default\":\n",
    "            logger.info(\"No spec assignment found - using fallback spec configuration\")\n",
    "            conf = get_default_spec()\n",
    "        else:\n",
    "            conf = _load_conf(\n",
    "                spec, exclusions, fail_over, out_dir, precision, print_syntax_errors\n",
    "            )\n",
    "            conf[\"nb_path_display\"]\n",
    "        if conf[\"evaluate\"] == False:\n",
    "            print(f\"Linting skipped for: {spec.name} as evaluate is set to false\")\n",
    "            continue\n",
    "        lint_report, report_warns, num_warnings = lint_nbs(\n",
    "            spec.name, conf, indicator_funcs, nb_paths=nbs, out_dir=out_dir\n",
    "        )\n",
    "        lint_reports.append(lint_report)\n",
    "        all_warns.append(report_warns)\n",
    "        warns_count.append(num_warnings)\n",
    "\n",
    "        fail_over_conf = conf[\"fail_over\"]\n",
    "        if conf[\"fail_over\"] == -1:\n",
    "            print(f\"Linting warnings ignored for: {spec.name} as fail_over set to -1\")\n",
    "        elif num_warnings == 0:\n",
    "            print(f\"Linting success for: {spec.name}, no issues found\")\n",
    "        elif num_warnings <= conf[\"fail_over\"]:\n",
    "            print(\n",
    "                f\"Linting success for: {spec.name}, warnings ({num_warnings}) <= than threshold ({fail_over_conf}) \"\n",
    "            )\n",
    "        else:\n",
    "            print(\n",
    "                f\"Linting failed for: {spec.name}, total warnings ({num_warnings}) exceeded threshold ({fail_over_conf})\"\n",
    "            )\n",
    "            linting_failure = True\n",
    "            continue\n",
    "\n",
    "    lint_report = pd.concat(lint_reports) if len(lint_reports) > 0 else lint_report\n",
    "    all_warns = pd.concat(all_warns) if len(all_warns) > 0 else report_warns\n",
    "    num_warnings = sum(warns_count)\n",
    "\n",
    "    _persist_results(lint_report, all_warns, conf)\n",
    "\n",
    "    if num_warnings > 0:\n",
    "        if display_report:\n",
    "            display_warning_report(all_warns)\n",
    "        if not linting_failure:\n",
    "            print(\n",
    "                f\"{num_warnings} warnings founds, within tolerated thresholds for all specs\"\n",
    "            )\n",
    "        elif exit_on_failure:\n",
    "            sys.exit(num_warnings)\n",
    "        else:\n",
    "            exit_code = num_warnings\n",
    "    elif num_warnings == 0:\n",
    "        print(\"No issues found during linting\")\n",
    "    return exit_code"
   ]
  },
  {
   "cell_type": "code",
   "execution_count": 42,
   "metadata": {
    "tags": []
   },
   "outputs": [
    {
     "name": "stdout",
     "output_type": "stream",
     "text": [
      "Linting success for: scilint-default.yaml, no issues found\n",
      "Linting success for: scilint-validated.yaml, no issues found\n",
      "Linting success for: scilint-experimental.yaml, warnings (3) <= than threshold (3) \n",
      "Linting success for: scilint-exploratory.yaml, warnings (1) <= than threshold (2) \n",
      "Linting skipped for: scilint-legacy.yaml as evaluate is set to false\n",
      "Linting skipped for: scilint-no-nbs.yaml as no notebooks found matching path expression\n",
      "\n",
      "******************************************Begin Scilint Warning Report*****************************************\n",
      "+---------------------------+--------------------------+-------------------------+---------+------------+-------------+\n",
      "| spec_name                 | notebook                 | indicator               |   value | operator   |   threshold |\n",
      "+===========================+==========================+=========================+=========+============+=============+\n",
      "| scilint-experimental.yaml | experimental/non_nbdev   | tests_func_coverage_pct |       0 | lt         |        20   |\n",
      "+---------------------------+--------------------------+-------------------------+---------+------------+-------------+\n",
      "| scilint-experimental.yaml | experimental/non_nbdev   | tests_per_func_mean     |       0 | lt         |         0.5 |\n",
      "+---------------------------+--------------------------+-------------------------+---------+------------+-------------+\n",
      "| scilint-experimental.yaml | experimental/non_nbdev   | markdown_code_pct       |       0 | lt         |         5   |\n",
      "+---------------------------+--------------------------+-------------------------+---------+------------+-------------+\n",
      "| scilint-exploratory.yaml  | exploratory/syntax_error | has_syntax_error        |       1 | equals     |         1   |\n",
      "+---------------------------+--------------------------+-------------------------+---------+------------+-------------+\n",
      "\n",
      "******************************************End Scilint Warning Report*******************************************\n",
      "\n",
      "4 warnings founds, within tolerated thresholds for all specs\n"
     ]
    },
    {
     "data": {
      "text/plain": [
       "0"
      ]
     },
     "execution_count": 42,
     "metadata": {},
     "output_type": "execute_result"
    }
   ],
   "source": [
    "lint()"
   ]
  },
  {
   "cell_type": "code",
   "execution_count": 43,
   "metadata": {
    "tags": []
   },
   "outputs": [
    {
     "name": "stdout",
     "output_type": "stream",
     "text": [
      "Linting success for: scilint-experimental.yaml, warnings (3) <= than threshold (3) \n",
      "\n",
      "******************************************Begin Scilint Warning Report*****************************************\n",
      "+---------------------------+------------------------+-------------------------+---------+------------+-------------+\n",
      "| spec_name                 | notebook               | indicator               |   value | operator   |   threshold |\n",
      "+===========================+========================+=========================+=========+============+=============+\n",
      "| scilint-experimental.yaml | experimental/non_nbdev | tests_func_coverage_pct |       0 | lt         |        20   |\n",
      "+---------------------------+------------------------+-------------------------+---------+------------+-------------+\n",
      "| scilint-experimental.yaml | experimental/non_nbdev | tests_per_func_mean     |       0 | lt         |         0.5 |\n",
      "+---------------------------+------------------------+-------------------------+---------+------------+-------------+\n",
      "| scilint-experimental.yaml | experimental/non_nbdev | markdown_code_pct       |       0 | lt         |         5   |\n",
      "+---------------------------+------------------------+-------------------------+---------+------------+-------------+\n",
      "\n",
      "******************************************End Scilint Warning Report*******************************************\n",
      "\n",
      "3 warnings founds, within tolerated thresholds for all specs\n"
     ]
    }
   ],
   "source": [
    "assert (\n",
    "    lint(\n",
    "        nb_glob=str(Path(Path(\".\").resolve(), \"example_nbs\", \"experimental\")),\n",
    "        specs_glob=str(Path(Path(\".\").resolve(), \"example_nbs\", \"experimental\")),\n",
    "    )\n",
    "    == 0\n",
    ")"
   ]
  },
  {
   "cell_type": "code",
   "execution_count": 44,
   "metadata": {
    "tags": []
   },
   "outputs": [
    {
     "name": "stdout",
     "output_type": "stream",
     "text": [
      "Linting success for: scilint-experimental.yaml, warnings (3) <= than threshold (3) \n",
      "Linting failed for: scilint-default, total warnings (15) exceeded threshold (1)\n"
     ]
    }
   ],
   "source": [
    "assert (\n",
    "    lint(\n",
    "        specs_glob=str(Path(Path(\".\").resolve(), \"example_nbs\", \"experimental\")),\n",
    "        exit_on_failure=False,\n",
    "        display_report=False,\n",
    "    )\n",
    "    > 0\n",
    ")"
   ]
  },
  {
   "cell_type": "code",
   "execution_count": 45,
   "metadata": {
    "tags": []
   },
   "outputs": [
    {
     "name": "stdout",
     "output_type": "stream",
     "text": [
      "Linting skipped for: scilint-validated.yaml as no notebooks found matching path expression\n",
      "Linting skipped for: scilint-experimental.yaml as no notebooks found matching path expression\n",
      "Linting skipped for: scilint-exploratory.yaml as no notebooks found matching path expression\n",
      "Linting skipped for: scilint-legacy.yaml as no notebooks found matching path expression\n",
      "Linting skipped for: scilint-no-nbs.yaml as no notebooks found matching path expression\n",
      "Linting failed for: scilint-default, total warnings (18) exceeded threshold (1)\n"
     ]
    }
   ],
   "source": [
    "assert (\n",
    "    lint(\n",
    "        nb_glob=\"example_nbs\",\n",
    "        specs_glob=\"example_nbs\",\n",
    "        display_report=False,\n",
    "        exit_on_failure=False,\n",
    "    )\n",
    "    > 0\n",
    ")"
   ]
  },
  {
   "cell_type": "code",
   "execution_count": 46,
   "metadata": {
    "tags": []
   },
   "outputs": [
    {
     "name": "stdout",
     "output_type": "stream",
     "text": [
      "Linting success for: scilint-default.yaml, no issues found\n",
      "Linting skipped for: scilint-validated.yaml as no notebooks found matching path expression\n",
      "Linting skipped for: scilint-experimental.yaml as no notebooks found matching path expression\n",
      "Linting skipped for: scilint-exploratory.yaml as no notebooks found matching path expression\n",
      "Linting skipped for: scilint-legacy.yaml as no notebooks found matching path expression\n",
      "Linting skipped for: scilint-no-nbs.yaml as no notebooks found matching path expression\n",
      "No issues found during linting\n"
     ]
    }
   ],
   "source": [
    "assert lint(nb_glob=\"example_nbs\") == 0"
   ]
  },
  {
   "cell_type": "markdown",
   "metadata": {
    "tags": []
   },
   "source": [
    "## `build`"
   ]
  },
  {
   "cell_type": "code",
   "execution_count": 47,
   "metadata": {
    "tags": []
   },
   "outputs": [],
   "source": [
    "# | export\n",
    "\n",
    "\n",
    "def build(\n",
    "    display_report: bool = True,\n",
    "    nb_glob: Path = None,\n",
    "    specs_glob: Path = Path(\".\").resolve(),\n",
    "    exclusions: str = None,\n",
    "    fail_over: int = None,\n",
    "    out_dir: int = None,\n",
    "    precision: int = None,\n",
    "    print_syntax_errors: bool = None,\n",
    "    exit_on_failure: bool = True,\n",
    "):\n",
    "    print(\"Tidying notebooks..\")\n",
    "    tidy_from_glob(nb_glob)\n",
    "    if is_nbdev_project():\n",
    "        nbdev_export.__wrapped__()\n",
    "        print(\"Converted notebooks to modules\")\n",
    "        print(\"Testing notebooks..\")\n",
    "        nbdev_test.__wrapped__()\n",
    "    print(\"Running notebook linter..\")\n",
    "    lint(\n",
    "        display_report,\n",
    "        nb_glob,\n",
    "        specs_glob,\n",
    "        exclusions,\n",
    "        fail_over,\n",
    "        out_dir,\n",
    "        precision,\n",
    "        print_syntax_errors,\n",
    "        exit_on_failure,\n",
    "    )\n",
    "    if is_nbdev_project():\n",
    "        nbdev_clean.__wrapped__()\n",
    "        print(\"Cleaned notebooks\")"
   ]
  },
  {
   "cell_type": "markdown",
   "metadata": {
    "tags": []
   },
   "source": [
    "# Console Scripts"
   ]
  },
  {
   "cell_type": "markdown",
   "metadata": {
    "tags": []
   },
   "source": [
    "## `scilint_tidy`"
   ]
  },
  {
   "cell_type": "code",
   "execution_count": 48,
   "metadata": {
    "tags": []
   },
   "outputs": [],
   "source": [
    "# | export\n",
    "\n",
    "\n",
    "@call_parse\n",
    "def scilint_tidy(nb_glob: Path = None, log_level: str = \"warn\"):\n",
    "    configure_logging(log_level)\n",
    "    tidy_from_glob(nb_glob)"
   ]
  },
  {
   "cell_type": "markdown",
   "metadata": {
    "tags": []
   },
   "source": [
    "## `scilint_lint`"
   ]
  },
  {
   "cell_type": "code",
   "execution_count": 49,
   "metadata": {
    "tags": []
   },
   "outputs": [],
   "source": [
    "# | export\n",
    "\n",
    "\n",
    "@call_parse\n",
    "def scilint_lint(\n",
    "    display_report: Param(\"Print the lint report\", store_false) = False,\n",
    "    nb_glob: Path = None,\n",
    "    specs_glob: Path = Path(\".\").resolve(),\n",
    "    exclusions: str = None,\n",
    "    fail_over: int = None,\n",
    "    out_dir: str = None,\n",
    "    precision: int = None,\n",
    "    print_syntax_errors: bool = None,\n",
    "    exit_on_failure: bool = True,\n",
    "    log_level: str = \"warn\",\n",
    "):\n",
    "    configure_logging(log_level)\n",
    "    lint(\n",
    "        display_report,\n",
    "        nb_glob,\n",
    "        specs_glob,\n",
    "        exclusions,\n",
    "        fail_over,\n",
    "        out_dir,\n",
    "        precision,\n",
    "        print_syntax_errors,\n",
    "    )"
   ]
  },
  {
   "cell_type": "code",
   "execution_count": 50,
   "metadata": {
    "tags": []
   },
   "outputs": [
    {
     "name": "stdout",
     "output_type": "stream",
     "text": [
      "Linting success for: scilint-default.yaml, no issues found\n",
      "Linting success for: scilint-validated.yaml, no issues found\n",
      "Linting success for: scilint-experimental.yaml, warnings (3) <= than threshold (3) \n",
      "Linting success for: scilint-exploratory.yaml, warnings (1) <= than threshold (2) \n",
      "Linting skipped for: scilint-legacy.yaml as evaluate is set to false\n",
      "Linting skipped for: scilint-no-nbs.yaml as no notebooks found matching path expression\n",
      "4 warnings founds, within tolerated thresholds for all specs\n"
     ]
    }
   ],
   "source": [
    "scilint_lint()"
   ]
  },
  {
   "cell_type": "markdown",
   "metadata": {
    "tags": []
   },
   "source": [
    "## `scilint_build`"
   ]
  },
  {
   "cell_type": "code",
   "execution_count": 51,
   "metadata": {
    "tags": []
   },
   "outputs": [],
   "source": [
    "# | export\n",
    "\n",
    "\n",
    "@call_parse\n",
    "def scilint_build(\n",
    "    display_report: Param(\"Print the lint report\", store_false) = False,\n",
    "    nb_glob: Path = None,\n",
    "    specs_glob: Path = Path(\".\").resolve(),\n",
    "    exclusions: str = None,\n",
    "    fail_over: int = None,\n",
    "    out_dir: int = None,\n",
    "    precision: int = None,\n",
    "    print_syntax_errors: bool = None,\n",
    "    exit_on_failure: bool = True,\n",
    "    log_level: str = \"warn\",\n",
    "):\n",
    "    configure_logging(log_level)\n",
    "    build(\n",
    "        display_report,\n",
    "        nb_glob,\n",
    "        specs_glob,\n",
    "        exclusions,\n",
    "        fail_over,\n",
    "        out_dir,\n",
    "        precision,\n",
    "        print_syntax_errors,\n",
    "    )"
   ]
  },
  {
   "cell_type": "markdown",
   "metadata": {},
   "source": [
    "## `scilint_ci`"
   ]
  },
  {
   "cell_type": "code",
   "execution_count": 52,
   "metadata": {
    "tags": []
   },
   "outputs": [],
   "source": [
    "# | export\n",
    "\n",
    "\n",
    "@call_parse\n",
    "def scilint_ci(\n",
    "    display_report: Param(\"Print the lint report\", store_false) = False,\n",
    "    nb_glob: Path = None,\n",
    "    specs_glob: Path = Path(\".\").resolve(),\n",
    "    exclusions: str = None,\n",
    "    fail_over: int = None,\n",
    "    out_dir: int = None,\n",
    "    precision: int = None,\n",
    "    print_syntax_errors: bool = None,\n",
    "    exit_on_failure: bool = True,\n",
    "    log_level: str = \"warn\",\n",
    "):\n",
    "    configure_logging(log_level)\n",
    "    if not is_nbdev_project():\n",
    "        print(\"scilint_ci feature is only available for nbdev projects\")\n",
    "        return\n",
    "\n",
    "    build(\n",
    "        display_report,\n",
    "        nb_glob,\n",
    "        specs_glob,\n",
    "        exclusions,\n",
    "        fail_over,\n",
    "        out_dir,\n",
    "        precision,\n",
    "        print_syntax_errors,\n",
    "    )\n",
    "\n",
    "    if not shutil.which(\"quarto\"):\n",
    "        print(\n",
    "            \"Quarto is not installed. A working quarto install is required for the CI build\"\n",
    "        )\n",
    "        sys.exit(-1)\n",
    "    nbdev_readme.__wrapped__()\n",
    "    nbdev_docs.__wrapped__()"
   ]
  }
 ],
 "metadata": {
  "availableInstances": [
   {
    "_defaultOrder": 0,
    "_isFastLaunch": true,
    "category": "General purpose",
    "gpuNum": 0,
    "hideHardwareSpecs": false,
    "memoryGiB": 4,
    "name": "ml.t3.medium",
    "vcpuNum": 2
   },
   {
    "_defaultOrder": 1,
    "_isFastLaunch": false,
    "category": "General purpose",
    "gpuNum": 0,
    "hideHardwareSpecs": false,
    "memoryGiB": 8,
    "name": "ml.t3.large",
    "vcpuNum": 2
   },
   {
    "_defaultOrder": 2,
    "_isFastLaunch": false,
    "category": "General purpose",
    "gpuNum": 0,
    "hideHardwareSpecs": false,
    "memoryGiB": 16,
    "name": "ml.t3.xlarge",
    "vcpuNum": 4
   },
   {
    "_defaultOrder": 3,
    "_isFastLaunch": false,
    "category": "General purpose",
    "gpuNum": 0,
    "hideHardwareSpecs": false,
    "memoryGiB": 32,
    "name": "ml.t3.2xlarge",
    "vcpuNum": 8
   },
   {
    "_defaultOrder": 4,
    "_isFastLaunch": true,
    "category": "General purpose",
    "gpuNum": 0,
    "hideHardwareSpecs": false,
    "memoryGiB": 8,
    "name": "ml.m5.large",
    "vcpuNum": 2
   },
   {
    "_defaultOrder": 5,
    "_isFastLaunch": false,
    "category": "General purpose",
    "gpuNum": 0,
    "hideHardwareSpecs": false,
    "memoryGiB": 16,
    "name": "ml.m5.xlarge",
    "vcpuNum": 4
   },
   {
    "_defaultOrder": 6,
    "_isFastLaunch": false,
    "category": "General purpose",
    "gpuNum": 0,
    "hideHardwareSpecs": false,
    "memoryGiB": 32,
    "name": "ml.m5.2xlarge",
    "vcpuNum": 8
   },
   {
    "_defaultOrder": 7,
    "_isFastLaunch": false,
    "category": "General purpose",
    "gpuNum": 0,
    "hideHardwareSpecs": false,
    "memoryGiB": 64,
    "name": "ml.m5.4xlarge",
    "vcpuNum": 16
   },
   {
    "_defaultOrder": 8,
    "_isFastLaunch": false,
    "category": "General purpose",
    "gpuNum": 0,
    "hideHardwareSpecs": false,
    "memoryGiB": 128,
    "name": "ml.m5.8xlarge",
    "vcpuNum": 32
   },
   {
    "_defaultOrder": 9,
    "_isFastLaunch": false,
    "category": "General purpose",
    "gpuNum": 0,
    "hideHardwareSpecs": false,
    "memoryGiB": 192,
    "name": "ml.m5.12xlarge",
    "vcpuNum": 48
   },
   {
    "_defaultOrder": 10,
    "_isFastLaunch": false,
    "category": "General purpose",
    "gpuNum": 0,
    "hideHardwareSpecs": false,
    "memoryGiB": 256,
    "name": "ml.m5.16xlarge",
    "vcpuNum": 64
   },
   {
    "_defaultOrder": 11,
    "_isFastLaunch": false,
    "category": "General purpose",
    "gpuNum": 0,
    "hideHardwareSpecs": false,
    "memoryGiB": 384,
    "name": "ml.m5.24xlarge",
    "vcpuNum": 96
   },
   {
    "_defaultOrder": 12,
    "_isFastLaunch": false,
    "category": "General purpose",
    "gpuNum": 0,
    "hideHardwareSpecs": false,
    "memoryGiB": 8,
    "name": "ml.m5d.large",
    "vcpuNum": 2
   },
   {
    "_defaultOrder": 13,
    "_isFastLaunch": false,
    "category": "General purpose",
    "gpuNum": 0,
    "hideHardwareSpecs": false,
    "memoryGiB": 16,
    "name": "ml.m5d.xlarge",
    "vcpuNum": 4
   },
   {
    "_defaultOrder": 14,
    "_isFastLaunch": false,
    "category": "General purpose",
    "gpuNum": 0,
    "hideHardwareSpecs": false,
    "memoryGiB": 32,
    "name": "ml.m5d.2xlarge",
    "vcpuNum": 8
   },
   {
    "_defaultOrder": 15,
    "_isFastLaunch": false,
    "category": "General purpose",
    "gpuNum": 0,
    "hideHardwareSpecs": false,
    "memoryGiB": 64,
    "name": "ml.m5d.4xlarge",
    "vcpuNum": 16
   },
   {
    "_defaultOrder": 16,
    "_isFastLaunch": false,
    "category": "General purpose",
    "gpuNum": 0,
    "hideHardwareSpecs": false,
    "memoryGiB": 128,
    "name": "ml.m5d.8xlarge",
    "vcpuNum": 32
   },
   {
    "_defaultOrder": 17,
    "_isFastLaunch": false,
    "category": "General purpose",
    "gpuNum": 0,
    "hideHardwareSpecs": false,
    "memoryGiB": 192,
    "name": "ml.m5d.12xlarge",
    "vcpuNum": 48
   },
   {
    "_defaultOrder": 18,
    "_isFastLaunch": false,
    "category": "General purpose",
    "gpuNum": 0,
    "hideHardwareSpecs": false,
    "memoryGiB": 256,
    "name": "ml.m5d.16xlarge",
    "vcpuNum": 64
   },
   {
    "_defaultOrder": 19,
    "_isFastLaunch": false,
    "category": "General purpose",
    "gpuNum": 0,
    "hideHardwareSpecs": false,
    "memoryGiB": 384,
    "name": "ml.m5d.24xlarge",
    "vcpuNum": 96
   },
   {
    "_defaultOrder": 20,
    "_isFastLaunch": false,
    "category": "General purpose",
    "gpuNum": 0,
    "hideHardwareSpecs": true,
    "memoryGiB": 0,
    "name": "ml.geospatial.interactive",
    "supportedImageNames": [
     "sagemaker-geospatial-v1-0"
    ],
    "vcpuNum": 0
   },
   {
    "_defaultOrder": 21,
    "_isFastLaunch": true,
    "category": "Compute optimized",
    "gpuNum": 0,
    "hideHardwareSpecs": false,
    "memoryGiB": 4,
    "name": "ml.c5.large",
    "vcpuNum": 2
   },
   {
    "_defaultOrder": 22,
    "_isFastLaunch": false,
    "category": "Compute optimized",
    "gpuNum": 0,
    "hideHardwareSpecs": false,
    "memoryGiB": 8,
    "name": "ml.c5.xlarge",
    "vcpuNum": 4
   },
   {
    "_defaultOrder": 23,
    "_isFastLaunch": false,
    "category": "Compute optimized",
    "gpuNum": 0,
    "hideHardwareSpecs": false,
    "memoryGiB": 16,
    "name": "ml.c5.2xlarge",
    "vcpuNum": 8
   },
   {
    "_defaultOrder": 24,
    "_isFastLaunch": false,
    "category": "Compute optimized",
    "gpuNum": 0,
    "hideHardwareSpecs": false,
    "memoryGiB": 32,
    "name": "ml.c5.4xlarge",
    "vcpuNum": 16
   },
   {
    "_defaultOrder": 25,
    "_isFastLaunch": false,
    "category": "Compute optimized",
    "gpuNum": 0,
    "hideHardwareSpecs": false,
    "memoryGiB": 72,
    "name": "ml.c5.9xlarge",
    "vcpuNum": 36
   },
   {
    "_defaultOrder": 26,
    "_isFastLaunch": false,
    "category": "Compute optimized",
    "gpuNum": 0,
    "hideHardwareSpecs": false,
    "memoryGiB": 96,
    "name": "ml.c5.12xlarge",
    "vcpuNum": 48
   },
   {
    "_defaultOrder": 27,
    "_isFastLaunch": false,
    "category": "Compute optimized",
    "gpuNum": 0,
    "hideHardwareSpecs": false,
    "memoryGiB": 144,
    "name": "ml.c5.18xlarge",
    "vcpuNum": 72
   },
   {
    "_defaultOrder": 28,
    "_isFastLaunch": false,
    "category": "Compute optimized",
    "gpuNum": 0,
    "hideHardwareSpecs": false,
    "memoryGiB": 192,
    "name": "ml.c5.24xlarge",
    "vcpuNum": 96
   },
   {
    "_defaultOrder": 29,
    "_isFastLaunch": true,
    "category": "Accelerated computing",
    "gpuNum": 1,
    "hideHardwareSpecs": false,
    "memoryGiB": 16,
    "name": "ml.g4dn.xlarge",
    "vcpuNum": 4
   },
   {
    "_defaultOrder": 30,
    "_isFastLaunch": false,
    "category": "Accelerated computing",
    "gpuNum": 1,
    "hideHardwareSpecs": false,
    "memoryGiB": 32,
    "name": "ml.g4dn.2xlarge",
    "vcpuNum": 8
   },
   {
    "_defaultOrder": 31,
    "_isFastLaunch": false,
    "category": "Accelerated computing",
    "gpuNum": 1,
    "hideHardwareSpecs": false,
    "memoryGiB": 64,
    "name": "ml.g4dn.4xlarge",
    "vcpuNum": 16
   },
   {
    "_defaultOrder": 32,
    "_isFastLaunch": false,
    "category": "Accelerated computing",
    "gpuNum": 1,
    "hideHardwareSpecs": false,
    "memoryGiB": 128,
    "name": "ml.g4dn.8xlarge",
    "vcpuNum": 32
   },
   {
    "_defaultOrder": 33,
    "_isFastLaunch": false,
    "category": "Accelerated computing",
    "gpuNum": 4,
    "hideHardwareSpecs": false,
    "memoryGiB": 192,
    "name": "ml.g4dn.12xlarge",
    "vcpuNum": 48
   },
   {
    "_defaultOrder": 34,
    "_isFastLaunch": false,
    "category": "Accelerated computing",
    "gpuNum": 1,
    "hideHardwareSpecs": false,
    "memoryGiB": 256,
    "name": "ml.g4dn.16xlarge",
    "vcpuNum": 64
   },
   {
    "_defaultOrder": 35,
    "_isFastLaunch": false,
    "category": "Accelerated computing",
    "gpuNum": 1,
    "hideHardwareSpecs": false,
    "memoryGiB": 61,
    "name": "ml.p3.2xlarge",
    "vcpuNum": 8
   },
   {
    "_defaultOrder": 36,
    "_isFastLaunch": false,
    "category": "Accelerated computing",
    "gpuNum": 4,
    "hideHardwareSpecs": false,
    "memoryGiB": 244,
    "name": "ml.p3.8xlarge",
    "vcpuNum": 32
   },
   {
    "_defaultOrder": 37,
    "_isFastLaunch": false,
    "category": "Accelerated computing",
    "gpuNum": 8,
    "hideHardwareSpecs": false,
    "memoryGiB": 488,
    "name": "ml.p3.16xlarge",
    "vcpuNum": 64
   },
   {
    "_defaultOrder": 38,
    "_isFastLaunch": false,
    "category": "Accelerated computing",
    "gpuNum": 8,
    "hideHardwareSpecs": false,
    "memoryGiB": 768,
    "name": "ml.p3dn.24xlarge",
    "vcpuNum": 96
   },
   {
    "_defaultOrder": 39,
    "_isFastLaunch": false,
    "category": "Memory Optimized",
    "gpuNum": 0,
    "hideHardwareSpecs": false,
    "memoryGiB": 16,
    "name": "ml.r5.large",
    "vcpuNum": 2
   },
   {
    "_defaultOrder": 40,
    "_isFastLaunch": false,
    "category": "Memory Optimized",
    "gpuNum": 0,
    "hideHardwareSpecs": false,
    "memoryGiB": 32,
    "name": "ml.r5.xlarge",
    "vcpuNum": 4
   },
   {
    "_defaultOrder": 41,
    "_isFastLaunch": false,
    "category": "Memory Optimized",
    "gpuNum": 0,
    "hideHardwareSpecs": false,
    "memoryGiB": 64,
    "name": "ml.r5.2xlarge",
    "vcpuNum": 8
   },
   {
    "_defaultOrder": 42,
    "_isFastLaunch": false,
    "category": "Memory Optimized",
    "gpuNum": 0,
    "hideHardwareSpecs": false,
    "memoryGiB": 128,
    "name": "ml.r5.4xlarge",
    "vcpuNum": 16
   },
   {
    "_defaultOrder": 43,
    "_isFastLaunch": false,
    "category": "Memory Optimized",
    "gpuNum": 0,
    "hideHardwareSpecs": false,
    "memoryGiB": 256,
    "name": "ml.r5.8xlarge",
    "vcpuNum": 32
   },
   {
    "_defaultOrder": 44,
    "_isFastLaunch": false,
    "category": "Memory Optimized",
    "gpuNum": 0,
    "hideHardwareSpecs": false,
    "memoryGiB": 384,
    "name": "ml.r5.12xlarge",
    "vcpuNum": 48
   },
   {
    "_defaultOrder": 45,
    "_isFastLaunch": false,
    "category": "Memory Optimized",
    "gpuNum": 0,
    "hideHardwareSpecs": false,
    "memoryGiB": 512,
    "name": "ml.r5.16xlarge",
    "vcpuNum": 64
   },
   {
    "_defaultOrder": 46,
    "_isFastLaunch": false,
    "category": "Memory Optimized",
    "gpuNum": 0,
    "hideHardwareSpecs": false,
    "memoryGiB": 768,
    "name": "ml.r5.24xlarge",
    "vcpuNum": 96
   },
   {
    "_defaultOrder": 47,
    "_isFastLaunch": false,
    "category": "Accelerated computing",
    "gpuNum": 1,
    "hideHardwareSpecs": false,
    "memoryGiB": 16,
    "name": "ml.g5.xlarge",
    "vcpuNum": 4
   },
   {
    "_defaultOrder": 48,
    "_isFastLaunch": false,
    "category": "Accelerated computing",
    "gpuNum": 1,
    "hideHardwareSpecs": false,
    "memoryGiB": 32,
    "name": "ml.g5.2xlarge",
    "vcpuNum": 8
   },
   {
    "_defaultOrder": 49,
    "_isFastLaunch": false,
    "category": "Accelerated computing",
    "gpuNum": 1,
    "hideHardwareSpecs": false,
    "memoryGiB": 64,
    "name": "ml.g5.4xlarge",
    "vcpuNum": 16
   },
   {
    "_defaultOrder": 50,
    "_isFastLaunch": false,
    "category": "Accelerated computing",
    "gpuNum": 1,
    "hideHardwareSpecs": false,
    "memoryGiB": 128,
    "name": "ml.g5.8xlarge",
    "vcpuNum": 32
   },
   {
    "_defaultOrder": 51,
    "_isFastLaunch": false,
    "category": "Accelerated computing",
    "gpuNum": 1,
    "hideHardwareSpecs": false,
    "memoryGiB": 256,
    "name": "ml.g5.16xlarge",
    "vcpuNum": 64
   },
   {
    "_defaultOrder": 52,
    "_isFastLaunch": false,
    "category": "Accelerated computing",
    "gpuNum": 4,
    "hideHardwareSpecs": false,
    "memoryGiB": 192,
    "name": "ml.g5.12xlarge",
    "vcpuNum": 48
   },
   {
    "_defaultOrder": 53,
    "_isFastLaunch": false,
    "category": "Accelerated computing",
    "gpuNum": 4,
    "hideHardwareSpecs": false,
    "memoryGiB": 384,
    "name": "ml.g5.24xlarge",
    "vcpuNum": 96
   },
   {
    "_defaultOrder": 54,
    "_isFastLaunch": false,
    "category": "Accelerated computing",
    "gpuNum": 8,
    "hideHardwareSpecs": false,
    "memoryGiB": 768,
    "name": "ml.g5.48xlarge",
    "vcpuNum": 192
   },
   {
    "_defaultOrder": 55,
    "_isFastLaunch": false,
    "category": "Accelerated computing",
    "gpuNum": 8,
    "hideHardwareSpecs": false,
    "memoryGiB": 1152,
    "name": "ml.p4d.24xlarge",
    "vcpuNum": 96
   },
   {
    "_defaultOrder": 56,
    "_isFastLaunch": false,
    "category": "Accelerated computing",
    "gpuNum": 8,
    "hideHardwareSpecs": false,
    "memoryGiB": 1152,
    "name": "ml.p4de.24xlarge",
    "vcpuNum": 96
   }
  ],
  "instance_type": "ml.m5.large",
  "kernelspec": {
   "display_name": "Python 3 (SageMaker Distribution v0 CPU)",
   "language": "python",
   "name": "python3__SAGEMAKER_INTERNAL__arn:aws:sagemaker:eu-west-1:819792524951:image/sagemaker-distribution-cpu-v0"
  },
  "language_info": {
   "codemirror_mode": {
    "name": "ipython",
    "version": 3
   },
   "file_extension": ".py",
   "mimetype": "text/x-python",
   "name": "python",
   "nbconvert_exporter": "python",
   "pygments_lexer": "ipython3",
   "version": "3.8.18"
  }
 },
 "nbformat": 4,
 "nbformat_minor": 4
}
