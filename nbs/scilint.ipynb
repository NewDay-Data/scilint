{
 "cells": [
  {
   "cell_type": "raw",
   "metadata": {},
   "source": [
    "---\n",
    "description: nbqa autoflake my_notebook.ipynb -i --remove-unused-variables\n",
    "output-file: scilint.html\n",
    "title: Data Science Notebook Linting\n",
    "\n",
    "---\n",
    "\n"
   ]
  },
  {
   "cell_type": "code",
   "execution_count": null,
   "metadata": {},
   "outputs": [],
   "source": [
    "# | include: false\n",
    "# | default_exp scilint"
   ]
  },
  {
   "cell_type": "code",
   "execution_count": null,
   "metadata": {},
   "outputs": [],
   "source": [
    "# | export\n",
    "\n",
    "import ast\n",
    "import os\n",
    "import re\n",
    "from collections import Counter\n",
    "from pathlib import Path\n",
    "\n",
    "import nbformat\n",
    "import numpy as np\n",
    "import pandas as pd\n",
    "from execnb.nbio import read_nb\n",
    "from fastcore.script import call_parse\n",
    "from nbdev.clean import nbdev_clean\n",
    "from nbdev.doclinks import nbdev_export, nbglob\n",
    "from nbdev.test import nbdev_test\n",
    "from nbqa.__main__ import _get_configs, _main\n",
    "from nbqa.cmdline import CLIArgs\n",
    "from nbqa.find_root import find_project_root"
   ]
  },
  {
   "cell_type": "code",
   "execution_count": null,
   "metadata": {},
   "outputs": [],
   "source": [
    "%load_ext autoreload\n",
    "%autoreload 2"
   ]
  },
  {
   "cell_type": "markdown",
   "metadata": {},
   "source": [
    "# Read-in Data"
   ]
  },
  {
   "cell_type": "code",
   "execution_count": null,
   "metadata": {},
   "outputs": [],
   "source": [
    "nbdev_path = Path(Path(\".\").resolve(), \"example_nbs\", \"nbdev.ipynb\")\n",
    "nbdev_hq_path = Path(Path(\".\").resolve(), \"example_nbs\", \"nbdev_high_quality.ipynb\")\n",
    "non_nbdev_path = Path(Path(\".\").resolve(), \"example_nbs\", \"non_nbdev.ipynb\")\n",
    "non_nbdev_lq_path = Path(\n",
    "    Path(\".\").resolve(), \"example_nbs\", \"non_nbdev_low_quality.ipynb\"\n",
    ")\n",
    "\n",
    "nbdev_nb = read_nb(nbdev_path)\n",
    "nbdev_hq_nb = read_nb(nbdev_hq_path)\n",
    "non_nbdev_nb = read_nb(non_nbdev_path)\n",
    "non_nbdev_lq_nb = read_nb(non_nbdev_lq_path)"
   ]
  },
  {
   "cell_type": "markdown",
   "metadata": {},
   "source": [
    "# NB Code Style"
   ]
  },
  {
   "cell_type": "code",
   "execution_count": null,
   "metadata": {},
   "outputs": [],
   "source": [
    "# | export\n",
    "\n",
    "\n",
    "def run_nbqa_cmd(cmd):\n",
    "    print(f\"Running {cmd}\")\n",
    "    project_root: Path = find_project_root(tuple([str(Path(\".\").resolve())]))\n",
    "    args = CLIArgs.parse_args([cmd, str(project_root)])\n",
    "    configs = _get_configs(args, project_root)\n",
    "    output_code = _main(args, configs)\n",
    "    return output_code"
   ]
  },
  {
   "cell_type": "code",
   "execution_count": null,
   "metadata": {},
   "outputs": [],
   "source": [
    "project_root: Path = find_project_root(tuple([str(Path(\".\").resolve())]))\n",
    "assert os.path.basename(project_root) == \"scilint\""
   ]
  },
  {
   "cell_type": "code",
   "execution_count": null,
   "metadata": {},
   "outputs": [],
   "source": [
    "# | export\n",
    "\n",
    "\n",
    "@call_parse\n",
    "def scilint_tidy():\n",
    "    \"\"\"\n",
    "    Run notebook formatting and tidy utilities.\n",
    "    These tools should be configured to run automatically without intervention.\"\n",
    "    \"\"\"\n",
    "    tidy_tools = [\"black\", \"isort\", \"autoflake\"]\n",
    "    [run_nbqa_cmd(c) for c in tidy_tools]"
   ]
  },
  {
   "cell_type": "markdown",
   "metadata": {
    "tags": []
   },
   "source": [
    "# Quality relevant data extraction\n",
    "\n",
    "## Definitions\n",
    "* Function ($f$) = function in `# export` block\n",
    "* Test ($\\tau$) = call of exported function outside `# export` block\n",
    "\n",
    "## Metrics\n",
    "1. Tests per Function: $\\mathrm{TpF}$ = $\\dfrac{|\\tau|}{f}$,when $f=0; \\mathrm{TpF} = 0$\n",
    "2. In-function Percentage: $\\mathrm{IP} = $$\\mathrm{statementsInFunction}:$$\\mathrm{allStatements}$ \n",
    "3. MD to Code Ratio: $\\mathrm{CMR}$ = $ \\mathrm{markdownCells}:$$\\mathrm{codeCells}$ \n",
    "4. Total Code Lines: $\\mathrm{TCL}$ = $\\mathrm{allCodeLines}$ "
   ]
  },
  {
   "cell_type": "markdown",
   "metadata": {
    "tags": []
   },
   "source": [
    "## Helpers"
   ]
  },
  {
   "cell_type": "code",
   "execution_count": null,
   "metadata": {},
   "outputs": [],
   "source": [
    "# | export\n",
    "\n",
    "\n",
    "def get_function_defs(code, ignore_private_prefix=True):\n",
    "    func_names = []\n",
    "    for stmt in ast.walk(ast.parse(code)):\n",
    "        if isinstance(stmt, ast.FunctionDef):\n",
    "            inner_cond = (\n",
    "                False if ignore_private_prefix and stmt.name.startswith(\"_\") else True\n",
    "            )\n",
    "            if inner_cond:\n",
    "                func_names.append(stmt.name)\n",
    "    return func_names"
   ]
  },
  {
   "cell_type": "code",
   "execution_count": null,
   "metadata": {},
   "outputs": [],
   "source": [
    "# todo test me\n",
    "# get_function_defs"
   ]
  },
  {
   "cell_type": "code",
   "execution_count": null,
   "metadata": {},
   "outputs": [],
   "source": [
    "# | export\n",
    "\n",
    "\n",
    "def count_func_calls(code, func_defs):\n",
    "    func_calls = Counter({k: 0 for k in func_defs})\n",
    "    for stmt in ast.walk(ast.parse(code)):\n",
    "        if isinstance(stmt, ast.Call):\n",
    "            func_name = stmt.func.id if \"id\" in stmt.func.__dict__ else stmt.func.attr\n",
    "            if func_name in func_defs:\n",
    "                if func_name in func_calls:\n",
    "                    func_calls[func_name] += 1\n",
    "    return func_calls"
   ]
  },
  {
   "cell_type": "code",
   "execution_count": null,
   "metadata": {},
   "outputs": [],
   "source": [
    "test_code = \"\"\"self.hierarchical_topic_reduction(3); \n",
    "topic_reduction(3); \n",
    "lambda x: topic(x); \n",
    "hierarchical_topic_reduction[4]; \n",
    "hierarchical_topic_reduction(4); \n",
    "blabla()\n",
    "\"\"\"\n",
    "test_func_defs = [\n",
    "    \"topic\",\n",
    "    \"topic_reduction\",\n",
    "    \"blablabla\",\n",
    "    \"hierarchical_topic_reduction\",\n",
    "]"
   ]
  },
  {
   "cell_type": "code",
   "execution_count": null,
   "metadata": {},
   "outputs": [],
   "source": [
    "assert count_func_calls(test_code, test_func_defs) == Counter(\n",
    "    {\n",
    "        \"topic\": 1,\n",
    "        \"topic_reduction\": 1,\n",
    "        \"blablabla\": 0,\n",
    "        \"hierarchical_topic_reduction\": 2,\n",
    "    }\n",
    ")"
   ]
  },
  {
   "cell_type": "code",
   "execution_count": null,
   "metadata": {},
   "outputs": [],
   "source": [
    "nb_cell_code = r\"\"\"\n",
    "def something():\n",
    "    pass; pass # in x 2\n",
    "    \n",
    "%load_ext autoreload\n",
    "%autoreload 2\n",
    "\n",
    "!ls -l\n",
    "if 1!= 2:\n",
    "    print(4)\n",
    "#| export\n",
    "\n",
    "import pandas as pd # out\n",
    "from sciflow.utils import lib_path, odbc_connect, query # out\n",
    "\n",
    "#| export\n",
    "\n",
    "def nb_to_sagemaker_pipeline(\n",
    "    nb_path: Path,\n",
    "    silent: bool = True,\n",
    "):\n",
    "    nb = read_nb(nb_path)  # in\n",
    "    lib_name = get_config().get(\"lib_name\")  # in\n",
    "    module_name = find_default_export(nb[\"cells\"])  # in\n",
    "    \n",
    "x = [1,2,3] # out\n",
    "nb_to_sagemaker_pipeline() # out\n",
    "\"\"\""
   ]
  },
  {
   "cell_type": "code",
   "execution_count": null,
   "metadata": {},
   "outputs": [],
   "source": [
    "# | export\n",
    "\n",
    "\n",
    "def replace_ipython_magics(code):\n",
    "    # Replace Ipython magic and shell command symbol with comment\n",
    "    code = code.replace(\"%\", \"#\")\n",
    "    code = re.sub(r\"^!\", \"#\", code)\n",
    "    return re.sub(r\"\\n\\W?!\", \"\\n#\", code)"
   ]
  },
  {
   "cell_type": "code",
   "execution_count": null,
   "metadata": {},
   "outputs": [],
   "source": [
    "throws = False\n",
    "try:\n",
    "    assert ast.parse(nb_cell_code)\n",
    "except SyntaxError:\n",
    "    throws = True\n",
    "assert throws\n",
    "assert type(ast.parse(replace_ipython_magics(nb_cell_code))) == ast.Module"
   ]
  },
  {
   "cell_type": "code",
   "execution_count": null,
   "metadata": {},
   "outputs": [],
   "source": [
    "# | export\n",
    "\n",
    "\n",
    "def safe_div(numer, denom):\n",
    "    return 0 if denom == 0 else numer / denom"
   ]
  },
  {
   "cell_type": "code",
   "execution_count": null,
   "metadata": {},
   "outputs": [],
   "source": [
    "assert safe_div(1, 1) == 1\n",
    "assert safe_div(2, 1) == 2\n",
    "assert safe_div(1, 2) == 0.5\n",
    "assert safe_div(0, 1) == 0\n",
    "assert safe_div(1, 0) == 0\n",
    "assert safe_div(10, 1) == 10"
   ]
  },
  {
   "cell_type": "code",
   "execution_count": null,
   "metadata": {},
   "outputs": [],
   "source": [
    "# | export\n",
    "\n",
    "\n",
    "def get_cell_code(nb):\n",
    "    pnb = nbformat.from_dict(nb)\n",
    "    nb_cell_code = \"\\n\".join(\n",
    "        [\n",
    "            replace_ipython_magics(c[\"source\"])\n",
    "            for c in pnb.cells\n",
    "            if c[\"cell_type\"] == \"code\"\n",
    "        ]\n",
    "    )\n",
    "    return nb_cell_code"
   ]
  },
  {
   "cell_type": "markdown",
   "metadata": {
    "tags": []
   },
   "source": [
    "## 1. Calls-per-Function"
   ]
  },
  {
   "cell_type": "code",
   "execution_count": null,
   "metadata": {},
   "outputs": [],
   "source": [
    "# | export\n",
    "\n",
    "\n",
    "def calls_per_func(nb):\n",
    "    nb_cell_code = get_cell_code(nb)\n",
    "    func_defs = get_function_defs(nb_cell_code)\n",
    "    func_calls = count_func_calls(nb_cell_code, func_defs)\n",
    "    return func_calls"
   ]
  },
  {
   "cell_type": "code",
   "execution_count": null,
   "metadata": {},
   "outputs": [],
   "source": [
    "# | export\n",
    "\n",
    "\n",
    "def mean_cpf(nb):\n",
    "    return pd.Series(calls_per_func(nb)).mean()"
   ]
  },
  {
   "cell_type": "code",
   "execution_count": null,
   "metadata": {},
   "outputs": [],
   "source": [
    "# | export\n",
    "\n",
    "\n",
    "def median_cpf(nb):\n",
    "    return pd.Series(calls_per_func(nb)).median()"
   ]
  },
  {
   "cell_type": "code",
   "execution_count": null,
   "metadata": {},
   "outputs": [],
   "source": [
    "assert mean_cpf(nbdev_nb).round(2) == 2.23\n",
    "assert median_cpf(nbdev_nb) == 1"
   ]
  },
  {
   "cell_type": "code",
   "execution_count": null,
   "metadata": {},
   "outputs": [],
   "source": [
    "assert mean_cpf(read_nb(nbdev_path)).round(2) == 2.23\n",
    "assert mean_cpf(read_nb(nbdev_hq_path)).round(2) == 2.5\n",
    "assert mean_cpf(read_nb(non_nbdev_path)).round(2) == 1.0\n",
    "assert mean_cpf(read_nb(non_nbdev_lq_path)).round(2) == 1.62"
   ]
  },
  {
   "cell_type": "code",
   "execution_count": null,
   "metadata": {},
   "outputs": [],
   "source": [
    "assert median_cpf(read_nb(nbdev_path)) == 1.0\n",
    "assert median_cpf(read_nb(nbdev_hq_path)).round(2) == 1.5\n",
    "assert median_cpf(read_nb(non_nbdev_path)).round(2) == 1.0\n",
    "assert median_cpf(read_nb(non_nbdev_lq_path)).round(2) == 1.0"
   ]
  },
  {
   "cell_type": "markdown",
   "metadata": {
    "tags": []
   },
   "source": [
    "## 2. Asserts-to-Function Ratio"
   ]
  },
  {
   "cell_type": "code",
   "execution_count": null,
   "metadata": {},
   "outputs": [],
   "source": [
    "asserted_code = r\"\"\"\n",
    "def something():\n",
    "    pass; pass # in x 2\n",
    "    \n",
    "assert True\n",
    "\n",
    "#| export\n",
    "\n",
    "def nb_to_sagemaker_pipeline(\n",
    "    nb_path: Path,\n",
    "    silent: bool = True,\n",
    "):\n",
    "    nb = read_nb(nb_path)  # in\n",
    "    lib_name = get_config().get(\"lib_name\")  # in\n",
    "    module_name = find_default_export(nb[\"cells\"])  # in\n",
    "    \n",
    "x = [1,2,3] # out\n",
    "assert len(x) > 2\n",
    "assert something() is None # something +1\n",
    "\n",
    "def tr():\n",
    "    return True\n",
    "    \n",
    "def get_seg(num):\n",
    "    return 2\n",
    "    \n",
    "assert(tr)\n",
    "assert(tr()) # tr +1\n",
    "assert(tr() == 4) # tr +1\n",
    "assert(4 ==tr()) # tr +1\n",
    "assert 0 != 0\n",
    "assert \"' '\".join(tr(1)) == \"00\" # tr +1\n",
    "assert len(get_seg(50)) == 50 # get_seg +1\n",
    "assert max([int(x) for x in get_seg(100)]) == 99 # get_seg +1\n",
    "\"\"\""
   ]
  },
  {
   "cell_type": "code",
   "execution_count": null,
   "metadata": {},
   "outputs": [],
   "source": [
    "import nbformat as nbf\n",
    "\n",
    "asserted_nb = nbf.v4.new_notebook()\n",
    "asserted_nb[\"cells\"] = [nbf.v4.new_code_cell(asserted_code)]"
   ]
  },
  {
   "cell_type": "code",
   "execution_count": null,
   "metadata": {},
   "outputs": [],
   "source": [
    "# | export\n",
    "\n",
    "\n",
    "def afr(nb):\n",
    "    nb_cell_code = get_cell_code(nb)\n",
    "    func_defs = get_function_defs(nb_cell_code)\n",
    "    num_funcs = len(func_defs)\n",
    "\n",
    "    assert_count = 0\n",
    "    for stmt in ast.walk(ast.parse(nb_cell_code)):\n",
    "        if isinstance(stmt, ast.Assert):\n",
    "            assert_count += 1\n",
    "\n",
    "    return safe_div(assert_count, num_funcs)"
   ]
  },
  {
   "cell_type": "code",
   "execution_count": null,
   "metadata": {},
   "outputs": [
    {
     "data": {
      "text/plain": [
       "1.3076923076923077"
      ]
     },
     "execution_count": null,
     "metadata": {},
     "output_type": "execute_result"
    }
   ],
   "source": [
    "afr(nbdev_nb)"
   ]
  },
  {
   "cell_type": "code",
   "execution_count": null,
   "metadata": {},
   "outputs": [
    {
     "data": {
      "text/plain": [
       "1.6666666666666667"
      ]
     },
     "execution_count": null,
     "metadata": {},
     "output_type": "execute_result"
    }
   ],
   "source": [
    "afr(nbdev_hq_nb)"
   ]
  },
  {
   "cell_type": "code",
   "execution_count": null,
   "metadata": {},
   "outputs": [
    {
     "data": {
      "text/plain": [
       "0.0"
      ]
     },
     "execution_count": null,
     "metadata": {},
     "output_type": "execute_result"
    }
   ],
   "source": [
    "afr(non_nbdev_nb)"
   ]
  },
  {
   "cell_type": "code",
   "execution_count": null,
   "metadata": {},
   "outputs": [
    {
     "data": {
      "text/plain": [
       "0.0"
      ]
     },
     "execution_count": null,
     "metadata": {},
     "output_type": "execute_result"
    }
   ],
   "source": [
    "afr(non_nbdev_lq_nb)"
   ]
  },
  {
   "cell_type": "markdown",
   "metadata": {
    "tags": []
   },
   "source": [
    "## 3. In-line Asserts Per Function"
   ]
  },
  {
   "cell_type": "code",
   "execution_count": null,
   "metadata": {},
   "outputs": [],
   "source": [
    "# | export\n",
    "\n",
    "\n",
    "def count_inline_asserts(code, func_defs):\n",
    "    inline_func_asserts = Counter({k: 0 for k in func_defs})\n",
    "\n",
    "    for stmt in ast.walk(ast.parse(code)):\n",
    "        if isinstance(stmt, ast.Assert):\n",
    "            for assert_st in ast.walk(stmt):\n",
    "                if isinstance(assert_st, ast.Call):\n",
    "                    func_name = (\n",
    "                        assert_st.func.id\n",
    "                        if \"id\" in assert_st.func.__dict__\n",
    "                        else assert_st.func.attr\n",
    "                    )\n",
    "                    if func_name in inline_func_asserts:\n",
    "                        inline_func_asserts[func_name] += 1\n",
    "    return inline_func_asserts"
   ]
  },
  {
   "cell_type": "code",
   "execution_count": null,
   "metadata": {},
   "outputs": [],
   "source": [
    "# | export\n",
    "\n",
    "\n",
    "def iaf(nb):\n",
    "    nb_cell_code = get_cell_code(nb)\n",
    "    func_defs = get_function_defs(nb_cell_code)\n",
    "    return count_inline_asserts(nb_cell_code, func_defs)"
   ]
  },
  {
   "cell_type": "code",
   "execution_count": null,
   "metadata": {},
   "outputs": [],
   "source": [
    "func_defs = get_function_defs(asserted_code)\n",
    "inline_asserts_expected = Counter(\n",
    "    {\"something\": 1, \"tr\": 4, \"get_seg\": 2, \"nb_to_sagemaker_pipeline\": 0}\n",
    ")\n",
    "inline_asserts_actual = count_inline_asserts(asserted_code, func_defs)"
   ]
  },
  {
   "cell_type": "code",
   "execution_count": null,
   "metadata": {},
   "outputs": [],
   "source": [
    "assert inline_asserts_actual == inline_asserts_expected"
   ]
  },
  {
   "cell_type": "code",
   "execution_count": null,
   "metadata": {},
   "outputs": [],
   "source": [
    "assert 0.0 == pd.Series(iaf(nbdev_nb)).median()\n",
    "assert 0.0 == pd.Series(iaf(nbdev_hq_nb)).median()\n",
    "assert 0.0 == pd.Series(iaf(non_nbdev_nb)).median()\n",
    "assert 0.0 == pd.Series(iaf(non_nbdev_lq_nb)).median()"
   ]
  },
  {
   "cell_type": "code",
   "execution_count": null,
   "metadata": {},
   "outputs": [
    {
     "data": {
      "text/plain": [
       "Counter({'scalar': 0, 'py_advanced': 0, 'pandas': 0})"
      ]
     },
     "execution_count": null,
     "metadata": {},
     "output_type": "execute_result"
    }
   ],
   "source": [
    "iaf(non_nbdev_nb)"
   ]
  },
  {
   "cell_type": "code",
   "execution_count": null,
   "metadata": {},
   "outputs": [
    {
     "data": {
      "text/plain": [
       "Counter({'get_traffic_text': 0,\n",
       "         'get_experiment_segment': 0,\n",
       "         'evaluate': 0,\n",
       "         'serve_num_topics': 0,\n",
       "         'get_num_topics': 0,\n",
       "         'get_topic_sizes': 0,\n",
       "         'get_topics': 0,\n",
       "         'plot_wordcloud': 0})"
      ]
     },
     "execution_count": null,
     "metadata": {},
     "output_type": "execute_result"
    }
   ],
   "source": [
    "iaf(non_nbdev_lq_nb)"
   ]
  },
  {
   "cell_type": "code",
   "execution_count": null,
   "metadata": {},
   "outputs": [],
   "source": [
    "assert inline_asserts_expected == iaf(asserted_nb)"
   ]
  },
  {
   "cell_type": "code",
   "execution_count": null,
   "metadata": {},
   "outputs": [],
   "source": [
    "# | export\n",
    "\n",
    "\n",
    "def mean_iaf(nb):\n",
    "    return pd.Series(iaf(nb)).mean()"
   ]
  },
  {
   "cell_type": "code",
   "execution_count": null,
   "metadata": {},
   "outputs": [],
   "source": [
    "# | export\n",
    "\n",
    "\n",
    "def median_iaf(nb):\n",
    "    return pd.Series(iaf(nb)).median()"
   ]
  },
  {
   "cell_type": "markdown",
   "metadata": {},
   "source": [
    "## Full Code Coverage?"
   ]
  },
  {
   "cell_type": "markdown",
   "metadata": {},
   "source": [
    "How does pytest-cov do it?"
   ]
  },
  {
   "cell_type": "markdown",
   "metadata": {
    "tags": []
   },
   "source": [
    "## 2. In-function Percentage"
   ]
  },
  {
   "cell_type": "code",
   "execution_count": null,
   "metadata": {},
   "outputs": [],
   "source": [
    "# | export\n",
    "\n",
    "\n",
    "def calc_ifp(nb_cell_code):\n",
    "    stmts_in_func = 0\n",
    "    stmts_outside_func = 0\n",
    "    for stmt in ast.walk(ast.parse(replace_ipython_magics(nb_cell_code))):\n",
    "        if isinstance(stmt, ast.FunctionDef) and not stmt.name.startswith(\"_\"):\n",
    "            for body_item in stmt.body:\n",
    "                stmts_in_func += 1\n",
    "        elif isinstance(stmt, ast.Module):\n",
    "            for body_item in stmt.body:\n",
    "                if not isinstance(body_item, ast.FunctionDef):\n",
    "                    stmts_outside_func += 1\n",
    "    return (\n",
    "        0\n",
    "        if stmts_outside_func + stmts_in_func == 0\n",
    "        else (stmts_in_func / (stmts_outside_func + stmts_in_func)) * 100\n",
    "    )"
   ]
  },
  {
   "cell_type": "code",
   "execution_count": null,
   "metadata": {},
   "outputs": [],
   "source": [
    "assert (calc_ifp(nb_cell_code)) == (5 / (5 + 5)) * 100"
   ]
  },
  {
   "cell_type": "code",
   "execution_count": null,
   "metadata": {},
   "outputs": [],
   "source": [
    "# | export\n",
    "\n",
    "\n",
    "def ifp(nb):\n",
    "    nb_cell_code = \"\\n\".join(\n",
    "        [\n",
    "            replace_ipython_magics(c[\"source\"])\n",
    "            for c in nb.cells\n",
    "            if c[\"cell_type\"] == \"code\"\n",
    "        ]\n",
    "    )\n",
    "    return calc_ifp(nb_cell_code)"
   ]
  },
  {
   "cell_type": "code",
   "execution_count": null,
   "metadata": {},
   "outputs": [],
   "source": [
    "assert ifp(nbdev_nb) >= 0\n",
    "assert ifp(nbdev_hq_nb) >= 0\n",
    "assert ifp(non_nbdev_nb) >= 0\n",
    "assert ifp(non_nbdev_lq_nb) >= 0"
   ]
  },
  {
   "cell_type": "markdown",
   "metadata": {
    "tags": []
   },
   "source": [
    "## 3. Markdown to Code Percent"
   ]
  },
  {
   "cell_type": "code",
   "execution_count": null,
   "metadata": {},
   "outputs": [],
   "source": [
    "# | export\n",
    "\n",
    "\n",
    "def mcp(nb):\n",
    "    md_cells = [c for c in nb.cells if c[\"cell_type\"] == \"markdown\"]\n",
    "    code_cells = [c for c in nb.cells if c[\"cell_type\"] == \"code\"]\n",
    "    num_code_cells = len(code_cells)\n",
    "    num_md_cells = len(md_cells)\n",
    "    return (\n",
    "        0\n",
    "        if num_code_cells == 0\n",
    "        else (num_md_cells / (num_md_cells + num_code_cells)) * 100\n",
    "    )"
   ]
  },
  {
   "cell_type": "code",
   "execution_count": null,
   "metadata": {},
   "outputs": [],
   "source": [
    "assert mcp(nbdev_nb) >= 0\n",
    "assert mcp(nbdev_hq_nb) >= 0\n",
    "assert mcp(non_nbdev_nb) >= 0\n",
    "assert mcp(non_nbdev_lq_nb) >= 0"
   ]
  },
  {
   "cell_type": "markdown",
   "metadata": {
    "tags": []
   },
   "source": [
    "## 4. Total Code Length"
   ]
  },
  {
   "cell_type": "code",
   "execution_count": null,
   "metadata": {},
   "outputs": [],
   "source": [
    "# | export\n",
    "\n",
    "\n",
    "def tcl(nb):\n",
    "    return sum([len(c[\"source\"]) for c in nb.cells if c[\"cell_type\"] == \"code\"])"
   ]
  },
  {
   "cell_type": "code",
   "execution_count": null,
   "metadata": {},
   "outputs": [],
   "source": [
    "assert tcl(nbdev_nb) >= 50\n",
    "assert tcl(nbdev_hq_nb) >= 50\n",
    "assert tcl(non_nbdev_nb) >= 50\n",
    "assert tcl(non_nbdev_lq_nb) >= 50"
   ]
  },
  {
   "cell_type": "code",
   "execution_count": null,
   "metadata": {},
   "outputs": [],
   "source": [
    "# | export\n",
    "\n",
    "\n",
    "def lint_nb(\n",
    "    nb_path,\n",
    "    tpf_warn_thresh=None,\n",
    "    ifp_warn_thresh=None,\n",
    "    afr_warn_thresh=1,\n",
    "    iaf_med_warn_thresh=0,\n",
    "    iaf_mean_warn_thresh=0.5,\n",
    "    mcp_warn_thresh=None,\n",
    "    tcl_warn_thresh=None,\n",
    "    rounding_precision=3,\n",
    "):\n",
    "    nb = read_nb(nb_path)\n",
    "    (np.nan, np.nan, np.nan, np.nan)\n",
    "    nb_cpf_median = round(median_cpf(nb), rounding_precision)\n",
    "    nb_cpf_mean = round(mean_cpf(nb), rounding_precision)\n",
    "    nb_ifp = round(ifp(nb), rounding_precision)\n",
    "    nb_afr = round(afr(nb), rounding_precision)\n",
    "    nb_iaf_median = round(median_iaf(nb), rounding_precision)\n",
    "    nb_iaf_mean = round(mean_iaf(nb), rounding_precision)\n",
    "    nb_mcp = round(mcp(nb), rounding_precision)\n",
    "    nb_tcl = round(tcl(nb), rounding_precision)\n",
    "    # print(f\"NB: {nb_path.name} CallsPerFunction (Median): {nb_cpf_median} CallsPerFunction (Mean): {nb_cpf_mean} \\\n",
    "    # In-FunctionPercent: {nb_ifp} AssertsPerFunction: {nb_cpf_median} InlineAssertsPerFunction (Median): {nb_iaf_median} \\\n",
    "    # InlineAssertsPerFunction (Mean): {nb_iaf_mean} MarkdownToCodeRatio: {nb_mcp} TotalCodeLen: {nb_tcl}\")\n",
    "    return (\n",
    "        nb_cpf_median,\n",
    "        nb_cpf_mean,\n",
    "        nb_ifp,\n",
    "        nb_afr,\n",
    "        nb_iaf_median,\n",
    "        nb_iaf_mean,\n",
    "        nb_mcp,\n",
    "        nb_tcl,\n",
    "    )"
   ]
  },
  {
   "cell_type": "code",
   "execution_count": null,
   "metadata": {},
   "outputs": [],
   "source": [
    "# | export\n",
    "\n",
    "\n",
    "def format_quality_warning(metric, warning_data, warn_thresh, direction):\n",
    "    for warning_row in warning_data.reset_index().itertuples():\n",
    "        print(f'\"{warning_row.index}\" has: {metric} {direction} {warn_thresh}')"
   ]
  },
  {
   "cell_type": "code",
   "execution_count": null,
   "metadata": {
    "tags": []
   },
   "outputs": [],
   "source": [
    "# | export\n",
    "\n",
    "\n",
    "def lint_nbs(\n",
    "    cpf_med_warn_thresh=1,\n",
    "    cpf_mean_warn_thresh=1,\n",
    "    ifp_warn_thresh=20,\n",
    "    afr_warn_thresh=1,\n",
    "    iaf_med_warn_thresh=0,\n",
    "    iaf_mean_warn_thresh=0.5,\n",
    "    mcp_warn_thresh=5,\n",
    "    tcl_warn_thresh=20000,\n",
    "    rounding_precision=3,\n",
    "    csv_out_path=\"/tmp/lint.csv\",\n",
    "):\n",
    "    nb_paths = [Path(p) for p in nbglob()]\n",
    "    lt_metric_cols = [\n",
    "        \"calls_per_function_median\",\n",
    "        \"calls_per_function_mean\",\n",
    "        \"in_function_pct\",\n",
    "        \"asserts_function_ratio\",\n",
    "        \"inline_asserts_per_function_median\",\n",
    "        \"inline_asserts_per_function_mean\",\n",
    "        \"markdown_code_pct\",\n",
    "    ]\n",
    "    gt_metric_cols = [\"total_code_len\"]\n",
    "    lt_metrics_thresholds = [\n",
    "        cpf_med_warn_thresh,\n",
    "        cpf_mean_warn_thresh,\n",
    "        ifp_warn_thresh,\n",
    "        afr_warn_thresh,\n",
    "        iaf_med_warn_thresh,\n",
    "        iaf_mean_warn_thresh,\n",
    "        mcp_warn_thresh,\n",
    "    ]\n",
    "    gt_metrics_thresholds = [tcl_warn_thresh]\n",
    "    results = []\n",
    "    nb_names = []\n",
    "    for nb_path in nb_paths:\n",
    "        nb_names.append(nb_path.stem)\n",
    "        results.append(lint_nb(nb_path))\n",
    "    lint_report = pd.DataFrame.from_records(\n",
    "        data=results, index=nb_names, columns=lt_metric_cols + gt_metric_cols\n",
    "    ).sort_values([\"calls_per_function_median\", \"markdown_code_pct\"], ascending=False)\n",
    "\n",
    "    # TODO persist to remote storage\n",
    "    # needs to be tied to a flow execution rather than a build\n",
    "    # what is the best way to do this?\n",
    "\n",
    "    print(\"\\n*********************Begin Scilint Report*********************\")\n",
    "    issues_raised = False\n",
    "    for lt_metric_col, lt_metrics_threshold in zip(\n",
    "        lt_metric_cols, lt_metrics_thresholds\n",
    "    ):\n",
    "        metrics_series = lint_report[lt_metric_col]\n",
    "        warning_data = metrics_series[metrics_series < lt_metrics_threshold]\n",
    "        if len(warning_data) > 0:\n",
    "            issues_raised = True\n",
    "        format_quality_warning(\n",
    "            lt_metric_col,\n",
    "            warning_data,\n",
    "            lt_metrics_threshold,\n",
    "            direction=\"<\",\n",
    "        )\n",
    "    for gt_metric_col, gt_metrics_threshold in zip(\n",
    "        gt_metric_cols, gt_metrics_thresholds\n",
    "    ):\n",
    "        metrics_series = lint_report[gt_metric_col]\n",
    "        warning_data = metrics_series[metrics_series > gt_metrics_threshold]\n",
    "        if len(warning_data) > 0:\n",
    "            issues_raised = True\n",
    "        format_quality_warning(\n",
    "            gt_metric_col,\n",
    "            warning_data,\n",
    "            gt_metrics_threshold,\n",
    "            direction=\">\",\n",
    "        )\n",
    "    if not issues_raised:\n",
    "        print(\"No issues found\")\n",
    "    print(\"*********************End Scilint Report***********************\")\n",
    "\n",
    "    lint_report.to_csv(csv_out_path)\n",
    "\n",
    "    return lint_report"
   ]
  },
  {
   "cell_type": "code",
   "execution_count": null,
   "metadata": {
    "tags": []
   },
   "outputs": [
    {
     "name": "stdout",
     "output_type": "stream",
     "text": [
      "\n",
      "*********************Begin Scilint Report*********************\n",
      "\"index\" has: in_function_pct < 20\n",
      "\"non_nbdev_low_quality\" has: asserts_function_ratio < 1\n",
      "\"non_nbdev\" has: asserts_function_ratio < 1\n",
      "\"index\" has: asserts_function_ratio < 1\n",
      "\"non_nbdev_low_quality\" has: inline_asserts_per_function_mean < 0.5\n",
      "\"non_nbdev\" has: inline_asserts_per_function_mean < 0.5\n",
      "\"non_nbdev\" has: markdown_code_pct < 5\n",
      "*********************End Scilint Report***********************\n"
     ]
    }
   ],
   "source": [
    "lint_report = lint_nbs()"
   ]
  },
  {
   "cell_type": "code",
   "execution_count": null,
   "metadata": {
    "tags": []
   },
   "outputs": [
    {
     "data": {
      "text/html": [
       "<div>\n",
       "<style scoped>\n",
       "    .dataframe tbody tr th:only-of-type {\n",
       "        vertical-align: middle;\n",
       "    }\n",
       "\n",
       "    .dataframe tbody tr th {\n",
       "        vertical-align: top;\n",
       "    }\n",
       "\n",
       "    .dataframe thead th {\n",
       "        text-align: right;\n",
       "    }\n",
       "</style>\n",
       "<table border=\"1\" class=\"dataframe\">\n",
       "  <thead>\n",
       "    <tr style=\"text-align: right;\">\n",
       "      <th></th>\n",
       "      <th>calls_per_function_median</th>\n",
       "      <th>calls_per_function_mean</th>\n",
       "      <th>in_function_pct</th>\n",
       "      <th>asserts_function_ratio</th>\n",
       "      <th>inline_asserts_per_function_median</th>\n",
       "      <th>inline_asserts_per_function_mean</th>\n",
       "      <th>markdown_code_pct</th>\n",
       "      <th>total_code_len</th>\n",
       "    </tr>\n",
       "  </thead>\n",
       "  <tbody>\n",
       "    <tr>\n",
       "      <th>scilint</th>\n",
       "      <td>2.5</td>\n",
       "      <td>3.250</td>\n",
       "      <td>52.023</td>\n",
       "      <td>1.667</td>\n",
       "      <td>0.0</td>\n",
       "      <td>1.500</td>\n",
       "      <td>17.647</td>\n",
       "      <td>14275</td>\n",
       "    </tr>\n",
       "    <tr>\n",
       "      <th>nbdev_high_quality</th>\n",
       "      <td>1.5</td>\n",
       "      <td>2.500</td>\n",
       "      <td>44.118</td>\n",
       "      <td>1.667</td>\n",
       "      <td>0.0</td>\n",
       "      <td>1.000</td>\n",
       "      <td>30.769</td>\n",
       "      <td>4978</td>\n",
       "    </tr>\n",
       "    <tr>\n",
       "      <th>nbdev</th>\n",
       "      <td>1.0</td>\n",
       "      <td>2.231</td>\n",
       "      <td>50.725</td>\n",
       "      <td>1.308</td>\n",
       "      <td>0.0</td>\n",
       "      <td>0.846</td>\n",
       "      <td>30.769</td>\n",
       "      <td>4918</td>\n",
       "    </tr>\n",
       "    <tr>\n",
       "      <th>non_nbdev_low_quality</th>\n",
       "      <td>1.0</td>\n",
       "      <td>1.625</td>\n",
       "      <td>45.000</td>\n",
       "      <td>0.000</td>\n",
       "      <td>0.0</td>\n",
       "      <td>0.000</td>\n",
       "      <td>11.111</td>\n",
       "      <td>2955</td>\n",
       "    </tr>\n",
       "    <tr>\n",
       "      <th>non_nbdev</th>\n",
       "      <td>1.0</td>\n",
       "      <td>1.000</td>\n",
       "      <td>35.714</td>\n",
       "      <td>0.000</td>\n",
       "      <td>0.0</td>\n",
       "      <td>0.000</td>\n",
       "      <td>0.000</td>\n",
       "      <td>1233</td>\n",
       "    </tr>\n",
       "    <tr>\n",
       "      <th>index</th>\n",
       "      <td>NaN</td>\n",
       "      <td>NaN</td>\n",
       "      <td>0.000</td>\n",
       "      <td>0.000</td>\n",
       "      <td>NaN</td>\n",
       "      <td>NaN</td>\n",
       "      <td>77.778</td>\n",
       "      <td>8</td>\n",
       "    </tr>\n",
       "  </tbody>\n",
       "</table>\n",
       "</div>"
      ],
      "text/plain": [
       "                       calls_per_function_median  calls_per_function_mean   \n",
       "scilint                                      2.5                    3.250  \\\n",
       "nbdev_high_quality                           1.5                    2.500   \n",
       "nbdev                                        1.0                    2.231   \n",
       "non_nbdev_low_quality                        1.0                    1.625   \n",
       "non_nbdev                                    1.0                    1.000   \n",
       "index                                        NaN                      NaN   \n",
       "\n",
       "                       in_function_pct  asserts_function_ratio   \n",
       "scilint                         52.023                   1.667  \\\n",
       "nbdev_high_quality              44.118                   1.667   \n",
       "nbdev                           50.725                   1.308   \n",
       "non_nbdev_low_quality           45.000                   0.000   \n",
       "non_nbdev                       35.714                   0.000   \n",
       "index                            0.000                   0.000   \n",
       "\n",
       "                       inline_asserts_per_function_median   \n",
       "scilint                                               0.0  \\\n",
       "nbdev_high_quality                                    0.0   \n",
       "nbdev                                                 0.0   \n",
       "non_nbdev_low_quality                                 0.0   \n",
       "non_nbdev                                             0.0   \n",
       "index                                                 NaN   \n",
       "\n",
       "                       inline_asserts_per_function_mean  markdown_code_pct   \n",
       "scilint                                           1.500             17.647  \\\n",
       "nbdev_high_quality                                1.000             30.769   \n",
       "nbdev                                             0.846             30.769   \n",
       "non_nbdev_low_quality                             0.000             11.111   \n",
       "non_nbdev                                         0.000              0.000   \n",
       "index                                               NaN             77.778   \n",
       "\n",
       "                       total_code_len  \n",
       "scilint                         14275  \n",
       "nbdev_high_quality               4978  \n",
       "nbdev                            4918  \n",
       "non_nbdev_low_quality            2955  \n",
       "non_nbdev                        1233  \n",
       "index                               8  "
      ]
     },
     "execution_count": null,
     "metadata": {},
     "output_type": "execute_result"
    }
   ],
   "source": [
    "lint_report"
   ]
  },
  {
   "cell_type": "code",
   "execution_count": null,
   "metadata": {},
   "outputs": [],
   "source": [
    "# | export\n",
    "\n",
    "\n",
    "@call_parse\n",
    "def scilint_lint():\n",
    "    lint_nbs()"
   ]
  },
  {
   "cell_type": "code",
   "execution_count": null,
   "metadata": {},
   "outputs": [],
   "source": [
    "# | export\n",
    "\n",
    "\n",
    "@call_parse\n",
    "def scilint_build():\n",
    "    nbdev_export()\n",
    "    nbdev_test()\n",
    "    scilint_tidy()\n",
    "    scilint_lint()\n",
    "    nbdev_clean()"
   ]
  },
  {
   "cell_type": "code",
   "execution_count": null,
   "metadata": {},
   "outputs": [],
   "source": []
  }
 ],
 "metadata": {
  "availableInstances": [
   {
    "_defaultOrder": 0,
    "_isFastLaunch": true,
    "category": "General purpose",
    "gpuNum": 0,
    "hideHardwareSpecs": false,
    "memoryGiB": 4,
    "name": "ml.t3.medium",
    "vcpuNum": 2
   },
   {
    "_defaultOrder": 1,
    "_isFastLaunch": false,
    "category": "General purpose",
    "gpuNum": 0,
    "hideHardwareSpecs": false,
    "memoryGiB": 8,
    "name": "ml.t3.large",
    "vcpuNum": 2
   },
   {
    "_defaultOrder": 2,
    "_isFastLaunch": false,
    "category": "General purpose",
    "gpuNum": 0,
    "hideHardwareSpecs": false,
    "memoryGiB": 16,
    "name": "ml.t3.xlarge",
    "vcpuNum": 4
   },
   {
    "_defaultOrder": 3,
    "_isFastLaunch": false,
    "category": "General purpose",
    "gpuNum": 0,
    "hideHardwareSpecs": false,
    "memoryGiB": 32,
    "name": "ml.t3.2xlarge",
    "vcpuNum": 8
   },
   {
    "_defaultOrder": 4,
    "_isFastLaunch": true,
    "category": "General purpose",
    "gpuNum": 0,
    "hideHardwareSpecs": false,
    "memoryGiB": 8,
    "name": "ml.m5.large",
    "vcpuNum": 2
   },
   {
    "_defaultOrder": 5,
    "_isFastLaunch": false,
    "category": "General purpose",
    "gpuNum": 0,
    "hideHardwareSpecs": false,
    "memoryGiB": 16,
    "name": "ml.m5.xlarge",
    "vcpuNum": 4
   },
   {
    "_defaultOrder": 6,
    "_isFastLaunch": false,
    "category": "General purpose",
    "gpuNum": 0,
    "hideHardwareSpecs": false,
    "memoryGiB": 32,
    "name": "ml.m5.2xlarge",
    "vcpuNum": 8
   },
   {
    "_defaultOrder": 7,
    "_isFastLaunch": false,
    "category": "General purpose",
    "gpuNum": 0,
    "hideHardwareSpecs": false,
    "memoryGiB": 64,
    "name": "ml.m5.4xlarge",
    "vcpuNum": 16
   },
   {
    "_defaultOrder": 8,
    "_isFastLaunch": false,
    "category": "General purpose",
    "gpuNum": 0,
    "hideHardwareSpecs": false,
    "memoryGiB": 128,
    "name": "ml.m5.8xlarge",
    "vcpuNum": 32
   },
   {
    "_defaultOrder": 9,
    "_isFastLaunch": false,
    "category": "General purpose",
    "gpuNum": 0,
    "hideHardwareSpecs": false,
    "memoryGiB": 192,
    "name": "ml.m5.12xlarge",
    "vcpuNum": 48
   },
   {
    "_defaultOrder": 10,
    "_isFastLaunch": false,
    "category": "General purpose",
    "gpuNum": 0,
    "hideHardwareSpecs": false,
    "memoryGiB": 256,
    "name": "ml.m5.16xlarge",
    "vcpuNum": 64
   },
   {
    "_defaultOrder": 11,
    "_isFastLaunch": false,
    "category": "General purpose",
    "gpuNum": 0,
    "hideHardwareSpecs": false,
    "memoryGiB": 384,
    "name": "ml.m5.24xlarge",
    "vcpuNum": 96
   },
   {
    "_defaultOrder": 12,
    "_isFastLaunch": false,
    "category": "General purpose",
    "gpuNum": 0,
    "hideHardwareSpecs": false,
    "memoryGiB": 8,
    "name": "ml.m5d.large",
    "vcpuNum": 2
   },
   {
    "_defaultOrder": 13,
    "_isFastLaunch": false,
    "category": "General purpose",
    "gpuNum": 0,
    "hideHardwareSpecs": false,
    "memoryGiB": 16,
    "name": "ml.m5d.xlarge",
    "vcpuNum": 4
   },
   {
    "_defaultOrder": 14,
    "_isFastLaunch": false,
    "category": "General purpose",
    "gpuNum": 0,
    "hideHardwareSpecs": false,
    "memoryGiB": 32,
    "name": "ml.m5d.2xlarge",
    "vcpuNum": 8
   },
   {
    "_defaultOrder": 15,
    "_isFastLaunch": false,
    "category": "General purpose",
    "gpuNum": 0,
    "hideHardwareSpecs": false,
    "memoryGiB": 64,
    "name": "ml.m5d.4xlarge",
    "vcpuNum": 16
   },
   {
    "_defaultOrder": 16,
    "_isFastLaunch": false,
    "category": "General purpose",
    "gpuNum": 0,
    "hideHardwareSpecs": false,
    "memoryGiB": 128,
    "name": "ml.m5d.8xlarge",
    "vcpuNum": 32
   },
   {
    "_defaultOrder": 17,
    "_isFastLaunch": false,
    "category": "General purpose",
    "gpuNum": 0,
    "hideHardwareSpecs": false,
    "memoryGiB": 192,
    "name": "ml.m5d.12xlarge",
    "vcpuNum": 48
   },
   {
    "_defaultOrder": 18,
    "_isFastLaunch": false,
    "category": "General purpose",
    "gpuNum": 0,
    "hideHardwareSpecs": false,
    "memoryGiB": 256,
    "name": "ml.m5d.16xlarge",
    "vcpuNum": 64
   },
   {
    "_defaultOrder": 19,
    "_isFastLaunch": false,
    "category": "General purpose",
    "gpuNum": 0,
    "hideHardwareSpecs": false,
    "memoryGiB": 384,
    "name": "ml.m5d.24xlarge",
    "vcpuNum": 96
   },
   {
    "_defaultOrder": 20,
    "_isFastLaunch": false,
    "category": "General purpose",
    "gpuNum": 0,
    "hideHardwareSpecs": true,
    "memoryGiB": 0,
    "name": "ml.geospatial.interactive",
    "supportedImageNames": [
     "sagemaker-geospatial-v1-0"
    ],
    "vcpuNum": 0
   },
   {
    "_defaultOrder": 21,
    "_isFastLaunch": true,
    "category": "Compute optimized",
    "gpuNum": 0,
    "hideHardwareSpecs": false,
    "memoryGiB": 4,
    "name": "ml.c5.large",
    "vcpuNum": 2
   },
   {
    "_defaultOrder": 22,
    "_isFastLaunch": false,
    "category": "Compute optimized",
    "gpuNum": 0,
    "hideHardwareSpecs": false,
    "memoryGiB": 8,
    "name": "ml.c5.xlarge",
    "vcpuNum": 4
   },
   {
    "_defaultOrder": 23,
    "_isFastLaunch": false,
    "category": "Compute optimized",
    "gpuNum": 0,
    "hideHardwareSpecs": false,
    "memoryGiB": 16,
    "name": "ml.c5.2xlarge",
    "vcpuNum": 8
   },
   {
    "_defaultOrder": 24,
    "_isFastLaunch": false,
    "category": "Compute optimized",
    "gpuNum": 0,
    "hideHardwareSpecs": false,
    "memoryGiB": 32,
    "name": "ml.c5.4xlarge",
    "vcpuNum": 16
   },
   {
    "_defaultOrder": 25,
    "_isFastLaunch": false,
    "category": "Compute optimized",
    "gpuNum": 0,
    "hideHardwareSpecs": false,
    "memoryGiB": 72,
    "name": "ml.c5.9xlarge",
    "vcpuNum": 36
   },
   {
    "_defaultOrder": 26,
    "_isFastLaunch": false,
    "category": "Compute optimized",
    "gpuNum": 0,
    "hideHardwareSpecs": false,
    "memoryGiB": 96,
    "name": "ml.c5.12xlarge",
    "vcpuNum": 48
   },
   {
    "_defaultOrder": 27,
    "_isFastLaunch": false,
    "category": "Compute optimized",
    "gpuNum": 0,
    "hideHardwareSpecs": false,
    "memoryGiB": 144,
    "name": "ml.c5.18xlarge",
    "vcpuNum": 72
   },
   {
    "_defaultOrder": 28,
    "_isFastLaunch": false,
    "category": "Compute optimized",
    "gpuNum": 0,
    "hideHardwareSpecs": false,
    "memoryGiB": 192,
    "name": "ml.c5.24xlarge",
    "vcpuNum": 96
   },
   {
    "_defaultOrder": 29,
    "_isFastLaunch": true,
    "category": "Accelerated computing",
    "gpuNum": 1,
    "hideHardwareSpecs": false,
    "memoryGiB": 16,
    "name": "ml.g4dn.xlarge",
    "vcpuNum": 4
   },
   {
    "_defaultOrder": 30,
    "_isFastLaunch": false,
    "category": "Accelerated computing",
    "gpuNum": 1,
    "hideHardwareSpecs": false,
    "memoryGiB": 32,
    "name": "ml.g4dn.2xlarge",
    "vcpuNum": 8
   },
   {
    "_defaultOrder": 31,
    "_isFastLaunch": false,
    "category": "Accelerated computing",
    "gpuNum": 1,
    "hideHardwareSpecs": false,
    "memoryGiB": 64,
    "name": "ml.g4dn.4xlarge",
    "vcpuNum": 16
   },
   {
    "_defaultOrder": 32,
    "_isFastLaunch": false,
    "category": "Accelerated computing",
    "gpuNum": 1,
    "hideHardwareSpecs": false,
    "memoryGiB": 128,
    "name": "ml.g4dn.8xlarge",
    "vcpuNum": 32
   },
   {
    "_defaultOrder": 33,
    "_isFastLaunch": false,
    "category": "Accelerated computing",
    "gpuNum": 4,
    "hideHardwareSpecs": false,
    "memoryGiB": 192,
    "name": "ml.g4dn.12xlarge",
    "vcpuNum": 48
   },
   {
    "_defaultOrder": 34,
    "_isFastLaunch": false,
    "category": "Accelerated computing",
    "gpuNum": 1,
    "hideHardwareSpecs": false,
    "memoryGiB": 256,
    "name": "ml.g4dn.16xlarge",
    "vcpuNum": 64
   },
   {
    "_defaultOrder": 35,
    "_isFastLaunch": false,
    "category": "Accelerated computing",
    "gpuNum": 1,
    "hideHardwareSpecs": false,
    "memoryGiB": 61,
    "name": "ml.p3.2xlarge",
    "vcpuNum": 8
   },
   {
    "_defaultOrder": 36,
    "_isFastLaunch": false,
    "category": "Accelerated computing",
    "gpuNum": 4,
    "hideHardwareSpecs": false,
    "memoryGiB": 244,
    "name": "ml.p3.8xlarge",
    "vcpuNum": 32
   },
   {
    "_defaultOrder": 37,
    "_isFastLaunch": false,
    "category": "Accelerated computing",
    "gpuNum": 8,
    "hideHardwareSpecs": false,
    "memoryGiB": 488,
    "name": "ml.p3.16xlarge",
    "vcpuNum": 64
   },
   {
    "_defaultOrder": 38,
    "_isFastLaunch": false,
    "category": "Accelerated computing",
    "gpuNum": 8,
    "hideHardwareSpecs": false,
    "memoryGiB": 768,
    "name": "ml.p3dn.24xlarge",
    "vcpuNum": 96
   },
   {
    "_defaultOrder": 39,
    "_isFastLaunch": false,
    "category": "Memory Optimized",
    "gpuNum": 0,
    "hideHardwareSpecs": false,
    "memoryGiB": 16,
    "name": "ml.r5.large",
    "vcpuNum": 2
   },
   {
    "_defaultOrder": 40,
    "_isFastLaunch": false,
    "category": "Memory Optimized",
    "gpuNum": 0,
    "hideHardwareSpecs": false,
    "memoryGiB": 32,
    "name": "ml.r5.xlarge",
    "vcpuNum": 4
   },
   {
    "_defaultOrder": 41,
    "_isFastLaunch": false,
    "category": "Memory Optimized",
    "gpuNum": 0,
    "hideHardwareSpecs": false,
    "memoryGiB": 64,
    "name": "ml.r5.2xlarge",
    "vcpuNum": 8
   },
   {
    "_defaultOrder": 42,
    "_isFastLaunch": false,
    "category": "Memory Optimized",
    "gpuNum": 0,
    "hideHardwareSpecs": false,
    "memoryGiB": 128,
    "name": "ml.r5.4xlarge",
    "vcpuNum": 16
   },
   {
    "_defaultOrder": 43,
    "_isFastLaunch": false,
    "category": "Memory Optimized",
    "gpuNum": 0,
    "hideHardwareSpecs": false,
    "memoryGiB": 256,
    "name": "ml.r5.8xlarge",
    "vcpuNum": 32
   },
   {
    "_defaultOrder": 44,
    "_isFastLaunch": false,
    "category": "Memory Optimized",
    "gpuNum": 0,
    "hideHardwareSpecs": false,
    "memoryGiB": 384,
    "name": "ml.r5.12xlarge",
    "vcpuNum": 48
   },
   {
    "_defaultOrder": 45,
    "_isFastLaunch": false,
    "category": "Memory Optimized",
    "gpuNum": 0,
    "hideHardwareSpecs": false,
    "memoryGiB": 512,
    "name": "ml.r5.16xlarge",
    "vcpuNum": 64
   },
   {
    "_defaultOrder": 46,
    "_isFastLaunch": false,
    "category": "Memory Optimized",
    "gpuNum": 0,
    "hideHardwareSpecs": false,
    "memoryGiB": 768,
    "name": "ml.r5.24xlarge",
    "vcpuNum": 96
   },
   {
    "_defaultOrder": 47,
    "_isFastLaunch": false,
    "category": "Accelerated computing",
    "gpuNum": 1,
    "hideHardwareSpecs": false,
    "memoryGiB": 16,
    "name": "ml.g5.xlarge",
    "vcpuNum": 4
   },
   {
    "_defaultOrder": 48,
    "_isFastLaunch": false,
    "category": "Accelerated computing",
    "gpuNum": 1,
    "hideHardwareSpecs": false,
    "memoryGiB": 32,
    "name": "ml.g5.2xlarge",
    "vcpuNum": 8
   },
   {
    "_defaultOrder": 49,
    "_isFastLaunch": false,
    "category": "Accelerated computing",
    "gpuNum": 1,
    "hideHardwareSpecs": false,
    "memoryGiB": 64,
    "name": "ml.g5.4xlarge",
    "vcpuNum": 16
   },
   {
    "_defaultOrder": 50,
    "_isFastLaunch": false,
    "category": "Accelerated computing",
    "gpuNum": 1,
    "hideHardwareSpecs": false,
    "memoryGiB": 128,
    "name": "ml.g5.8xlarge",
    "vcpuNum": 32
   },
   {
    "_defaultOrder": 51,
    "_isFastLaunch": false,
    "category": "Accelerated computing",
    "gpuNum": 1,
    "hideHardwareSpecs": false,
    "memoryGiB": 256,
    "name": "ml.g5.16xlarge",
    "vcpuNum": 64
   },
   {
    "_defaultOrder": 52,
    "_isFastLaunch": false,
    "category": "Accelerated computing",
    "gpuNum": 4,
    "hideHardwareSpecs": false,
    "memoryGiB": 192,
    "name": "ml.g5.12xlarge",
    "vcpuNum": 48
   },
   {
    "_defaultOrder": 53,
    "_isFastLaunch": false,
    "category": "Accelerated computing",
    "gpuNum": 4,
    "hideHardwareSpecs": false,
    "memoryGiB": 384,
    "name": "ml.g5.24xlarge",
    "vcpuNum": 96
   },
   {
    "_defaultOrder": 54,
    "_isFastLaunch": false,
    "category": "Accelerated computing",
    "gpuNum": 8,
    "hideHardwareSpecs": false,
    "memoryGiB": 768,
    "name": "ml.g5.48xlarge",
    "vcpuNum": 192
   },
   {
    "_defaultOrder": 55,
    "_isFastLaunch": false,
    "category": "Accelerated computing",
    "gpuNum": 8,
    "hideHardwareSpecs": false,
    "memoryGiB": 1152,
    "name": "ml.p4d.24xlarge",
    "vcpuNum": 96
   },
   {
    "_defaultOrder": 56,
    "_isFastLaunch": false,
    "category": "Accelerated computing",
    "gpuNum": 8,
    "hideHardwareSpecs": false,
    "memoryGiB": 1152,
    "name": "ml.p4de.24xlarge",
    "vcpuNum": 96
   }
  ],
  "instance_type": "ml.m5.xlarge",
  "kernelspec": {
   "display_name": "sciflow (sciflow/3)",
   "language": "python",
   "name": "python3__SAGEMAKER_INTERNAL__arn:aws:sagemaker:eu-west-1:368653567616:image-version/sciflow/3"
  },
  "language_info": {
   "codemirror_mode": {
    "name": "ipython",
    "version": 3
   },
   "file_extension": ".py",
   "mimetype": "text/x-python",
   "name": "python",
   "nbconvert_exporter": "python",
   "pygments_lexer": "ipython3",
   "version": "3.9.0"
  }
 },
 "nbformat": 4,
 "nbformat_minor": 4
}
