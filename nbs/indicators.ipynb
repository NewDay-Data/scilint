{
 "cells": [
  {
   "cell_type": "raw",
   "metadata": {},
   "source": [
    "---\n",
    "description: quality indicator functions for use linting\n",
    "output-file: indicators.html\n",
    "title: Potential Quality Indicators\n",
    "\n",
    "---\n",
    "\n"
   ]
  },
  {
   "cell_type": "code",
   "execution_count": 2,
   "metadata": {
    "tags": []
   },
   "outputs": [],
   "source": [
    "# | include: false\n",
    "# | default_exp indicators"
   ]
  },
  {
   "cell_type": "code",
   "execution_count": 3,
   "metadata": {
    "tags": []
   },
   "outputs": [],
   "source": [
    "# | export\n",
    "\n",
    "import ast\n",
    "import json\n",
    "import operator\n",
    "import os\n",
    "import re\n",
    "import shutil\n",
    "import sys\n",
    "import warnings\n",
    "from collections import Counter\n",
    "from configparser import InterpolationMissingOptionError\n",
    "from pathlib import Path\n",
    "from typing import Any, Callable, Dict, Iterable, Tuple\n",
    "\n",
    "import nbformat\n",
    "import numpy as np\n",
    "import pandas as pd\n",
    "import yaml\n",
    "from execnb.nbio import read_nb\n",
    "from fastcore.script import Param, call_parse, store_false\n",
    "from fastcore.xtras import globtastic"
   ]
  },
  {
   "cell_type": "code",
   "execution_count": 4,
   "metadata": {
    "tags": []
   },
   "outputs": [],
   "source": [
    "%load_ext autoreload\n",
    "%autoreload 2"
   ]
  },
  {
   "cell_type": "markdown",
   "metadata": {},
   "source": [
    "# Test Data Prep"
   ]
  },
  {
   "cell_type": "code",
   "execution_count": 5,
   "metadata": {
    "tags": []
   },
   "outputs": [],
   "source": [
    "nbdev_path = Path(Path(\".\").resolve(), \"example_nbs\", \"nbdev.ipynb\")\n",
    "nbdev_hq_path = Path(Path(\".\").resolve(), \"example_nbs\", \"nbdev_high_quality.ipynb\")\n",
    "non_nbdev_path = Path(Path(\".\").resolve(), \"example_nbs\", \"non_nbdev.ipynb\")\n",
    "non_nbdev_lq_path = Path(\n",
    "    Path(\".\").resolve(), \"example_nbs\", \"non_nbdev_low_quality.ipynb\"\n",
    ")\n",
    "index_path = Path(Path(\".\").resolve(), \"index.ipynb\")\n",
    "syntax_error_path = Path(Path(\".\").resolve(), \"syntax_error.ipynb\")\n",
    "\n",
    "nbdev_nb = read_nb(nbdev_path)\n",
    "nbdev_hq_nb = read_nb(nbdev_hq_path)\n",
    "non_nbdev_nb = read_nb(non_nbdev_path)\n",
    "non_nbdev_lq_nb = read_nb(non_nbdev_lq_path)\n",
    "index = read_nb(index_path)\n",
    "syntax_error = read_nb(index_path)"
   ]
  },
  {
   "cell_type": "markdown",
   "metadata": {},
   "source": [
    "# Helpers"
   ]
  },
  {
   "cell_type": "code",
   "execution_count": 6,
   "metadata": {
    "tags": []
   },
   "outputs": [],
   "source": [
    "# | export\n",
    "\n",
    "\n",
    "def get_project_root(path: Path = Path(\".\").resolve()):\n",
    "    return find_project_root(tuple([str()]))"
   ]
  },
  {
   "cell_type": "code",
   "execution_count": 7,
   "metadata": {
    "tags": []
   },
   "outputs": [],
   "source": [
    "# | export\n",
    "\n",
    "\n",
    "def get_func_defs(code, ignore_private_prefix=True):\n",
    "    func_names = []\n",
    "    for stmt in ast.walk(ast.parse(code)):\n",
    "        if isinstance(stmt, ast.FunctionDef):\n",
    "            inner_cond = (\n",
    "                False if ignore_private_prefix and stmt.name.startswith(\"_\") else True\n",
    "            )\n",
    "            if inner_cond:\n",
    "                func_names.append(stmt.name)\n",
    "    return func_names"
   ]
  },
  {
   "cell_type": "code",
   "execution_count": 8,
   "metadata": {
    "tags": []
   },
   "outputs": [],
   "source": [
    "test_code = \"\"\"\n",
    "x()\n",
    "def y():\n",
    "    pass\n",
    "def z():\n",
    "    def a():\n",
    "        pass\n",
    "class A():\n",
    "    def b():\n",
    "        pass\n",
    "def blabla():\n",
    "    return 1\n",
    "def _hidden():\n",
    "    return None\n",
    "\"\"\"\n",
    "func_defs = [\"a\", \"b\", \"blabla\", \"y\", \"z\"]\n",
    "assert func_defs == sorted(get_func_defs(test_code))"
   ]
  },
  {
   "cell_type": "code",
   "execution_count": 9,
   "metadata": {
    "tags": []
   },
   "outputs": [],
   "source": [
    "# | export\n",
    "\n",
    "\n",
    "def count_func_calls(code, func_defs):\n",
    "    func_calls = Counter({k: 0 for k in func_defs})\n",
    "    for stmt in ast.walk(ast.parse(code)):\n",
    "        if isinstance(stmt, ast.Call):\n",
    "            if type(stmt.func) == ast.Subscript:\n",
    "                func_name = stmt.func.value.id\n",
    "            else:\n",
    "                func_name = (\n",
    "                    stmt.func.id if \"id\" in stmt.func.__dict__ else stmt.func.attr\n",
    "                )\n",
    "            if func_name in func_defs:\n",
    "                if func_name in func_calls:\n",
    "                    func_calls[func_name] += 1\n",
    "    return func_calls"
   ]
  },
  {
   "cell_type": "code",
   "execution_count": 10,
   "metadata": {
    "tags": []
   },
   "outputs": [],
   "source": [
    "test_code = \"\"\"self.hierarchical_topic_reduction(3); \n",
    "topic_reduction(3); \n",
    "lambda x: topic(x); \n",
    "hierarchical_topic_reduction[4]; \n",
    "hierarchical_topic_reduction(4); \n",
    "blabla()\n",
    "lambda y: other(5)\n",
    "funcs = [x, y]\n",
    "funcs[0](3)\n",
    "\"\"\"\n",
    "test_func_defs = [\n",
    "    \"topic\",\n",
    "    \"topic_reduction\",\n",
    "    \"blablabla\",\n",
    "    \"hierarchical_topic_reduction\",\n",
    "]"
   ]
  },
  {
   "cell_type": "code",
   "execution_count": 11,
   "metadata": {
    "tags": []
   },
   "outputs": [],
   "source": [
    "assert count_func_calls(test_code, test_func_defs) == Counter(\n",
    "    {\n",
    "        \"topic\": 1,\n",
    "        \"topic_reduction\": 1,\n",
    "        \"blablabla\": 0,\n",
    "        \"hierarchical_topic_reduction\": 2,\n",
    "    }\n",
    ")"
   ]
  },
  {
   "cell_type": "code",
   "execution_count": 12,
   "metadata": {
    "tags": []
   },
   "outputs": [],
   "source": [
    "nb_cell_code = r\"\"\"\n",
    "def something():\n",
    "    pass; pass # in x 2\n",
    "    \n",
    "%load_ext autoreload\n",
    "%autoreload 2\n",
    "\n",
    "!ls -l\n",
    "if 1!= 2:\n",
    "    print(4)\n",
    "#| export\n",
    "\n",
    "import pandas as pd # out\n",
    "from sciflow.utils import lib_path, odbc_connect, query # out\n",
    "\n",
    "#| export\n",
    "\n",
    "def nb_to_sagemaker_pipeline(\n",
    "    nb_path: Path,\n",
    "    silent: bool = True,\n",
    "):\n",
    "    nb = read_nb(nb_path)  # in\n",
    "    lib_name = get_config().get(\"lib_name\")  # in\n",
    "    module_name = find_default_export(nb[\"cells\"])  # in\n",
    "    \n",
    "x = [1,2,3] # out\n",
    "nb_to_sagemaker_pipeline() # out\n",
    "\"\"\""
   ]
  },
  {
   "cell_type": "code",
   "execution_count": 13,
   "metadata": {
    "tags": []
   },
   "outputs": [],
   "source": [
    "# | export\n",
    "\n",
    "\n",
    "def replace_ipython_magics(code):\n",
    "    # Replace Ipython magic and shell command symbol with comment\n",
    "    code = code.replace(\"%\", \"#\")\n",
    "    code = re.sub(r\"^!\", \"#\", code)\n",
    "    return re.sub(r\"\\n\\W?!\", \"\\n#\", code)"
   ]
  },
  {
   "cell_type": "code",
   "execution_count": 14,
   "metadata": {
    "tags": []
   },
   "outputs": [],
   "source": [
    "throws = False\n",
    "try:\n",
    "    assert ast.parse(nb_cell_code)\n",
    "except SyntaxError:\n",
    "    throws = True\n",
    "assert throws\n",
    "assert type(ast.parse(replace_ipython_magics(nb_cell_code))) == ast.Module"
   ]
  },
  {
   "cell_type": "code",
   "execution_count": 15,
   "metadata": {
    "tags": []
   },
   "outputs": [],
   "source": [
    "# | export\n",
    "\n",
    "\n",
    "def safe_div(numer, denom):\n",
    "    return 0 if denom == 0 else numer / denom"
   ]
  },
  {
   "cell_type": "code",
   "execution_count": 16,
   "metadata": {
    "tags": []
   },
   "outputs": [],
   "source": [
    "assert safe_div(1, 1) == 1\n",
    "assert safe_div(2, 1) == 2\n",
    "assert safe_div(1, 2) == 0.5\n",
    "assert safe_div(0, 1) == 0\n",
    "assert safe_div(1, 0) == 0\n",
    "assert safe_div(10, 1) == 10"
   ]
  },
  {
   "cell_type": "code",
   "execution_count": 17,
   "metadata": {
    "tags": []
   },
   "outputs": [],
   "source": [
    "# | export\n",
    "\n",
    "\n",
    "def get_cell_code(nb):\n",
    "    pnb = nbformat.from_dict(nb)\n",
    "    nb_cell_code = \"\\n\".join(\n",
    "        [\n",
    "            replace_ipython_magics(c[\"source\"])\n",
    "            for c in pnb.cells\n",
    "            if c[\"cell_type\"] == \"code\"\n",
    "        ]\n",
    "    )\n",
    "    return nb_cell_code"
   ]
  },
  {
   "cell_type": "markdown",
   "metadata": {
    "tags": []
   },
   "source": [
    "# Potential Quality Indicators"
   ]
  },
  {
   "cell_type": "markdown",
   "metadata": {
    "tags": []
   },
   "source": [
    "## 1. Calls-per-Function"
   ]
  },
  {
   "cell_type": "code",
   "execution_count": 367,
   "metadata": {
    "tags": []
   },
   "outputs": [],
   "source": [
    "# | export\n",
    "\n",
    "\n",
    "def calls_per_func(nb):\n",
    "    nb_cell_code = get_cell_code(nb)\n",
    "    func_defs = get_func_defs(nb_cell_code)\n",
    "    func_calls = count_func_calls(nb_cell_code, func_defs)\n",
    "    return func_calls"
   ]
  },
  {
   "cell_type": "code",
   "execution_count": 368,
   "metadata": {
    "tags": []
   },
   "outputs": [],
   "source": [
    "# | export\n",
    "\n",
    "\n",
    "def calls_per_func_mean(nb):\n",
    "    return pd.Series(calls_per_func(nb)).mean()"
   ]
  },
  {
   "cell_type": "code",
   "execution_count": 369,
   "metadata": {
    "tags": []
   },
   "outputs": [],
   "source": [
    "# | export\n",
    "\n",
    "\n",
    "def calls_per_func_median(nb):\n",
    "    with warnings.catch_warnings():\n",
    "        warnings.filterwarnings(action=\"ignore\", message=\"Mean of empty slice\")\n",
    "        return pd.Series(calls_per_func(nb)).median()"
   ]
  },
  {
   "cell_type": "code",
   "execution_count": 370,
   "metadata": {
    "tags": []
   },
   "outputs": [],
   "source": [
    "assert calls_per_func_mean(nbdev_nb).round(2) == 2.23\n",
    "assert calls_per_func_median(nbdev_nb) == 1"
   ]
  },
  {
   "cell_type": "code",
   "execution_count": 371,
   "metadata": {
    "tags": []
   },
   "outputs": [],
   "source": [
    "assert calls_per_func_mean(read_nb(nbdev_path)).round(2) == 2.23\n",
    "assert calls_per_func_mean(read_nb(nbdev_hq_path)).round(2) == 2.5\n",
    "assert calls_per_func_mean(read_nb(non_nbdev_path)).round(2) == 1.0\n",
    "assert calls_per_func_mean(read_nb(non_nbdev_lq_path)).round(2) == 1.62\n",
    "assert pd.isnull(calls_per_func_mean(index))"
   ]
  },
  {
   "cell_type": "code",
   "execution_count": 372,
   "metadata": {
    "tags": []
   },
   "outputs": [],
   "source": [
    "assert calls_per_func_median(read_nb(nbdev_path)) == 1.0\n",
    "assert calls_per_func_median(read_nb(nbdev_hq_path)).round(2) == 1.5\n",
    "assert calls_per_func_median(read_nb(non_nbdev_path)).round(2) == 1.0\n",
    "assert calls_per_func_median(read_nb(non_nbdev_lq_path)).round(2) == 1.0\n",
    "assert pd.isnull(calls_per_func_median(index))"
   ]
  },
  {
   "cell_type": "markdown",
   "metadata": {
    "tags": []
   },
   "source": [
    "## 2. Asserts-to-Function Ratio"
   ]
  },
  {
   "cell_type": "code",
   "execution_count": 373,
   "metadata": {
    "tags": []
   },
   "outputs": [],
   "source": [
    "asserted_code = r\"\"\"\n",
    "def something():\n",
    "    pass; pass # in x 2\n",
    "    \n",
    "assert True\n",
    "\n",
    "#| export\n",
    "\n",
    "def nb_to_sagemaker_pipeline(\n",
    "    nb_path: Path,\n",
    "    silent: bool = True,\n",
    "):\n",
    "     nb = read_nb(nb_path)  # in\n",
    "     lib_name = get_config().get(\"lib_name\")  # in\n",
    "     module_name = find_default_export(nb[\"cells\"])  # in\n",
    "    \n",
    "x = [1,2,3] # out\n",
    "assert len(x) > 2\n",
    "assert something() is None # something +1\n",
    "\n",
    "def tr():\n",
    "    return True\n",
    "    \n",
    "def get_seg(num):\n",
    "    return 2\n",
    "    \n",
    "assert(tr)\n",
    "assert(tr()) # tr +1\n",
    "assert(tr() == 4) # tr +1\n",
    "assert(4 ==tr()) # tr +1\n",
    "assert 0 != 0\n",
    "assert \"' '\".join(tr(1)) == \"00\" # tr +1\n",
    "assert len(get_seg(50)) == 50 # get_seg +1\n",
    "assert max([int(x) for x in get_seg(100)]) == 99 # get_seg +1\n",
    "\n",
    "def single_ret():\n",
    "    pass\n",
    "def multival_ret():\n",
    "    pass\n",
    "def multi_val_part2():\n",
    "    pass\n",
    "    \n",
    "def untested():\n",
    "    1+2\n",
    "\n",
    "x = single_ret()\n",
    "assert x  ==0\n",
    "5 ==5 \n",
    "x,y,z = multival_ret()\n",
    "a,b = multi_val_part2()\n",
    "assert x  ==0\n",
    "assert 1 == y\n",
    "assert x == y == z\n",
    "assert 2 == 2 and x == z\n",
    "assert a == x or b == z\n",
    "assert b\n",
    "assert a == single_ret()\n",
    "assert multi_val_part() == multi_val_part2()\n",
    "assert b == multival_ret()\n",
    "\"\"\""
   ]
  },
  {
   "cell_type": "code",
   "execution_count": 374,
   "metadata": {
    "tags": []
   },
   "outputs": [],
   "source": [
    "import nbformat as nbf"
   ]
  },
  {
   "cell_type": "code",
   "execution_count": 375,
   "metadata": {
    "tags": []
   },
   "outputs": [],
   "source": [
    "asserted_nb = nbf.v4.new_notebook()\n",
    "asserted_nb[\"cells\"] = [nbf.v4.new_code_cell(asserted_code)]"
   ]
  },
  {
   "cell_type": "code",
   "execution_count": 376,
   "metadata": {
    "tags": []
   },
   "outputs": [],
   "source": [
    "# | export\n",
    "\n",
    "\n",
    "def asserts_func_ratio(nb):\n",
    "    nb_cell_code = get_cell_code(nb)\n",
    "    if nb_cell_code == \"\":  # no code cells - metric is not well defined\n",
    "        return np.nan\n",
    "    func_defs = get_func_defs(nb_cell_code)\n",
    "    num_funcs = len(func_defs)\n",
    "\n",
    "    assert_count = 0\n",
    "    for stmt in ast.walk(ast.parse(nb_cell_code)):\n",
    "        if isinstance(stmt, ast.Assert):\n",
    "            assert_count += 1\n",
    "\n",
    "    return safe_div(assert_count, num_funcs)"
   ]
  },
  {
   "cell_type": "code",
   "execution_count": 377,
   "metadata": {
    "tags": []
   },
   "outputs": [],
   "source": [
    "assert asserts_func_ratio(nbdev_nb) > 1\n",
    "assert asserts_func_ratio(nbdev_hq_nb) > 1\n",
    "assert asserts_func_ratio(non_nbdev_nb) == 0\n",
    "assert asserts_func_ratio(non_nbdev_lq_nb) == 0\n",
    "assert pd.isnull(asserts_func_ratio(index))"
   ]
  },
  {
   "cell_type": "markdown",
   "metadata": {
    "tags": []
   },
   "source": [
    "## 3. Tests per Function"
   ]
  },
  {
   "cell_type": "code",
   "execution_count": 389,
   "metadata": {
    "tags": []
   },
   "outputs": [],
   "source": [
    "# | export\n",
    "\n",
    "\n",
    "def count_inline_asserts(code, func_defs):\n",
    "    inline_func_asserts = Counter({k: 0 for k in func_defs})\n",
    "\n",
    "    for stmt in ast.walk(ast.parse(code)):\n",
    "        if isinstance(stmt, ast.Assert):\n",
    "            for assert_st in ast.walk(stmt):\n",
    "                if isinstance(assert_st, ast.Call):\n",
    "                    func_name = (\n",
    "                        assert_st.func.id\n",
    "                        if \"id\" in assert_st.func.__dict__\n",
    "                        else assert_st.func.attr\n",
    "                    )\n",
    "                    if func_name in inline_func_asserts:\n",
    "                        inline_func_asserts[func_name] += 1\n",
    "    return inline_func_asserts"
   ]
  },
  {
   "cell_type": "code",
   "execution_count": 390,
   "metadata": {
    "tags": []
   },
   "outputs": [],
   "source": [
    "# | export\n",
    "\n",
    "\n",
    "def iaf(nb):\n",
    "    nb_cell_code = get_cell_code(nb)\n",
    "    if nb_cell_code == \"\":\n",
    "        return np.nan\n",
    "    func_defs = get_func_defs(nb_cell_code)\n",
    "    return count_inline_asserts(nb_cell_code, func_defs)"
   ]
  },
  {
   "cell_type": "code",
   "execution_count": 394,
   "metadata": {
    "tags": []
   },
   "outputs": [],
   "source": [
    "func_defs = get_func_defs(asserted_code)\n",
    "inline_asserts_expected = Counter(\n",
    "    {\"something\": 1, \"tr\": 4, \"get_seg\": 2, \"nb_to_sagemaker_pipeline\": 0,\n",
    "    \"single_ret\": 1, \"multival_ret\": 1, \"multi_val_part2\": 1,  \"untested\": 0}\n",
    ")\n",
    "inline_asserts_actual = count_inline_asserts(asserted_code, func_defs)"
   ]
  },
  {
   "cell_type": "code",
   "execution_count": 397,
   "metadata": {
    "tags": []
   },
   "outputs": [],
   "source": [
    "assert sorted(inline_asserts_actual) == sorted(inline_asserts_expected)"
   ]
  },
  {
   "cell_type": "code",
   "execution_count": 398,
   "metadata": {
    "tags": []
   },
   "outputs": [],
   "source": [
    "assert 0.0 == pd.Series(iaf(nbdev_nb)).median()\n",
    "assert 0.0 == pd.Series(iaf(nbdev_hq_nb)).median()\n",
    "assert 0.0 == pd.Series(iaf(non_nbdev_nb)).median()\n",
    "assert 0.0 == pd.Series(iaf(non_nbdev_lq_nb)).median()\n",
    "with warnings.catch_warnings():\n",
    "    warnings.filterwarnings(action=\"ignore\", message=\"Mean of empty slice\")\n",
    "    assert pd.isnull(pd.Series(iaf(index)).median())"
   ]
  },
  {
   "cell_type": "code",
   "execution_count": 399,
   "metadata": {
    "tags": []
   },
   "outputs": [
    {
     "data": {
      "text/plain": [
       "Counter({'scalar': 0, 'py_advanced': 0, 'pandas': 0})"
      ]
     },
     "execution_count": 399,
     "metadata": {},
     "output_type": "execute_result"
    }
   ],
   "source": [
    "iaf(non_nbdev_nb)"
   ]
  },
  {
   "cell_type": "code",
   "execution_count": 400,
   "metadata": {
    "tags": []
   },
   "outputs": [
    {
     "data": {
      "text/plain": [
       "Counter({'get_traffic_text': 0,\n",
       "         'get_experiment_segment': 0,\n",
       "         'evaluate': 0,\n",
       "         'serve_num_topics': 0,\n",
       "         'get_num_topics': 0,\n",
       "         'get_topic_sizes': 0,\n",
       "         'get_topics': 0,\n",
       "         'plot_wordcloud': 0})"
      ]
     },
     "execution_count": 400,
     "metadata": {},
     "output_type": "execute_result"
    }
   ],
   "source": [
    "iaf(non_nbdev_lq_nb)"
   ]
  },
  {
   "cell_type": "code",
   "execution_count": 401,
   "metadata": {
    "tags": []
   },
   "outputs": [],
   "source": [
    "assert inline_asserts_expected == iaf(asserted_nb)"
   ]
  },
  {
   "cell_type": "code",
   "execution_count": 402,
   "metadata": {
    "tags": []
   },
   "outputs": [],
   "source": [
    "# | export\n",
    "\n",
    "\n",
    "def count_func_ret_asserts(nb_cell_code):\n",
    "    ret_vals = {}\n",
    "    func_defs = get_func_defs(nb_cell_code)\n",
    "    func_ret_asserts = Counter({k: 0 for k in func_defs})\n",
    "    assert_func_counts = {}\n",
    "    for stmt in ast.walk(ast.parse(nb_cell_code)):            \n",
    "        if isinstance(stmt, ast.Assign) and isinstance(stmt.value, ast.Call):\n",
    "            _update_ret_vals(stmt, ret_vals)\n",
    "                    \n",
    "        if isinstance(stmt, ast.Assert):\n",
    "            assert_func_counts[id(stmt)] = []\n",
    "            if \"left\" in stmt.test.__dict__:\n",
    "                if \"id\" in stmt.test.left.__dict__:\n",
    "                    if stmt.test.left.id in ret_vals:\n",
    "                        if ret_vals[stmt.test.left.id] not in assert_func_counts[id(stmt)]:\n",
    "                            assert_func_counts[id(stmt)].append(ret_vals[stmt.test.left.id])\n",
    "                            func_ret_asserts[ret_vals[stmt.test.left.id]] +=1\n",
    "                for comp in stmt.test.comparators:\n",
    "                    if \"id\" in comp.__dict__:\n",
    "                        if ret_vals[comp.id] not in assert_func_counts[id(stmt)]:\n",
    "                            assert_func_counts[id(stmt)].append(ret_vals[comp.id])\n",
    "                            if comp.id in ret_vals:\n",
    "                                func_ret_asserts[ret_vals[comp.id]] +=1\n",
    "            elif isinstance(stmt.test, ast.Name):\n",
    "                if \"id\" in stmt.test.__dict__:\n",
    "                    if stmt.test.id in ret_vals:\n",
    "                        if ret_vals[stmt.test.id] not in assert_func_counts[id(stmt)]:\n",
    "                            assert_func_counts[id(stmt)].append(ret_vals[stmt.test.id])\n",
    "                            func_ret_asserts[ret_vals[stmt.test.id]] +=1\n",
    "            elif isinstance(stmt.test, ast.BoolOp):\n",
    "                for val in stmt.test.values:\n",
    "                    if \"left\" in val.__dict__:\n",
    "                        if \"id\" in val.left.__dict__:\n",
    "                            if ret_vals[val.left.id] not in assert_func_counts[id(stmt)]:\n",
    "                                assert_func_counts[id(stmt)].append(ret_vals[val.left.id])\n",
    "                                func_ret_asserts[ret_vals[val.left.id]] +=1\n",
    "                        for comp in val.comparators:\n",
    "                            if \"id\" in comp.__dict__:\n",
    "                                if ret_vals[comp.id] not in assert_func_counts[id(stmt)]:\n",
    "                                    assert_func_counts[id(stmt)].append(ret_vals[comp.id])\n",
    "                                    func_ret_asserts[ret_vals[comp.id]] +=1\n",
    "                \n",
    "    return func_ret_asserts"
   ]
  },
  {
   "cell_type": "code",
   "execution_count": 403,
   "metadata": {
    "tags": []
   },
   "outputs": [],
   "source": [
    "# | export\n",
    "\n",
    "\n",
    "def _update_ret_vals(stmt, ret_vals):\n",
    "    if type(stmt.value.func) == ast.Subscript:\n",
    "        func_name = stmt.func.value.id\n",
    "    else:\n",
    "        func_name = (\n",
    "            stmt.value.func.id if \"id\" in stmt.value.func.__dict__ else stmt.func.attr\n",
    "        ) \n",
    "    if isinstance(stmt.targets[0], ast.Name):\n",
    "        ret_vals[stmt.targets[0].id] = func_name\n",
    "    elif isinstance(stmt.targets[0], ast.Tuple): \n",
    "        ret_val_elems = []\n",
    "        for elts in stmt.targets[0].elts:\n",
    "            ret_vals[elts.id] = func_name"
   ]
  },
  {
   "cell_type": "code",
   "execution_count": 404,
   "metadata": {
    "tags": []
   },
   "outputs": [],
   "source": [
    "# | export\n",
    "\n",
    "\n",
    "def tests_per_function(nb):\n",
    "    nb_cell_code = \"\\n\".join(\n",
    "        [\n",
    "            replace_ipython_magics(c[\"source\"])\n",
    "            for c in nb.cells\n",
    "            if c[\"cell_type\"] == \"code\"\n",
    "        ]\n",
    "    )\n",
    "    return _tests_per_function_code(nb_cell_code)\n",
    "        \n",
    "def _tests_per_function_code(nb_cell_code):\n",
    "    func_ret_asserts = count_func_ret_asserts(nb_cell_code)\n",
    "    inline_asserts = count_inline_asserts(nb_cell_code, get_func_defs(nb_cell_code))\n",
    "\n",
    "    func_ret_asserts.update(inline_asserts)\n",
    "    return pd.Series(func_ret_asserts)"
   ]
  },
  {
   "cell_type": "code",
   "execution_count": 405,
   "metadata": {
    "tags": []
   },
   "outputs": [
    {
     "ename": "AttributeError",
     "evalue": "'Assign' object has no attribute 'func'",
     "output_type": "error",
     "traceback": [
      "\u001b[0;31m---------------------------------------------------------------------------\u001b[0m",
      "\u001b[0;31mAttributeError\u001b[0m                            Traceback (most recent call last)",
      "Cell \u001b[0;32mIn[405], line 1\u001b[0m\n\u001b[0;32m----> 1\u001b[0m \u001b[43m_tests_per_function_code\u001b[49m\u001b[43m(\u001b[49m\u001b[43masserted_code\u001b[49m\u001b[43m)\u001b[49m\n",
      "Cell \u001b[0;32mIn[404], line 15\u001b[0m, in \u001b[0;36m_tests_per_function_code\u001b[0;34m(nb_cell_code)\u001b[0m\n\u001b[1;32m     14\u001b[0m \u001b[38;5;28;01mdef\u001b[39;00m \u001b[38;5;21m_tests_per_function_code\u001b[39m(nb_cell_code):\n\u001b[0;32m---> 15\u001b[0m     func_ret_asserts \u001b[38;5;241m=\u001b[39m \u001b[43mcount_func_ret_asserts\u001b[49m\u001b[43m(\u001b[49m\u001b[43mnb_cell_code\u001b[49m\u001b[43m)\u001b[49m\n\u001b[1;32m     16\u001b[0m     inline_asserts \u001b[38;5;241m=\u001b[39m count_inline_asserts(nb_cell_code, get_func_defs(nb_cell_code))\n\u001b[1;32m     18\u001b[0m     func_ret_asserts\u001b[38;5;241m.\u001b[39mupdate(inline_asserts)\n",
      "Cell \u001b[0;32mIn[402], line 11\u001b[0m, in \u001b[0;36mcount_func_ret_asserts\u001b[0;34m(nb_cell_code)\u001b[0m\n\u001b[1;32m      9\u001b[0m \u001b[38;5;28;01mfor\u001b[39;00m stmt \u001b[38;5;129;01min\u001b[39;00m ast\u001b[38;5;241m.\u001b[39mwalk(ast\u001b[38;5;241m.\u001b[39mparse(nb_cell_code)):            \n\u001b[1;32m     10\u001b[0m     \u001b[38;5;28;01mif\u001b[39;00m \u001b[38;5;28misinstance\u001b[39m(stmt, ast\u001b[38;5;241m.\u001b[39mAssign) \u001b[38;5;129;01mand\u001b[39;00m \u001b[38;5;28misinstance\u001b[39m(stmt\u001b[38;5;241m.\u001b[39mvalue, ast\u001b[38;5;241m.\u001b[39mCall):\n\u001b[0;32m---> 11\u001b[0m         \u001b[43m_update_ret_vals\u001b[49m\u001b[43m(\u001b[49m\u001b[43mstmt\u001b[49m\u001b[43m,\u001b[49m\u001b[43m \u001b[49m\u001b[43mret_vals\u001b[49m\u001b[43m)\u001b[49m\n\u001b[1;32m     13\u001b[0m     \u001b[38;5;28;01mif\u001b[39;00m \u001b[38;5;28misinstance\u001b[39m(stmt, ast\u001b[38;5;241m.\u001b[39mAssert):\n\u001b[1;32m     14\u001b[0m         assert_func_counts[\u001b[38;5;28mid\u001b[39m(stmt)] \u001b[38;5;241m=\u001b[39m []\n",
      "Cell \u001b[0;32mIn[403], line 9\u001b[0m, in \u001b[0;36m_update_ret_vals\u001b[0;34m(stmt, ret_vals)\u001b[0m\n\u001b[1;32m      6\u001b[0m     func_name \u001b[38;5;241m=\u001b[39m stmt\u001b[38;5;241m.\u001b[39mfunc\u001b[38;5;241m.\u001b[39mvalue\u001b[38;5;241m.\u001b[39mid\n\u001b[1;32m      7\u001b[0m \u001b[38;5;28;01melse\u001b[39;00m:\n\u001b[1;32m      8\u001b[0m     func_name \u001b[38;5;241m=\u001b[39m (\n\u001b[0;32m----> 9\u001b[0m         stmt\u001b[38;5;241m.\u001b[39mvalue\u001b[38;5;241m.\u001b[39mfunc\u001b[38;5;241m.\u001b[39mid \u001b[38;5;28;01mif\u001b[39;00m \u001b[38;5;124m\"\u001b[39m\u001b[38;5;124mid\u001b[39m\u001b[38;5;124m\"\u001b[39m \u001b[38;5;129;01min\u001b[39;00m stmt\u001b[38;5;241m.\u001b[39mvalue\u001b[38;5;241m.\u001b[39mfunc\u001b[38;5;241m.\u001b[39m\u001b[38;5;18m__dict__\u001b[39m \u001b[38;5;28;01melse\u001b[39;00m \u001b[43mstmt\u001b[49m\u001b[38;5;241;43m.\u001b[39;49m\u001b[43mfunc\u001b[49m\u001b[38;5;241m.\u001b[39mattr\n\u001b[1;32m     10\u001b[0m     ) \n\u001b[1;32m     11\u001b[0m \u001b[38;5;28;01mif\u001b[39;00m \u001b[38;5;28misinstance\u001b[39m(stmt\u001b[38;5;241m.\u001b[39mtargets[\u001b[38;5;241m0\u001b[39m], ast\u001b[38;5;241m.\u001b[39mName):\n\u001b[1;32m     12\u001b[0m     ret_vals[stmt\u001b[38;5;241m.\u001b[39mtargets[\u001b[38;5;241m0\u001b[39m]\u001b[38;5;241m.\u001b[39mid] \u001b[38;5;241m=\u001b[39m func_name\n",
      "\u001b[0;31mAttributeError\u001b[0m: 'Assign' object has no attribute 'func'"
     ]
    }
   ],
   "source": [
    "_tests_per_function_code(asserted_code)"
   ]
  },
  {
   "cell_type": "markdown",
   "metadata": {
    "tags": []
   },
   "source": [
    "## 4. In-function Percentage"
   ]
  },
  {
   "cell_type": "code",
   "execution_count": 39,
   "metadata": {
    "tags": []
   },
   "outputs": [],
   "source": [
    "# | export\n",
    "\n",
    "\n",
    "def calc_ifp(nb_cell_code):\n",
    "    stmts_in_func = 0\n",
    "    stmts_outside_func = 0\n",
    "    for stmt in ast.walk(ast.parse(replace_ipython_magics(nb_cell_code))):\n",
    "        if isinstance(stmt, ast.FunctionDef) and not stmt.name.startswith(\"_\"):\n",
    "            for body_item in stmt.body:\n",
    "                stmts_in_func += 1\n",
    "        elif isinstance(stmt, ast.Module):\n",
    "            for body_item in stmt.body:\n",
    "                if not isinstance(body_item, ast.FunctionDef):\n",
    "                    stmts_outside_func += 1\n",
    "    return (\n",
    "        0\n",
    "        if stmts_outside_func + stmts_in_func == 0\n",
    "        else (stmts_in_func / (stmts_outside_func + stmts_in_func)) * 100\n",
    "    )"
   ]
  },
  {
   "cell_type": "code",
   "execution_count": 40,
   "metadata": {
    "tags": []
   },
   "outputs": [],
   "source": [
    "assert (calc_ifp(nb_cell_code)) == (5 / (5 + 5)) * 100"
   ]
  },
  {
   "cell_type": "code",
   "execution_count": 41,
   "metadata": {
    "tags": []
   },
   "outputs": [],
   "source": [
    "# | export\n",
    "\n",
    "\n",
    "def in_func_pct(nb):\n",
    "    nb_cell_code = \"\\n\".join(\n",
    "        [\n",
    "            replace_ipython_magics(c[\"source\"])\n",
    "            for c in nb.cells\n",
    "            if c[\"cell_type\"] == \"code\"\n",
    "        ]\n",
    "    )\n",
    "    if nb_cell_code == \"\":\n",
    "        return np.nan\n",
    "    return calc_ifp(nb_cell_code)"
   ]
  },
  {
   "cell_type": "code",
   "execution_count": 42,
   "metadata": {
    "tags": []
   },
   "outputs": [],
   "source": [
    "assert in_func_pct(nbdev_nb) >= 0\n",
    "assert in_func_pct(nbdev_hq_nb) >= 0\n",
    "assert in_func_pct(non_nbdev_nb) >= 0\n",
    "assert in_func_pct(non_nbdev_lq_nb) >= 0\n",
    "assert pd.isnull(in_func_pct(index))"
   ]
  },
  {
   "cell_type": "markdown",
   "metadata": {
    "tags": []
   },
   "source": [
    "## 5. Markdown to Code Percent"
   ]
  },
  {
   "cell_type": "code",
   "execution_count": 45,
   "metadata": {
    "tags": []
   },
   "outputs": [],
   "source": [
    "# | export\n",
    "\n",
    "\n",
    "def markdown_code_pct(nb):\n",
    "    md_cells = [c for c in nb.cells if c[\"cell_type\"] == \"markdown\"]\n",
    "    code_cells = [c for c in nb.cells if c[\"cell_type\"] == \"code\"]\n",
    "    num_code_cells = len(code_cells)\n",
    "    if num_code_cells == 0:\n",
    "        return np.nan\n",
    "    num_md_cells = len(md_cells)\n",
    "    return (\n",
    "        100\n",
    "        if num_code_cells == 0\n",
    "        else (num_md_cells / (num_md_cells + num_code_cells)) * 100\n",
    "    )"
   ]
  },
  {
   "cell_type": "code",
   "execution_count": 46,
   "metadata": {
    "tags": []
   },
   "outputs": [],
   "source": [
    "assert markdown_code_pct(nbdev_nb) >= 0\n",
    "assert markdown_code_pct(nbdev_hq_nb) >= 0\n",
    "assert markdown_code_pct(non_nbdev_nb) >= 0\n",
    "assert markdown_code_pct(non_nbdev_lq_nb) >= 0\n",
    "assert pd.isnull(markdown_code_pct(index))"
   ]
  },
  {
   "cell_type": "markdown",
   "metadata": {
    "tags": []
   },
   "source": [
    "## 6. Total Code Length"
   ]
  },
  {
   "cell_type": "code",
   "execution_count": 48,
   "metadata": {
    "tags": []
   },
   "outputs": [],
   "source": [
    "# | export\n",
    "\n",
    "\n",
    "def total_code_len(nb):\n",
    "    return sum([len(c[\"source\"]) for c in nb.cells if c[\"cell_type\"] == \"code\"])"
   ]
  },
  {
   "cell_type": "code",
   "execution_count": 49,
   "metadata": {
    "tags": []
   },
   "outputs": [],
   "source": [
    "assert total_code_len(nbdev_nb) >= 50\n",
    "assert total_code_len(nbdev_hq_nb) >= 50\n",
    "assert total_code_len(non_nbdev_nb) >= 50\n",
    "assert total_code_len(non_nbdev_lq_nb) >= 50\n",
    "assert total_code_len(index) == 0"
   ]
  },
  {
   "cell_type": "markdown",
   "metadata": {},
   "source": [
    "## 7. Lines-of-code per Markdown Section"
   ]
  },
  {
   "cell_type": "code",
   "execution_count": 56,
   "metadata": {
    "tags": []
   },
   "outputs": [],
   "source": [
    "# | export\n",
    "\n",
    "\n",
    "def loc_per_md_section(nb):\n",
    "    num_md_sections = len(\n",
    "        [\n",
    "            c[\"source\"]\n",
    "            for c in nb.cells\n",
    "            if c[\"cell_type\"] == \"markdown\" and c[\"source\"].strip().startswith(\"#\")\n",
    "        ]\n",
    "    )\n",
    "    tcl = total_code_len(nb)\n",
    "    if tcl == 0 or num_md_sections == 0:\n",
    "        result = np.nan\n",
    "    else:\n",
    "        result = total_code_len(nb) / num_md_sections\n",
    "    return result"
   ]
  },
  {
   "cell_type": "code",
   "execution_count": 57,
   "metadata": {
    "tags": []
   },
   "outputs": [],
   "source": [
    "assert loc_per_md_section(nbdev_nb) < 1000\n",
    "assert loc_per_md_section(nbdev_hq_nb) < 1000\n",
    "assert loc_per_md_section(non_nbdev_nb) is np.nan\n",
    "assert loc_per_md_section(non_nbdev_lq_nb) > 1000\n",
    "assert loc_per_md_section(index) is np.nan"
   ]
  },
  {
   "cell_type": "markdown",
   "metadata": {
    "tags": []
   },
   "source": [
    "# Quality Indicator Function Map\n",
    "\n",
    "> Add new quality indicators here to be used. Signature contract is nb -> number. TODO: provide a proper typed signature, handle bools."
   ]
  },
  {
   "cell_type": "code",
   "execution_count": 59,
   "metadata": {
    "tags": []
   },
   "outputs": [],
   "source": [
    "# | export\n",
    "\n",
    "indicator_funcs = {\n",
    "    \"calls_per_func_mean\": calls_per_func_mean,\n",
    "    \"calls_per_func_median\": calls_per_func_median,\n",
    "    \"asserts_func_ratio\": asserts_func_ratio,\n",
    "    \"inline_asserts_per_func_mean\": inline_asserts_per_func_mean,\n",
    "    \"inline_asserts_per_func_median\": inline_asserts_per_func_median,\n",
    "    \"in_func_pct\": in_func_pct,\n",
    "    \"markdown_code_pct\": markdown_code_pct,\n",
    "    \"loc_per_md_section\": loc_per_md_section,\n",
    "    \"total_code_len\": total_code_len,\n",
    "}"
   ]
  }
 ],
 "metadata": {
  "availableInstances": [
   {
    "_defaultOrder": 0,
    "_isFastLaunch": true,
    "category": "General purpose",
    "gpuNum": 0,
    "hideHardwareSpecs": false,
    "memoryGiB": 4,
    "name": "ml.t3.medium",
    "vcpuNum": 2
   },
   {
    "_defaultOrder": 1,
    "_isFastLaunch": false,
    "category": "General purpose",
    "gpuNum": 0,
    "hideHardwareSpecs": false,
    "memoryGiB": 8,
    "name": "ml.t3.large",
    "vcpuNum": 2
   },
   {
    "_defaultOrder": 2,
    "_isFastLaunch": false,
    "category": "General purpose",
    "gpuNum": 0,
    "hideHardwareSpecs": false,
    "memoryGiB": 16,
    "name": "ml.t3.xlarge",
    "vcpuNum": 4
   },
   {
    "_defaultOrder": 3,
    "_isFastLaunch": false,
    "category": "General purpose",
    "gpuNum": 0,
    "hideHardwareSpecs": false,
    "memoryGiB": 32,
    "name": "ml.t3.2xlarge",
    "vcpuNum": 8
   },
   {
    "_defaultOrder": 4,
    "_isFastLaunch": true,
    "category": "General purpose",
    "gpuNum": 0,
    "hideHardwareSpecs": false,
    "memoryGiB": 8,
    "name": "ml.m5.large",
    "vcpuNum": 2
   },
   {
    "_defaultOrder": 5,
    "_isFastLaunch": false,
    "category": "General purpose",
    "gpuNum": 0,
    "hideHardwareSpecs": false,
    "memoryGiB": 16,
    "name": "ml.m5.xlarge",
    "vcpuNum": 4
   },
   {
    "_defaultOrder": 6,
    "_isFastLaunch": false,
    "category": "General purpose",
    "gpuNum": 0,
    "hideHardwareSpecs": false,
    "memoryGiB": 32,
    "name": "ml.m5.2xlarge",
    "vcpuNum": 8
   },
   {
    "_defaultOrder": 7,
    "_isFastLaunch": false,
    "category": "General purpose",
    "gpuNum": 0,
    "hideHardwareSpecs": false,
    "memoryGiB": 64,
    "name": "ml.m5.4xlarge",
    "vcpuNum": 16
   },
   {
    "_defaultOrder": 8,
    "_isFastLaunch": false,
    "category": "General purpose",
    "gpuNum": 0,
    "hideHardwareSpecs": false,
    "memoryGiB": 128,
    "name": "ml.m5.8xlarge",
    "vcpuNum": 32
   },
   {
    "_defaultOrder": 9,
    "_isFastLaunch": false,
    "category": "General purpose",
    "gpuNum": 0,
    "hideHardwareSpecs": false,
    "memoryGiB": 192,
    "name": "ml.m5.12xlarge",
    "vcpuNum": 48
   },
   {
    "_defaultOrder": 10,
    "_isFastLaunch": false,
    "category": "General purpose",
    "gpuNum": 0,
    "hideHardwareSpecs": false,
    "memoryGiB": 256,
    "name": "ml.m5.16xlarge",
    "vcpuNum": 64
   },
   {
    "_defaultOrder": 11,
    "_isFastLaunch": false,
    "category": "General purpose",
    "gpuNum": 0,
    "hideHardwareSpecs": false,
    "memoryGiB": 384,
    "name": "ml.m5.24xlarge",
    "vcpuNum": 96
   },
   {
    "_defaultOrder": 12,
    "_isFastLaunch": false,
    "category": "General purpose",
    "gpuNum": 0,
    "hideHardwareSpecs": false,
    "memoryGiB": 8,
    "name": "ml.m5d.large",
    "vcpuNum": 2
   },
   {
    "_defaultOrder": 13,
    "_isFastLaunch": false,
    "category": "General purpose",
    "gpuNum": 0,
    "hideHardwareSpecs": false,
    "memoryGiB": 16,
    "name": "ml.m5d.xlarge",
    "vcpuNum": 4
   },
   {
    "_defaultOrder": 14,
    "_isFastLaunch": false,
    "category": "General purpose",
    "gpuNum": 0,
    "hideHardwareSpecs": false,
    "memoryGiB": 32,
    "name": "ml.m5d.2xlarge",
    "vcpuNum": 8
   },
   {
    "_defaultOrder": 15,
    "_isFastLaunch": false,
    "category": "General purpose",
    "gpuNum": 0,
    "hideHardwareSpecs": false,
    "memoryGiB": 64,
    "name": "ml.m5d.4xlarge",
    "vcpuNum": 16
   },
   {
    "_defaultOrder": 16,
    "_isFastLaunch": false,
    "category": "General purpose",
    "gpuNum": 0,
    "hideHardwareSpecs": false,
    "memoryGiB": 128,
    "name": "ml.m5d.8xlarge",
    "vcpuNum": 32
   },
   {
    "_defaultOrder": 17,
    "_isFastLaunch": false,
    "category": "General purpose",
    "gpuNum": 0,
    "hideHardwareSpecs": false,
    "memoryGiB": 192,
    "name": "ml.m5d.12xlarge",
    "vcpuNum": 48
   },
   {
    "_defaultOrder": 18,
    "_isFastLaunch": false,
    "category": "General purpose",
    "gpuNum": 0,
    "hideHardwareSpecs": false,
    "memoryGiB": 256,
    "name": "ml.m5d.16xlarge",
    "vcpuNum": 64
   },
   {
    "_defaultOrder": 19,
    "_isFastLaunch": false,
    "category": "General purpose",
    "gpuNum": 0,
    "hideHardwareSpecs": false,
    "memoryGiB": 384,
    "name": "ml.m5d.24xlarge",
    "vcpuNum": 96
   },
   {
    "_defaultOrder": 20,
    "_isFastLaunch": false,
    "category": "General purpose",
    "gpuNum": 0,
    "hideHardwareSpecs": true,
    "memoryGiB": 0,
    "name": "ml.geospatial.interactive",
    "supportedImageNames": [
     "sagemaker-geospatial-v1-0"
    ],
    "vcpuNum": 0
   },
   {
    "_defaultOrder": 21,
    "_isFastLaunch": true,
    "category": "Compute optimized",
    "gpuNum": 0,
    "hideHardwareSpecs": false,
    "memoryGiB": 4,
    "name": "ml.c5.large",
    "vcpuNum": 2
   },
   {
    "_defaultOrder": 22,
    "_isFastLaunch": false,
    "category": "Compute optimized",
    "gpuNum": 0,
    "hideHardwareSpecs": false,
    "memoryGiB": 8,
    "name": "ml.c5.xlarge",
    "vcpuNum": 4
   },
   {
    "_defaultOrder": 23,
    "_isFastLaunch": false,
    "category": "Compute optimized",
    "gpuNum": 0,
    "hideHardwareSpecs": false,
    "memoryGiB": 16,
    "name": "ml.c5.2xlarge",
    "vcpuNum": 8
   },
   {
    "_defaultOrder": 24,
    "_isFastLaunch": false,
    "category": "Compute optimized",
    "gpuNum": 0,
    "hideHardwareSpecs": false,
    "memoryGiB": 32,
    "name": "ml.c5.4xlarge",
    "vcpuNum": 16
   },
   {
    "_defaultOrder": 25,
    "_isFastLaunch": false,
    "category": "Compute optimized",
    "gpuNum": 0,
    "hideHardwareSpecs": false,
    "memoryGiB": 72,
    "name": "ml.c5.9xlarge",
    "vcpuNum": 36
   },
   {
    "_defaultOrder": 26,
    "_isFastLaunch": false,
    "category": "Compute optimized",
    "gpuNum": 0,
    "hideHardwareSpecs": false,
    "memoryGiB": 96,
    "name": "ml.c5.12xlarge",
    "vcpuNum": 48
   },
   {
    "_defaultOrder": 27,
    "_isFastLaunch": false,
    "category": "Compute optimized",
    "gpuNum": 0,
    "hideHardwareSpecs": false,
    "memoryGiB": 144,
    "name": "ml.c5.18xlarge",
    "vcpuNum": 72
   },
   {
    "_defaultOrder": 28,
    "_isFastLaunch": false,
    "category": "Compute optimized",
    "gpuNum": 0,
    "hideHardwareSpecs": false,
    "memoryGiB": 192,
    "name": "ml.c5.24xlarge",
    "vcpuNum": 96
   },
   {
    "_defaultOrder": 29,
    "_isFastLaunch": true,
    "category": "Accelerated computing",
    "gpuNum": 1,
    "hideHardwareSpecs": false,
    "memoryGiB": 16,
    "name": "ml.g4dn.xlarge",
    "vcpuNum": 4
   },
   {
    "_defaultOrder": 30,
    "_isFastLaunch": false,
    "category": "Accelerated computing",
    "gpuNum": 1,
    "hideHardwareSpecs": false,
    "memoryGiB": 32,
    "name": "ml.g4dn.2xlarge",
    "vcpuNum": 8
   },
   {
    "_defaultOrder": 31,
    "_isFastLaunch": false,
    "category": "Accelerated computing",
    "gpuNum": 1,
    "hideHardwareSpecs": false,
    "memoryGiB": 64,
    "name": "ml.g4dn.4xlarge",
    "vcpuNum": 16
   },
   {
    "_defaultOrder": 32,
    "_isFastLaunch": false,
    "category": "Accelerated computing",
    "gpuNum": 1,
    "hideHardwareSpecs": false,
    "memoryGiB": 128,
    "name": "ml.g4dn.8xlarge",
    "vcpuNum": 32
   },
   {
    "_defaultOrder": 33,
    "_isFastLaunch": false,
    "category": "Accelerated computing",
    "gpuNum": 4,
    "hideHardwareSpecs": false,
    "memoryGiB": 192,
    "name": "ml.g4dn.12xlarge",
    "vcpuNum": 48
   },
   {
    "_defaultOrder": 34,
    "_isFastLaunch": false,
    "category": "Accelerated computing",
    "gpuNum": 1,
    "hideHardwareSpecs": false,
    "memoryGiB": 256,
    "name": "ml.g4dn.16xlarge",
    "vcpuNum": 64
   },
   {
    "_defaultOrder": 35,
    "_isFastLaunch": false,
    "category": "Accelerated computing",
    "gpuNum": 1,
    "hideHardwareSpecs": false,
    "memoryGiB": 61,
    "name": "ml.p3.2xlarge",
    "vcpuNum": 8
   },
   {
    "_defaultOrder": 36,
    "_isFastLaunch": false,
    "category": "Accelerated computing",
    "gpuNum": 4,
    "hideHardwareSpecs": false,
    "memoryGiB": 244,
    "name": "ml.p3.8xlarge",
    "vcpuNum": 32
   },
   {
    "_defaultOrder": 37,
    "_isFastLaunch": false,
    "category": "Accelerated computing",
    "gpuNum": 8,
    "hideHardwareSpecs": false,
    "memoryGiB": 488,
    "name": "ml.p3.16xlarge",
    "vcpuNum": 64
   },
   {
    "_defaultOrder": 38,
    "_isFastLaunch": false,
    "category": "Accelerated computing",
    "gpuNum": 8,
    "hideHardwareSpecs": false,
    "memoryGiB": 768,
    "name": "ml.p3dn.24xlarge",
    "vcpuNum": 96
   },
   {
    "_defaultOrder": 39,
    "_isFastLaunch": false,
    "category": "Memory Optimized",
    "gpuNum": 0,
    "hideHardwareSpecs": false,
    "memoryGiB": 16,
    "name": "ml.r5.large",
    "vcpuNum": 2
   },
   {
    "_defaultOrder": 40,
    "_isFastLaunch": false,
    "category": "Memory Optimized",
    "gpuNum": 0,
    "hideHardwareSpecs": false,
    "memoryGiB": 32,
    "name": "ml.r5.xlarge",
    "vcpuNum": 4
   },
   {
    "_defaultOrder": 41,
    "_isFastLaunch": false,
    "category": "Memory Optimized",
    "gpuNum": 0,
    "hideHardwareSpecs": false,
    "memoryGiB": 64,
    "name": "ml.r5.2xlarge",
    "vcpuNum": 8
   },
   {
    "_defaultOrder": 42,
    "_isFastLaunch": false,
    "category": "Memory Optimized",
    "gpuNum": 0,
    "hideHardwareSpecs": false,
    "memoryGiB": 128,
    "name": "ml.r5.4xlarge",
    "vcpuNum": 16
   },
   {
    "_defaultOrder": 43,
    "_isFastLaunch": false,
    "category": "Memory Optimized",
    "gpuNum": 0,
    "hideHardwareSpecs": false,
    "memoryGiB": 256,
    "name": "ml.r5.8xlarge",
    "vcpuNum": 32
   },
   {
    "_defaultOrder": 44,
    "_isFastLaunch": false,
    "category": "Memory Optimized",
    "gpuNum": 0,
    "hideHardwareSpecs": false,
    "memoryGiB": 384,
    "name": "ml.r5.12xlarge",
    "vcpuNum": 48
   },
   {
    "_defaultOrder": 45,
    "_isFastLaunch": false,
    "category": "Memory Optimized",
    "gpuNum": 0,
    "hideHardwareSpecs": false,
    "memoryGiB": 512,
    "name": "ml.r5.16xlarge",
    "vcpuNum": 64
   },
   {
    "_defaultOrder": 46,
    "_isFastLaunch": false,
    "category": "Memory Optimized",
    "gpuNum": 0,
    "hideHardwareSpecs": false,
    "memoryGiB": 768,
    "name": "ml.r5.24xlarge",
    "vcpuNum": 96
   },
   {
    "_defaultOrder": 47,
    "_isFastLaunch": false,
    "category": "Accelerated computing",
    "gpuNum": 1,
    "hideHardwareSpecs": false,
    "memoryGiB": 16,
    "name": "ml.g5.xlarge",
    "vcpuNum": 4
   },
   {
    "_defaultOrder": 48,
    "_isFastLaunch": false,
    "category": "Accelerated computing",
    "gpuNum": 1,
    "hideHardwareSpecs": false,
    "memoryGiB": 32,
    "name": "ml.g5.2xlarge",
    "vcpuNum": 8
   },
   {
    "_defaultOrder": 49,
    "_isFastLaunch": false,
    "category": "Accelerated computing",
    "gpuNum": 1,
    "hideHardwareSpecs": false,
    "memoryGiB": 64,
    "name": "ml.g5.4xlarge",
    "vcpuNum": 16
   },
   {
    "_defaultOrder": 50,
    "_isFastLaunch": false,
    "category": "Accelerated computing",
    "gpuNum": 1,
    "hideHardwareSpecs": false,
    "memoryGiB": 128,
    "name": "ml.g5.8xlarge",
    "vcpuNum": 32
   },
   {
    "_defaultOrder": 51,
    "_isFastLaunch": false,
    "category": "Accelerated computing",
    "gpuNum": 1,
    "hideHardwareSpecs": false,
    "memoryGiB": 256,
    "name": "ml.g5.16xlarge",
    "vcpuNum": 64
   },
   {
    "_defaultOrder": 52,
    "_isFastLaunch": false,
    "category": "Accelerated computing",
    "gpuNum": 4,
    "hideHardwareSpecs": false,
    "memoryGiB": 192,
    "name": "ml.g5.12xlarge",
    "vcpuNum": 48
   },
   {
    "_defaultOrder": 53,
    "_isFastLaunch": false,
    "category": "Accelerated computing",
    "gpuNum": 4,
    "hideHardwareSpecs": false,
    "memoryGiB": 384,
    "name": "ml.g5.24xlarge",
    "vcpuNum": 96
   },
   {
    "_defaultOrder": 54,
    "_isFastLaunch": false,
    "category": "Accelerated computing",
    "gpuNum": 8,
    "hideHardwareSpecs": false,
    "memoryGiB": 768,
    "name": "ml.g5.48xlarge",
    "vcpuNum": 192
   },
   {
    "_defaultOrder": 55,
    "_isFastLaunch": false,
    "category": "Accelerated computing",
    "gpuNum": 8,
    "hideHardwareSpecs": false,
    "memoryGiB": 1152,
    "name": "ml.p4d.24xlarge",
    "vcpuNum": 96
   },
   {
    "_defaultOrder": 56,
    "_isFastLaunch": false,
    "category": "Accelerated computing",
    "gpuNum": 8,
    "hideHardwareSpecs": false,
    "memoryGiB": 1152,
    "name": "ml.p4de.24xlarge",
    "vcpuNum": 96
   }
  ],
  "instance_type": "ml.m5.large",
  "kernelspec": {
   "display_name": "sciflow (sciflow/3)",
   "language": "python",
   "name": "python3__SAGEMAKER_INTERNAL__arn:aws:sagemaker:eu-west-1:368653567616:image-version/sciflow/3"
  },
  "language_info": {
   "codemirror_mode": {
    "name": "ipython",
    "version": 3
   },
   "file_extension": ".py",
   "mimetype": "text/x-python",
   "name": "python",
   "nbconvert_exporter": "python",
   "pygments_lexer": "ipython3",
   "version": "3.9.0"
  },
  "toc-autonumbering": false
 },
 "nbformat": 4,
 "nbformat_minor": 4
}
