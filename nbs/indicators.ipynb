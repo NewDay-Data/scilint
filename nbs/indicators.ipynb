{
 "cells": [
  {
   "cell_type": "markdown",
   "metadata": {},
   "source": [
    "# indicators\n",
    "\n",
    "> quality indicator functions used in linting"
   ]
  },
  {
   "cell_type": "code",
   "execution_count": null,
   "metadata": {
    "tags": []
   },
   "outputs": [],
   "source": [
    "# | include: false\n",
    "# | default_exp indicators"
   ]
  },
  {
   "cell_type": "code",
   "execution_count": null,
   "metadata": {
    "tags": []
   },
   "outputs": [],
   "source": [
    "# | export\n",
    "\n",
    "import ast\n",
    "import datetime\n",
    "import logging\n",
    "import re\n",
    "import warnings\n",
    "from collections import Counter\n",
    "from importlib import reload\n",
    "from pathlib import Path\n",
    "\n",
    "import nbformat\n",
    "import numpy as np\n",
    "import pandas as pd\n",
    "from execnb.nbio import read_nb\n",
    "\n",
    "from scilint.utils import get_cell_code, remove_ipython_special_directives"
   ]
  },
  {
   "cell_type": "code",
   "execution_count": null,
   "metadata": {
    "tags": []
   },
   "outputs": [],
   "source": [
    "%load_ext autoreload\n",
    "%autoreload 2"
   ]
  },
  {
   "cell_type": "markdown",
   "metadata": {},
   "source": [
    "# Test Data Prep"
   ]
  },
  {
   "cell_type": "code",
   "execution_count": null,
   "metadata": {
    "tags": []
   },
   "outputs": [],
   "source": [
    "nbdev_path = Path(Path(\".\").resolve(), \"example_nbs\", \"nbdev.ipynb\")\n",
    "nbdev_hq_path = Path(Path(\".\").resolve(), \"example_nbs\", \"nbdev_high_quality.ipynb\")\n",
    "non_nbdev_path = Path(Path(\".\").resolve(), \"example_nbs\", \"non_nbdev.ipynb\")\n",
    "non_nbdev_lq_path = Path(\n",
    "    Path(\".\").resolve(), \"example_nbs\", \"non_nbdev_low_quality.ipynb\"\n",
    ")\n",
    "index_path = Path(Path(\".\").resolve(), \"index.ipynb\")\n",
    "syntax_error_path = Path(Path(\".\").resolve(), \"syntax_error.ipynb\")\n",
    "\n",
    "nbdev_nb = read_nb(nbdev_path)\n",
    "nbdev_hq_nb = read_nb(nbdev_hq_path)\n",
    "non_nbdev_nb = read_nb(non_nbdev_path)\n",
    "non_nbdev_lq_nb = read_nb(non_nbdev_lq_path)\n",
    "index = read_nb(index_path)\n",
    "syntax_error = read_nb(index_path)"
   ]
  },
  {
   "cell_type": "markdown",
   "metadata": {},
   "source": [
    "# Helpers"
   ]
  },
  {
   "cell_type": "code",
   "execution_count": null,
   "metadata": {
    "tags": []
   },
   "outputs": [],
   "source": [
    "# | export\n",
    "\n",
    "\n",
    "class CodeParseError(Exception):\n",
    "    pass"
   ]
  },
  {
   "cell_type": "code",
   "execution_count": null,
   "metadata": {
    "tags": []
   },
   "outputs": [],
   "source": [
    "def gen_parse_filename(code: str, now: datetime = None):\n",
    "    cleaned_code = re.sub(r\"\\W+\", \"-\", code)[:10].strip(\"-\")\n",
    "    if now is None:\n",
    "        now = datetime.datetime.utcnow()\n",
    "    date_str = f\"{now.year:04}{now.month:02}{now.day:02}_{now.hour:02}_{now.minute:02}_{now.second:02}\"\n",
    "    return cleaned_code + \"_\" + date_str + \".py\""
   ]
  },
  {
   "cell_type": "markdown",
   "metadata": {
    "tags": []
   },
   "source": [
    "## AST: `_count_func_calls`"
   ]
  },
  {
   "cell_type": "code",
   "execution_count": null,
   "metadata": {
    "tags": []
   },
   "outputs": [],
   "source": [
    "output = gen_parse_filename(\n",
    "    \"# | export \\n from bla import foo; z= 3\", now=datetime.datetime(1, 2, 3, 0, 0, 0)\n",
    ")\n",
    "assert (\n",
    "    \"export-fr_00010203_00_00_00.py\" == output\n",
    "), f\"Expected 'export-fr_10203_00_00_00.py' but got '{output}'\""
   ]
  },
  {
   "cell_type": "code",
   "execution_count": null,
   "metadata": {
    "tags": []
   },
   "outputs": [],
   "source": [
    "# | export\n",
    "\n",
    "\n",
    "def _count_func_calls(code, func_defs, out_dir=None):\n",
    "    func_calls = Counter({k: 0 for k in func_defs})\n",
    "\n",
    "    def get_func_name(node):\n",
    "        if isinstance(node, ast.Name):\n",
    "            return node.id\n",
    "        elif isinstance(node, ast.Attribute):\n",
    "            return node.attr\n",
    "        return None\n",
    "\n",
    "    try:\n",
    "        for stmt in ast.walk(ast.parse(code)):\n",
    "            if isinstance(stmt, ast.Call):\n",
    "                func_name = get_func_name(stmt.func)\n",
    "                if func_name and func_name in func_defs:\n",
    "                    func_calls[func_name] += 1\n",
    "    except AttributeError as ae:\n",
    "        if out_dir is not None:\n",
    "            debug_path = Path(out_dir, gen_parse_filename(code))\n",
    "            with open(debug_path, \"w\") as debug_file:\n",
    "                debug_file.write(code)\n",
    "            logging.getLogger().info(\n",
    "                f\"Parse failure code dump written to: {debug_path}\"\n",
    "            )\n",
    "        raise CodeParseError(\n",
    "            f\"Logic error parsing code statement: {stmt} with properties: {stmt.__dict__}\",\n",
    "            ae,\n",
    "        )\n",
    "    return func_calls"
   ]
  },
  {
   "cell_type": "code",
   "execution_count": null,
   "metadata": {
    "tags": []
   },
   "outputs": [],
   "source": [
    "test_code = \"\"\"\n",
    "self.hierarchical_topic_reduction(3); \n",
    "topic_reduction(3); \n",
    "lambda x: topic(x); \n",
    "hierarchical_topic_reduction[4]; \n",
    "hierarchical_topic_reduction(4); \n",
    "blabla()\n",
    "lambda y: other(5)\n",
    "funcs = [x, y]\n",
    "funcs[0](3)\n",
    "blabla(topic(7))\n",
    "func_ret()()()\n",
    "def zip(self, cycled=False): return self._new((zip_cycle if cycled else zip)(*self))\n",
    "func()\n",
    "obj.func()\n",
    "module.func()\n",
    "list[0]\n",
    "\"\"\"\n",
    "\n",
    "test_func_defs = [\n",
    "    \"topic\",\n",
    "    \"topic_reduction\",\n",
    "    \"blablabla\",\n",
    "    \"hierarchical_topic_reduction\",\n",
    "    \"func_ret\",\n",
    "    \"func\",\n",
    "    \"obj.func\",\n",
    "    \"module.func\",\n",
    "]\n",
    "\n",
    "assert _count_func_calls(test_code, test_func_defs) == Counter(\n",
    "    {\n",
    "        \"topic\": 2,\n",
    "        \"topic_reduction\": 1,\n",
    "        \"blablabla\": 0,\n",
    "        \"hierarchical_topic_reduction\": 2,\n",
    "        \"func_ret\": 1,\n",
    "        \"func\": 3,\n",
    "        \"obj.func\": 0,  # This won't be detected as \"obj.func\", but rather just \"func\"\n",
    "        \"module.func\": 0,  # Similarly, this will be detected as \"func\" and not \"module.func\"\n",
    "    }\n",
    ")"
   ]
  },
  {
   "cell_type": "code",
   "execution_count": null,
   "metadata": {
    "tags": []
   },
   "outputs": [],
   "source": []
  },
  {
   "cell_type": "code",
   "execution_count": null,
   "metadata": {
    "tags": []
   },
   "outputs": [],
   "source": [
    "nb_cell_code = r\"\"\"\n",
    "def something():\n",
    "    pass; pass # in x 2\n",
    "    \n",
    "%load_ext autoreload\n",
    "%autoreload 2\n",
    "\n",
    "!ls -l\n",
    "if 1!= 2:\n",
    "    print(4)\n",
    "#| export\n",
    "\n",
    "import pandas as pd # out\n",
    "from sciflow.utils import lib_path, odbc_connect, query # out\n",
    "\n",
    "#| export\n",
    "\n",
    "def nb_to_sagemaker_pipeline(\n",
    "    nb_path: Path,\n",
    "    silent: bool = True,\n",
    "):\n",
    "    nb = read_nb(nb_path)  # in\n",
    "    lib_name = get_config().get(\"lib_name\")  # in\n",
    "    module_name = find_default_export(nb[\"cells\"])  # in\n",
    "    \n",
    "x = [1,2,3] # out\n",
    "nb_to_sagemaker_pipeline() # out\n",
    "\n",
    "plt.plot(fpr, tpr, color='darkorange', lw=2, label='ROC curve (area = %0.2f)' % roc_auc)\n",
    "\"\"\""
   ]
  },
  {
   "cell_type": "markdown",
   "metadata": {},
   "source": [
    "## AST: `_get_func_defs`"
   ]
  },
  {
   "cell_type": "code",
   "execution_count": null,
   "metadata": {
    "tags": []
   },
   "outputs": [],
   "source": [
    "# | export\n",
    "\n",
    "\n",
    "def _get_func_defs(code, ignore_private_prefix=True, out_dir=None):\n",
    "    func_names = []\n",
    "    try:\n",
    "        for stmt in ast.walk(ast.parse(code)):\n",
    "            if isinstance(stmt, ast.FunctionDef):\n",
    "                inner_cond = (\n",
    "                    False\n",
    "                    if ignore_private_prefix and stmt.name.startswith(\"_\")\n",
    "                    else True\n",
    "                )\n",
    "                if inner_cond:\n",
    "                    func_names.append(stmt.name)\n",
    "    except AttributeError as ae:\n",
    "        if out_dir is not None:\n",
    "            debug_path = Path(out_dir, gen_parse_filename(code))\n",
    "            with open(debug_path, \"w\") as debug_file:\n",
    "                debug_file.write(code)\n",
    "            logging.getLogger().info(\n",
    "                f\"Parse failure code dump written to: {debug_path}\"\n",
    "            )\n",
    "        raise CodeParseError(\n",
    "            f\"Logic error parsing code statement: {stmt} with properties: {stmt.__dict__}\",\n",
    "            ae,\n",
    "        )\n",
    "    return func_names"
   ]
  },
  {
   "cell_type": "code",
   "execution_count": null,
   "metadata": {
    "tags": []
   },
   "outputs": [],
   "source": [
    "test_code = \"\"\"\n",
    "x()\n",
    "def y():\n",
    "    pass\n",
    "def z():\n",
    "    def a():\n",
    "        pass\n",
    "class A():\n",
    "    def b():\n",
    "        pass\n",
    "def blabla():\n",
    "    return 1\n",
    "def _hidden():\n",
    "    return None\n",
    "\"\"\"\n",
    "func_defs = [\"a\", \"b\", \"blabla\", \"y\", \"z\"]\n",
    "assert func_defs == sorted(_get_func_defs(test_code))"
   ]
  },
  {
   "cell_type": "markdown",
   "metadata": {
    "tags": []
   },
   "source": [
    "# Potential Quality Indicators"
   ]
  },
  {
   "cell_type": "markdown",
   "metadata": {
    "tags": []
   },
   "source": [
    "## 1. Calls-per-Function"
   ]
  },
  {
   "cell_type": "markdown",
   "metadata": {
    "tags": []
   },
   "source": [
    "### `calls_per_func`"
   ]
  },
  {
   "cell_type": "code",
   "execution_count": null,
   "metadata": {
    "tags": []
   },
   "outputs": [],
   "source": [
    "# | export\n",
    "\n",
    "\n",
    "def calls_per_func(nb, out_dir=None):\n",
    "    nb_cell_code = get_cell_code(nb)\n",
    "    func_defs = _get_func_defs(nb_cell_code, out_dir)\n",
    "    func_calls = _count_func_calls(nb_cell_code, func_defs, out_dir)\n",
    "    return func_calls"
   ]
  },
  {
   "cell_type": "markdown",
   "metadata": {},
   "source": [
    "### IND: `calls_per_func_mean`"
   ]
  },
  {
   "cell_type": "code",
   "execution_count": null,
   "metadata": {
    "tags": []
   },
   "outputs": [],
   "source": [
    "# | export\n",
    "\n",
    "\n",
    "def calls_per_func_mean(nb, out_dir=None):\n",
    "    return pd.Series(calls_per_func(nb, out_dir)).mean()"
   ]
  },
  {
   "cell_type": "markdown",
   "metadata": {},
   "source": [
    "### IND: `calls_per_func_median`"
   ]
  },
  {
   "cell_type": "code",
   "execution_count": null,
   "metadata": {
    "tags": []
   },
   "outputs": [],
   "source": [
    "# | export\n",
    "\n",
    "\n",
    "def calls_per_func_median(nb, out_dir=None):\n",
    "    with warnings.catch_warnings():\n",
    "        warnings.filterwarnings(action=\"ignore\", message=\"Mean of empty slice\")\n",
    "        return pd.Series(calls_per_func(nb)).median()"
   ]
  },
  {
   "cell_type": "markdown",
   "metadata": {
    "tags": []
   },
   "source": [
    "replace these type of tests with known good notebook data"
   ]
  },
  {
   "cell_type": "code",
   "execution_count": null,
   "metadata": {
    "tags": []
   },
   "outputs": [],
   "source": [
    "assert round(calls_per_func_mean(read_nb(nbdev_path)), 2) == 2.07\n",
    "assert round(calls_per_func_mean(read_nb(nbdev_hq_path)), 2) == 2.31\n",
    "assert round(calls_per_func_mean(read_nb(non_nbdev_path)), 2) == 1.0\n",
    "assert round(calls_per_func_mean(read_nb(non_nbdev_lq_path)), 2) == 1.44\n",
    "assert pd.isnull(calls_per_func_mean(index))"
   ]
  },
  {
   "cell_type": "code",
   "execution_count": null,
   "metadata": {
    "tags": []
   },
   "outputs": [],
   "source": [
    "assert calls_per_func_median(read_nb(nbdev_path)) == 1.0\n",
    "assert round(calls_per_func_median(read_nb(nbdev_hq_path)), 2) == 1.0\n",
    "assert round(calls_per_func_median(read_nb(non_nbdev_path)), 2) == 1.0\n",
    "assert round(calls_per_func_median(read_nb(non_nbdev_lq_path)), 2) == 1.0\n",
    "assert pd.isnull(calls_per_func_median(index))"
   ]
  },
  {
   "cell_type": "markdown",
   "metadata": {
    "tags": []
   },
   "source": [
    "## 2. Tests per Function"
   ]
  },
  {
   "cell_type": "code",
   "execution_count": null,
   "metadata": {
    "tags": []
   },
   "outputs": [],
   "source": [
    "asserted_code = r\"\"\"\n",
    "\n",
    "%load_ext autoreload\n",
    "%autoreload 2\n",
    "\n",
    "def something():\n",
    "    pass; pass # in x 2\n",
    "    \n",
    "assert True\n",
    "\n",
    "#| export\n",
    "\n",
    "def convert_nb(\n",
    "    nb_path: Path,\n",
    "    silent: bool = True,\n",
    "):\n",
    "     nb = read_nb(nb_path)  # in\n",
    "     lib_name = get_config().get(\"lib_name\")  # in\n",
    "     module_name = find_default_export(nb[\"cells\"])  # in\n",
    "    \n",
    "x = [1,2,3] # out\n",
    "assert len(x) > 2\n",
    "assert something() is None # something +1\n",
    "\n",
    "def tr():\n",
    "    return True\n",
    "    \n",
    "def get_seg(num):\n",
    "    return 2\n",
    "    \n",
    "assert(tr)\n",
    "assert(tr()) # tr +1\n",
    "assert(tr() == 4) # tr +1\n",
    "assert(4 ==tr()) # tr +1\n",
    "assert 0 != 0\n",
    "assert \"' '\".join(tr(1)) == \"00\" # tr +1\n",
    "assert len(get_seg(50)) == 50 # get_seg +1\n",
    "assert max([int(x) for x in get_seg(100)]) == 99 # get_seg +1\n",
    "\n",
    "def single_ret():\n",
    "    pass\n",
    "def multival_ret():\n",
    "    pass\n",
    "def multi_val_part2():\n",
    "    pass\n",
    "    \n",
    "def untested():\n",
    "    1+2\n",
    "    \n",
    "def np_pandas():\n",
    "    1+1\n",
    "\n",
    "x = single_ret()\n",
    "assert x  ==0\n",
    "5 ==5 \n",
    "x,y,z = multival_ret()\n",
    "a,b = multi_val_part2()\n",
    "assert x  ==0\n",
    "assert 1 == y\n",
    "assert x == y == z\n",
    "assert 2 == 2 and x == z\n",
    "assert a == x or b == z\n",
    "assert b\n",
    "assert a == single_ret()\n",
    "assert multi_val_part() == multi_val_part2()\n",
    "assert b == multival_ret()\n",
    "\n",
    "X_train, y_test, n = np_pandas()\n",
    "assert X_train.isnull().sum().sum() == 0\n",
    "assert \"person_home_ownership\" not in X_train.columns\n",
    "assert len(y_test) > 0\n",
    "assert len(y_test) == round(0.2 * n)\n",
    "assert X_train.dtypes.all() in [\n",
    "    np.dtype(\"float64\"),\n",
    "    np.dtype(\"int64\"),\n",
    "    np.dtype(\"uint8\"),\n",
    "    np.dtype(\"bool\"),\n",
    "]\n",
    "assert y_test.dtype == np.dtype(\"int64\")\n",
    "assert y_test.isin([0, 1]).all()\n",
    "\n",
    "if nested: args, sys.argv[1:] = p.parse_known_args()\n",
    "\n",
    "# Expected total test counts\n",
    "#single_ret                  2\n",
    "#multival_ret                6\n",
    "#multi_val_part2             5\n",
    "#untested                    0\n",
    "#something                   1\n",
    "#nb_to_sagemaker_pipeline    0\n",
    "#tr                          4\n",
    "#get_seg                     2\n",
    "#np_pandas                   7\n",
    "\"\"\"\n",
    "\n",
    "import nbformat as nbf\n",
    "\n",
    "asserted_nb = nbf.v4.new_notebook()\n",
    "asserted_nb[\"cells\"] = [nbf.v4.new_code_cell(asserted_code)]"
   ]
  },
  {
   "cell_type": "markdown",
   "metadata": {},
   "source": [
    "### AST: `_count_inline_asserts`"
   ]
  },
  {
   "cell_type": "code",
   "execution_count": null,
   "metadata": {
    "tags": []
   },
   "outputs": [],
   "source": [
    "# | export\n",
    "\n",
    "\n",
    "def _count_inline_asserts(code, func_defs, out_dir=None):\n",
    "    inline_func_asserts = Counter({k: 0 for k in func_defs})\n",
    "\n",
    "    try:\n",
    "        for stmt in ast.walk(ast.parse(code)):\n",
    "            if isinstance(stmt, ast.Assert):\n",
    "                for assert_st in ast.walk(stmt):\n",
    "                    if isinstance(assert_st, ast.Call):\n",
    "                        if hasattr(assert_st.func, \"id\"):\n",
    "                            func_name = assert_st.func.id\n",
    "                        elif hasattr(assert_st.func, \"attr\"):\n",
    "                            func_name = assert_st.func.attr\n",
    "                        elif isinstance(assert_st.func, ast.Call) and hasattr(\n",
    "                            assert_st.func.func, \"id\"\n",
    "                        ):\n",
    "                            # Handle case where function name is result of another function call\n",
    "                            func_name = assert_st.func.func.id\n",
    "                            # Skip counting the outer function call\n",
    "                            continue\n",
    "                        else:\n",
    "                            continue\n",
    "\n",
    "                        if func_name in inline_func_asserts:\n",
    "                            inline_func_asserts[func_name] += 1\n",
    "    except AttributeError as ae:\n",
    "        if out_dir is not None:\n",
    "            debug_path = Path(out_dir, gen_parse_filename(code))\n",
    "            with open(debug_path, \"w\") as debug_file:\n",
    "                debug_file.write(code)\n",
    "            logging.getLogger().info(\n",
    "                f\"Parse failure code dump written to: {debug_path}\"\n",
    "            )\n",
    "        raise CodeParseError(\n",
    "            f\"Logic error parsing code statement: {stmt} with properties: {stmt.__dict__}\",\n",
    "            ae,\n",
    "        )\n",
    "    return inline_func_asserts"
   ]
  },
  {
   "cell_type": "code",
   "execution_count": null,
   "metadata": {
    "tags": []
   },
   "outputs": [],
   "source": [
    "test_code = \"\"\"\n",
    "assert foo()\n",
    "assert bar(foo())\n",
    "assert baz(foo(), bar())\n",
    "assert qux()\n",
    "assert risinstance(int)(1)\n",
    "\"\"\"\n",
    "\n",
    "test_func_defs = [\"foo\", \"bar\", \"baz\", \"qux\", \"quux\", \"risinstance\"]\n",
    "\n",
    "expected_counts = {\n",
    "    \"foo\": 3,  # Directly in the first assert, and nested in the second\n",
    "    \"bar\": 2,  # Directly in the second assert, and nested in the third\n",
    "    \"baz\": 1,  # Directly in the third assert\n",
    "    \"qux\": 1,  # Directly in the fourth assert\n",
    "    \"quux\": 0,  # Not present in any assert\n",
    "    \"risinstance\": 1,\n",
    "}\n",
    "\n",
    "\n",
    "actual_counts = _count_inline_asserts(test_code, test_func_defs)\n",
    "\n",
    "assert (\n",
    "    actual_counts == expected_counts\n",
    "), f\"Expected: {expected_counts}, but got: {actual_counts}\""
   ]
  },
  {
   "cell_type": "markdown",
   "metadata": {},
   "source": [
    "### AST: `_count_func_ret_asserts`"
   ]
  },
  {
   "cell_type": "code",
   "execution_count": null,
   "metadata": {
    "tags": []
   },
   "outputs": [],
   "source": [
    "# | export\n",
    "\n",
    "\n",
    "def _count_func_ret_asserts(code, out_dir=None):\n",
    "    ret_vals = {}\n",
    "    func_defs = _get_func_defs(code)\n",
    "    func_ret_asserts = Counter({k: 0 for k in func_defs})\n",
    "    assert_func_counts = {}\n",
    "    try:\n",
    "        for stmt in ast.walk(ast.parse(code)):\n",
    "            if isinstance(stmt, ast.Assign) and isinstance(stmt.value, ast.Call):\n",
    "                _update_ret_vals(stmt, ret_vals)\n",
    "\n",
    "            if isinstance(stmt, ast.Assert):\n",
    "                assert_func_counts[id(stmt)] = []\n",
    "                traverse_asserts(\n",
    "                    stmt, ret_vals, func_ret_asserts, assert_func_counts, stmt.test\n",
    "                )\n",
    "    except AttributeError as ae:\n",
    "        if out_dir is not None:\n",
    "            debug_path = Path(out_dir, gen_parse_filename(code))\n",
    "            with open(debug_path, \"w\") as debug_file:\n",
    "                debug_file.write(code)\n",
    "            logging.getLogger().info(\n",
    "                f\"Parse failure code dump written to: {debug_path}\"\n",
    "            )\n",
    "        raise CodeParseError(\n",
    "            f\"Logic error parsing code statement: {stmt} with properties: {stmt.__dict__}\",\n",
    "            ae,\n",
    "        )\n",
    "    return func_ret_asserts"
   ]
  },
  {
   "cell_type": "code",
   "execution_count": null,
   "metadata": {
    "tags": []
   },
   "outputs": [],
   "source": [
    "# | export\n",
    "\n",
    "\n",
    "def _incr_assert_count(\n",
    "    assert_id, ret_vals, func_ret_asserts, assert_func_counts, return_var\n",
    "):\n",
    "    if (\n",
    "        return_var in ret_vals\n",
    "        and ret_vals[return_var] not in assert_func_counts[assert_id]\n",
    "    ):\n",
    "        assert_func_counts[assert_id].append(ret_vals[return_var])\n",
    "        if return_var in ret_vals:\n",
    "            func_ret_asserts[ret_vals[return_var]] += 1"
   ]
  },
  {
   "cell_type": "markdown",
   "metadata": {},
   "source": [
    "### `_update_ret_vals`"
   ]
  },
  {
   "cell_type": "code",
   "execution_count": null,
   "metadata": {
    "tags": []
   },
   "outputs": [],
   "source": [
    "# | export\n",
    "\n",
    "\n",
    "def _update_ret_vals(stmt, ret_vals):\n",
    "    func_name = None\n",
    "\n",
    "    if isinstance(stmt.value.func, ast.Name):\n",
    "        func_name = stmt.value.func.id\n",
    "    elif isinstance(stmt.value.func, ast.Attribute):\n",
    "        func_name = stmt.value.func.attr\n",
    "\n",
    "    if func_name:\n",
    "        if isinstance(stmt.targets[0], ast.Name):\n",
    "            ret_vals[stmt.targets[0].id] = func_name\n",
    "        elif isinstance(stmt.targets[0], ast.Tuple):\n",
    "            for elts in stmt.targets[0].elts:\n",
    "                if isinstance(elts, ast.Name):\n",
    "                    ret_vals[elts.id] = func_name"
   ]
  },
  {
   "cell_type": "markdown",
   "metadata": {},
   "source": [
    "### `traverse_asserts`"
   ]
  },
  {
   "cell_type": "code",
   "execution_count": null,
   "metadata": {
    "tags": []
   },
   "outputs": [],
   "source": [
    "# | export\n",
    "\n",
    "\n",
    "def traverse_asserts(\n",
    "    stmt: ast.AST, ret_vals, func_ret_asserts, assert_func_counts, node: ast.AST\n",
    "):\n",
    "    # increment function assert count if return val can be matched to defined function\n",
    "    if hasattr(node, \"id\"):\n",
    "        _incr_assert_count(\n",
    "            id(stmt),\n",
    "            ret_vals,\n",
    "            func_ret_asserts,\n",
    "            assert_func_counts,\n",
    "            node.id,\n",
    "        )\n",
    "    # Perform recursive traversals\n",
    "    children_attrs = (\"left\", \"func\", \"value\", \"comparators\", \"args\", \"values\")\n",
    "    for attr in children_attrs:\n",
    "        child = getattr(node, attr, None)\n",
    "        if isinstance(child, list):\n",
    "            for item in child:\n",
    "                traverse_asserts(\n",
    "                    stmt, ret_vals, func_ret_asserts, assert_func_counts, item\n",
    "                )\n",
    "        elif child is not None:\n",
    "            traverse_asserts(\n",
    "                stmt, ret_vals, func_ret_asserts, assert_func_counts, child\n",
    "            )"
   ]
  },
  {
   "cell_type": "code",
   "execution_count": null,
   "metadata": {
    "tags": []
   },
   "outputs": [],
   "source": [
    "func_ret_asserts_expected = Counter(\n",
    "    {\n",
    "        \"something\": 1,\n",
    "        \"tr\": 0,\n",
    "        \"get_seg\": 0,\n",
    "        \"convert_nb\": 0,\n",
    "        \"single_ret\": 1,\n",
    "        \"multival_ret\": 5,\n",
    "        \"multi_val_part2\": 4,\n",
    "        \"untested\": 0,\n",
    "        \"np_pandas\": 7,\n",
    "    }\n",
    ")\n",
    "func_ret_asserts_actual = _count_func_ret_asserts(get_cell_code(asserted_nb))\n",
    "assert sorted(func_ret_asserts_actual) == sorted(func_ret_asserts_expected)"
   ]
  },
  {
   "cell_type": "markdown",
   "metadata": {
    "tags": []
   },
   "source": [
    "### `tests_per_function`"
   ]
  },
  {
   "cell_type": "code",
   "execution_count": null,
   "metadata": {
    "tags": []
   },
   "outputs": [],
   "source": [
    "# | export\n",
    "\n",
    "\n",
    "def tests_per_function(nb, out_dir=None):\n",
    "    nb_cell_code = \"\\n\".join(\n",
    "        [\n",
    "            remove_ipython_special_directives(c[\"source\"])\n",
    "            for c in nb.cells\n",
    "            if c[\"cell_type\"] == \"code\"\n",
    "        ]\n",
    "    )\n",
    "    return _tests_per_function_code(nb_cell_code, out_dir)"
   ]
  },
  {
   "cell_type": "markdown",
   "metadata": {},
   "source": [
    "### `_tests_per_function_code`"
   ]
  },
  {
   "cell_type": "code",
   "execution_count": null,
   "metadata": {
    "tags": []
   },
   "outputs": [],
   "source": [
    "# | export\n",
    "\n",
    "\n",
    "def _tests_per_function_code(nb_cell_code, out_dir=None):\n",
    "    func_ret_asserts = _count_func_ret_asserts(nb_cell_code, out_dir)\n",
    "    inline_asserts = _count_inline_asserts(\n",
    "        nb_cell_code, _get_func_defs(nb_cell_code, out_dir), out_dir\n",
    "    )\n",
    "\n",
    "    func_ret_asserts.update(inline_asserts)\n",
    "    return pd.Series(func_ret_asserts)"
   ]
  },
  {
   "cell_type": "code",
   "execution_count": null,
   "metadata": {
    "tags": []
   },
   "outputs": [],
   "source": [
    "tests_count_actual = _tests_per_function_code(get_cell_code(asserted_nb)).sort_index()\n",
    "tests_count_expected = pd.Series(\n",
    "    {\n",
    "        \"single_ret\": 2,\n",
    "        \"multival_ret\": 6,\n",
    "        \"multi_val_part2\": 5,\n",
    "        \"untested\": 0,\n",
    "        \"something\": 1,\n",
    "        \"convert_nb\": 0,\n",
    "        \"tr\": 4,\n",
    "        \"get_seg\": 2,\n",
    "        \"np_pandas\": 7,\n",
    "    }\n",
    ").sort_index()\n",
    "assert tests_count_actual.equals(tests_count_expected)"
   ]
  },
  {
   "cell_type": "code",
   "execution_count": null,
   "metadata": {
    "tags": []
   },
   "outputs": [
    {
     "data": {
      "text/plain": [
       "foo     0\n",
       "subs    1\n",
       "dtype: int64"
      ]
     },
     "execution_count": null,
     "metadata": {},
     "output_type": "execute_result"
    }
   ],
   "source": [
    "subscript_code = \"\"\"\n",
    "proc = Processor()\n",
    "exp = proc.subs.subs(4)\n",
    "assert x.prop== exp\n",
    "def foo():\n",
    "    return proc\n",
    "flip, bar = foo().subs\n",
    "assert 7 == flip.subs()\n",
    "assert 7 == bar.subs\n",
    "a,b,c= d\n",
    "c.one = e\n",
    "assert b.two.three == f\n",
    "y = getattr(super(), name)(list(x), **kwargs)\n",
    "\"\"\"\n",
    "_tests_per_function_code(subscript_code)"
   ]
  },
  {
   "cell_type": "markdown",
   "metadata": {},
   "source": [
    "### IND: `tests_per_func_mean`"
   ]
  },
  {
   "cell_type": "code",
   "execution_count": null,
   "metadata": {
    "tags": []
   },
   "outputs": [],
   "source": [
    "# | export\n",
    "\n",
    "\n",
    "def tests_per_func_mean(nb, out_dir=None):\n",
    "    return tests_per_function(nb, out_dir).mean()"
   ]
  },
  {
   "cell_type": "markdown",
   "metadata": {},
   "source": [
    "### IND: `tests_func_coverage_pct`"
   ]
  },
  {
   "cell_type": "code",
   "execution_count": null,
   "metadata": {
    "tags": []
   },
   "outputs": [],
   "source": [
    "# | export\n",
    "\n",
    "\n",
    "def tests_func_coverage_pct(nb, out_dir=None):\n",
    "    return tests_per_function(nb, out_dir).clip(upper=1).mean() * 100"
   ]
  },
  {
   "cell_type": "code",
   "execution_count": null,
   "metadata": {
    "tags": []
   },
   "outputs": [],
   "source": [
    "assert _tests_per_function_code(get_cell_code(asserted_nb)).mean() == 3.0\n",
    "assert (\n",
    "    _tests_per_function_code(get_cell_code(asserted_nb)).clip(upper=1).mean() * 100\n",
    "    > 75.0\n",
    ")"
   ]
  },
  {
   "cell_type": "code",
   "execution_count": null,
   "metadata": {
    "tags": []
   },
   "outputs": [],
   "source": [
    "assert tests_per_func_mean(nbdev_nb) > 0.5\n",
    "assert tests_per_func_mean(nbdev_hq_nb) > 0.5\n",
    "assert tests_per_func_mean(non_nbdev_nb) < 0.5\n",
    "assert tests_per_func_mean(non_nbdev_lq_nb) < 0.5"
   ]
  },
  {
   "cell_type": "code",
   "execution_count": null,
   "metadata": {
    "tags": []
   },
   "outputs": [],
   "source": [
    "assert tests_func_coverage_pct(nbdev_nb) > 20\n",
    "assert tests_func_coverage_pct(nbdev_hq_nb) > 20\n",
    "assert tests_func_coverage_pct(non_nbdev_nb) < 20\n",
    "assert tests_func_coverage_pct(non_nbdev_lq_nb) < 20"
   ]
  },
  {
   "cell_type": "markdown",
   "metadata": {
    "tags": []
   },
   "source": [
    "## 3. In-function Percentage"
   ]
  },
  {
   "cell_type": "markdown",
   "metadata": {},
   "source": [
    "### AST: `calc_ifp`"
   ]
  },
  {
   "cell_type": "code",
   "execution_count": null,
   "metadata": {
    "tags": []
   },
   "outputs": [],
   "source": [
    "# | export\n",
    "\n",
    "\n",
    "def calc_ifp(code, out_dir=None):\n",
    "    stmts_in_func = 0\n",
    "    stmts_outside_func = 0\n",
    "    try:\n",
    "        for stmt in ast.walk(ast.parse(remove_ipython_special_directives(code))):\n",
    "            if isinstance(stmt, ast.FunctionDef) and not stmt.name.startswith(\"_\"):\n",
    "                for body_item in stmt.body:\n",
    "                    stmts_in_func += 1\n",
    "            elif isinstance(stmt, ast.Module):\n",
    "                for body_item in stmt.body:\n",
    "                    if not isinstance(body_item, ast.FunctionDef):\n",
    "                        stmts_outside_func += 1\n",
    "    except AttributeError as ae:\n",
    "        if out_dir is not None:\n",
    "            debug_path = Path(out_dir, gen_parse_filename(code))\n",
    "            with open(debug_path, \"w\") as debug_file:\n",
    "                debug_file.write(code)\n",
    "            logging.getLogger().info(\n",
    "                f\"Parse failure code dump written to: {debug_path}\"\n",
    "            )\n",
    "        raise CodeParseError(\n",
    "            f\"Logic error parsing code statement: {stmt} with properties: {stmt.__dict__}\",\n",
    "            ae,\n",
    "        )\n",
    "    return (\n",
    "        0\n",
    "        if stmts_outside_func + stmts_in_func == 0\n",
    "        else (stmts_in_func / (stmts_outside_func + stmts_in_func)) * 100\n",
    "    )"
   ]
  },
  {
   "cell_type": "code",
   "execution_count": null,
   "metadata": {
    "tags": []
   },
   "outputs": [],
   "source": [
    "assert (calc_ifp(nb_cell_code)) == (5 / (5 + 6)) * 100"
   ]
  },
  {
   "cell_type": "markdown",
   "metadata": {
    "tags": []
   },
   "source": [
    "### IND: `in_func_pct`"
   ]
  },
  {
   "cell_type": "code",
   "execution_count": null,
   "metadata": {
    "tags": []
   },
   "outputs": [],
   "source": [
    "# | export\n",
    "\n",
    "\n",
    "def in_func_pct(nb, out_dir=None):\n",
    "    nb_cell_code = \"\\n\".join(\n",
    "        [\n",
    "            remove_ipython_special_directives(c[\"source\"])\n",
    "            for c in nb.cells\n",
    "            if c[\"cell_type\"] == \"code\"\n",
    "        ]\n",
    "    )\n",
    "    if nb_cell_code == \"\":\n",
    "        return np.nan\n",
    "    return calc_ifp(nb_cell_code, out_dir)"
   ]
  },
  {
   "cell_type": "code",
   "execution_count": null,
   "metadata": {
    "tags": []
   },
   "outputs": [],
   "source": [
    "assert in_func_pct(nbdev_nb) >= 0\n",
    "assert in_func_pct(nbdev_hq_nb) >= 0\n",
    "assert in_func_pct(non_nbdev_nb) >= 0\n",
    "assert in_func_pct(non_nbdev_lq_nb) >= 0\n",
    "assert pd.isnull(in_func_pct(index))"
   ]
  },
  {
   "cell_type": "markdown",
   "metadata": {
    "tags": []
   },
   "source": [
    "## 4. Markdown to Code Percent"
   ]
  },
  {
   "cell_type": "markdown",
   "metadata": {},
   "source": [
    "### IND: `markdown_code_pct`"
   ]
  },
  {
   "cell_type": "code",
   "execution_count": null,
   "metadata": {
    "tags": []
   },
   "outputs": [],
   "source": [
    "# | export\n",
    "\n",
    "\n",
    "def markdown_code_pct(nb, out_dir=None):\n",
    "    md_cells = [c for c in nb.cells if c[\"cell_type\"] == \"markdown\"]\n",
    "    code_cells = [c for c in nb.cells if c[\"cell_type\"] == \"code\"]\n",
    "    num_code_cells = len(code_cells)\n",
    "    if num_code_cells == 0:\n",
    "        return np.nan\n",
    "    num_md_cells = len(md_cells)\n",
    "    return (\n",
    "        100\n",
    "        if num_code_cells == 0\n",
    "        else (num_md_cells / (num_md_cells + num_code_cells)) * 100\n",
    "    )"
   ]
  },
  {
   "cell_type": "code",
   "execution_count": null,
   "metadata": {
    "tags": []
   },
   "outputs": [],
   "source": [
    "assert markdown_code_pct(nbdev_nb) >= 0\n",
    "assert markdown_code_pct(nbdev_hq_nb) >= 0\n",
    "assert markdown_code_pct(non_nbdev_nb) >= 0\n",
    "assert markdown_code_pct(non_nbdev_lq_nb) >= 0\n",
    "assert pd.isnull(markdown_code_pct(index))"
   ]
  },
  {
   "cell_type": "markdown",
   "metadata": {
    "tags": []
   },
   "source": [
    "## 5. Total Code Length"
   ]
  },
  {
   "cell_type": "markdown",
   "metadata": {},
   "source": [
    "### IND: `total_code_len`"
   ]
  },
  {
   "cell_type": "code",
   "execution_count": null,
   "metadata": {
    "tags": []
   },
   "outputs": [],
   "source": [
    "# | export\n",
    "\n",
    "\n",
    "def total_code_len(nb, out_dir=None):\n",
    "    return sum([len(c[\"source\"]) for c in nb.cells if c[\"cell_type\"] == \"code\"])"
   ]
  },
  {
   "cell_type": "code",
   "execution_count": null,
   "metadata": {
    "tags": []
   },
   "outputs": [],
   "source": [
    "assert total_code_len(nbdev_nb) >= 50\n",
    "assert total_code_len(nbdev_hq_nb) >= 50\n",
    "assert total_code_len(non_nbdev_nb) >= 50\n",
    "assert total_code_len(non_nbdev_lq_nb) >= 50\n",
    "assert total_code_len(index) == 0"
   ]
  },
  {
   "cell_type": "markdown",
   "metadata": {},
   "source": [
    "## 6. Lines-of-code per Markdown Section"
   ]
  },
  {
   "cell_type": "markdown",
   "metadata": {},
   "source": [
    "### IND: `loc_per_md_section`"
   ]
  },
  {
   "cell_type": "code",
   "execution_count": null,
   "metadata": {
    "tags": []
   },
   "outputs": [],
   "source": [
    "# | export\n",
    "\n",
    "\n",
    "def loc_per_md_section(nb, out_dir=None):\n",
    "    num_md_sections = len(\n",
    "        [\n",
    "            c[\"source\"]\n",
    "            for c in nb.cells\n",
    "            if c[\"cell_type\"] == \"markdown\" and c[\"source\"].strip().startswith(\"#\")\n",
    "        ]\n",
    "    )\n",
    "    tcl = total_code_len(nb)\n",
    "    if tcl == 0 or num_md_sections == 0:\n",
    "        result = np.nan\n",
    "    else:\n",
    "        result = total_code_len(nb) / num_md_sections\n",
    "    return result"
   ]
  },
  {
   "cell_type": "code",
   "execution_count": null,
   "metadata": {
    "tags": []
   },
   "outputs": [],
   "source": [
    "assert loc_per_md_section(nbdev_nb) < 1000\n",
    "assert loc_per_md_section(nbdev_hq_nb) < 1000\n",
    "assert loc_per_md_section(non_nbdev_nb) is np.nan\n",
    "assert loc_per_md_section(non_nbdev_lq_nb) > 1000\n",
    "assert loc_per_md_section(index) is np.nan"
   ]
  },
  {
   "cell_type": "markdown",
   "metadata": {
    "tags": []
   },
   "source": [
    "# Quality Indicator Function Map\n",
    "\n",
    "> Add new quality indicators here to be used. Signature contract is nb -> number. TODO: provide a proper typed signature, handle bools."
   ]
  },
  {
   "cell_type": "code",
   "execution_count": null,
   "metadata": {
    "tags": []
   },
   "outputs": [],
   "source": [
    "# | export\n",
    "\n",
    "indicator_funcs = {\n",
    "    \"calls_per_func_mean\": calls_per_func_mean,\n",
    "    \"calls_per_func_median\": calls_per_func_median,\n",
    "    \"tests_per_func_mean\": tests_per_func_mean,\n",
    "    \"tests_func_coverage_pct\": tests_func_coverage_pct,\n",
    "    \"in_func_pct\": in_func_pct,\n",
    "    \"markdown_code_pct\": markdown_code_pct,\n",
    "    \"loc_per_md_section\": loc_per_md_section,\n",
    "    \"total_code_len\": total_code_len,\n",
    "}"
   ]
  }
 ],
 "metadata": {
  "kernelspec": {
   "display_name": "python3__SAGEMAKER_INTERNAL__arn:aws:sagemaker:eu-west-1:819792524951:image/sagemaker-distribution-cpu-v0",
   "language": "python",
   "name": "python3__SAGEMAKER_INTERNAL__arn:aws:sagemaker:eu-west-1:819792524951:image/sagemaker-distribution-cpu-v0"
  }
 },
 "nbformat": 4,
 "nbformat_minor": 4
}
