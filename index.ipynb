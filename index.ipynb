,cpf_median,cpf_mean,in_function_pct,asserts_function_ratio,iaf_median,iaf_mean,markdown_code_pct,total_code_len,include_in_scoring
scilint,2.0,3.107,50.49,1.679,0.0,1.393,15.584,19908,True
nbdev_high_quality,1.5,2.5,44.118,1.667,0.0,1.0,30.769,4978,True
nbdev,1.0,2.231,50.725,1.308,0.0,0.846,30.769,4918,True
non_nbdev_low_quality,1.0,1.625,45.0,0.0,0.0,0.0,15.789,2955,True
non_nbdev,1.0,1.0,35.714,0.0,0.0,0.0,0.0,1233,True
index,,,0.0,0.0,,,95.238,0,True
